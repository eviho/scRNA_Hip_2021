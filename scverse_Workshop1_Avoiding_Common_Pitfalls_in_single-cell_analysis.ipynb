{
  "cells": [
    {
      "cell_type": "markdown",
      "metadata": {
        "id": "view-in-github",
        "colab_type": "text"
      },
      "source": [
        "<a href=\"https://colab.research.google.com/github/eviho/10XHip2021_VihoEMG/blob/Main/scverse_Workshop1_Avoiding_Common_Pitfalls_in_single-cell_analysis.ipynb\" target=\"_parent\"><img src=\"https://colab.research.google.com/assets/colab-badge.svg\" alt=\"Open In Colab\"/></a>"
      ]
    },
    {
      "cell_type": "markdown",
      "id": "288aee7a-7ff8-4a30-ab96-d223e9e06111",
      "metadata": {
        "id": "288aee7a-7ff8-4a30-ab96-d223e9e06111"
      },
      "source": [
        "# Avoiding common pitfalls in single-cell analysis – hands-on guide through preprocessing, annotation, and differential expression.\n",
        "\n",
        "This live coding workshop is an introduction to preprocessing and the core analyses of single-cell sequencing. We will focus on the best practices while avoiding pitfalls that are commonly missed or leftover from earlier single-cell recommendations. We will briefly cover background correction, outlier filtering, transformation, and integration. The emphasis of this workshop will be annotation, differential expression, and pathway analysis. Each attendee will have access to a dataset and optional analysis environment.\n",
        "\n",
        "This will cover [best practices](https://www.sc-best-practices.org/preamble.html) and common mistakes people make in single-cell RNA analysis. Some concepts can be tranlatable to other modalities, e.g., ATAC"
      ]
    },
    {
      "cell_type": "markdown",
      "id": "d8ac2fb7-d96d-4030-a818-d433eeb3f445",
      "metadata": {
        "id": "d8ac2fb7-d96d-4030-a818-d433eeb3f445"
      },
      "source": [
        "**Instructor:**  \n",
        "*Mark A Sanborn*  \n",
        "F31 Predoctoral Fellow  \n",
        "University of Illinois College of Medicine  \n",
        "@Sanbomics"
      ]
    },
    {
      "cell_type": "code",
      "execution_count": null,
      "id": "32646c0a-b9ab-4319-90e7-1ec6f87167a0",
      "metadata": {
        "id": "32646c0a-b9ab-4319-90e7-1ec6f87167a0"
      },
      "outputs": [],
      "source": []
    },
    {
      "cell_type": "markdown",
      "id": "df154f75-f294-430d-ac35-61a208866d94",
      "metadata": {
        "id": "df154f75-f294-430d-ac35-61a208866d94"
      },
      "source": [
        "### Initiallizing environment"
      ]
    },
    {
      "cell_type": "code",
      "execution_count": 1,
      "id": "ce99b38a-6015-4554-83f4-424ec0b817fe",
      "metadata": {
        "id": "ce99b38a-6015-4554-83f4-424ec0b817fe",
        "outputId": "75d69c48-b794-4d7d-faf7-1d7a1b731841",
        "colab": {
          "base_uri": "https://localhost:8080/"
        }
      },
      "outputs": [
        {
          "output_type": "stream",
          "name": "stdout",
          "text": [
            "Collecting scanpy\n",
            "  Downloading scanpy-1.10.2-py3-none-any.whl.metadata (9.3 kB)\n",
            "Requirement already satisfied: matplotlib-venn in /usr/local/lib/python3.10/dist-packages (0.11.10)\n",
            "Collecting harmonypy\n",
            "  Downloading harmonypy-0.0.10-py3-none-any.whl.metadata (3.9 kB)\n",
            "Collecting leidenalg\n",
            "  Downloading leidenalg-0.10.2-cp38-abi3-manylinux_2_17_x86_64.manylinux2014_x86_64.whl.metadata (10 kB)\n",
            "Collecting celltypist\n",
            "  Downloading celltypist-1.6.3-py3-none-any.whl.metadata (43 kB)\n",
            "\u001b[2K     \u001b[90m━━━━━━━━━━━━━━━━━━━━━━━━━━━━━━━━━━━━━━━━\u001b[0m \u001b[32m43.7/43.7 kB\u001b[0m \u001b[31m1.9 MB/s\u001b[0m eta \u001b[36m0:00:00\u001b[0m\n",
            "\u001b[?25hCollecting pydeseq2\n",
            "  Downloading pydeseq2-0.4.11-py3-none-any.whl.metadata (7.0 kB)\n",
            "Collecting gseapy\n",
            "  Downloading gseapy-1.1.3-cp310-cp310-manylinux_2_17_x86_64.manylinux2014_x86_64.whl.metadata (11 kB)\n",
            "Collecting doubletdetection\n",
            "  Downloading doubletdetection-4.2-py3-none-any.whl.metadata (4.8 kB)\n",
            "Collecting anndata>=0.8 (from scanpy)\n",
            "  Downloading anndata-0.10.9-py3-none-any.whl.metadata (6.9 kB)\n",
            "Requirement already satisfied: h5py>=3.1 in /usr/local/lib/python3.10/dist-packages (from scanpy) (3.11.0)\n",
            "Requirement already satisfied: joblib in /usr/local/lib/python3.10/dist-packages (from scanpy) (1.4.2)\n",
            "Collecting legacy-api-wrap>=1.4 (from scanpy)\n",
            "  Downloading legacy_api_wrap-1.4-py3-none-any.whl.metadata (1.8 kB)\n",
            "Requirement already satisfied: matplotlib>=3.6 in /usr/local/lib/python3.10/dist-packages (from scanpy) (3.7.1)\n",
            "Requirement already satisfied: natsort in /usr/local/lib/python3.10/dist-packages (from scanpy) (8.4.0)\n",
            "Requirement already satisfied: networkx>=2.7 in /usr/local/lib/python3.10/dist-packages (from scanpy) (3.3)\n",
            "Requirement already satisfied: numba>=0.56 in /usr/local/lib/python3.10/dist-packages (from scanpy) (0.60.0)\n",
            "Requirement already satisfied: numpy<2,>=1.23 in /usr/local/lib/python3.10/dist-packages (from scanpy) (1.26.4)\n",
            "Requirement already satisfied: packaging>=21.3 in /usr/local/lib/python3.10/dist-packages (from scanpy) (24.1)\n",
            "Requirement already satisfied: pandas>=1.5 in /usr/local/lib/python3.10/dist-packages (from scanpy) (2.1.4)\n",
            "Requirement already satisfied: patsy in /usr/local/lib/python3.10/dist-packages (from scanpy) (0.5.6)\n",
            "Collecting pynndescent>=0.5 (from scanpy)\n",
            "  Downloading pynndescent-0.5.13-py3-none-any.whl.metadata (6.8 kB)\n",
            "Requirement already satisfied: scikit-learn>=0.24 in /usr/local/lib/python3.10/dist-packages (from scanpy) (1.3.2)\n",
            "Requirement already satisfied: scipy>=1.8 in /usr/local/lib/python3.10/dist-packages (from scanpy) (1.13.1)\n",
            "Requirement already satisfied: seaborn>=0.13 in /usr/local/lib/python3.10/dist-packages (from scanpy) (0.13.1)\n",
            "Collecting session-info (from scanpy)\n",
            "  Downloading session_info-1.0.0.tar.gz (24 kB)\n",
            "  Preparing metadata (setup.py) ... \u001b[?25l\u001b[?25hdone\n",
            "Requirement already satisfied: statsmodels>=0.13 in /usr/local/lib/python3.10/dist-packages (from scanpy) (0.14.2)\n",
            "Requirement already satisfied: tqdm in /usr/local/lib/python3.10/dist-packages (from scanpy) (4.66.5)\n",
            "Collecting umap-learn!=0.5.0,>=0.5 (from scanpy)\n",
            "  Downloading umap_learn-0.5.6-py3-none-any.whl.metadata (21 kB)\n",
            "Collecting igraph<0.12,>=0.10.0 (from leidenalg)\n",
            "  Downloading igraph-0.11.6-cp39-abi3-manylinux_2_17_x86_64.manylinux2014_x86_64.whl.metadata (3.9 kB)\n",
            "Requirement already satisfied: openpyxl>=3.0.4 in /usr/local/lib/python3.10/dist-packages (from celltypist) (3.1.5)\n",
            "Requirement already satisfied: click>=7.1.2 in /usr/local/lib/python3.10/dist-packages (from celltypist) (8.1.7)\n",
            "Requirement already satisfied: requests>=2.23.0 in /usr/local/lib/python3.10/dist-packages (from celltypist) (2.32.3)\n",
            "Requirement already satisfied: ipywidgets in /usr/local/lib/python3.10/dist-packages (from doubletdetection) (7.7.1)\n",
            "Collecting louvain (from doubletdetection)\n",
            "  Downloading louvain-0.8.2-cp310-cp310-manylinux_2_17_x86_64.manylinux2014_x86_64.whl.metadata (1.5 kB)\n",
            "Collecting phenograph (from doubletdetection)\n",
            "  Downloading PhenoGraph-1.5.7-py3-none-any.whl.metadata (8.4 kB)\n",
            "Collecting array-api-compat!=1.5,>1.4 (from anndata>=0.8->scanpy)\n",
            "  Downloading array_api_compat-1.8-py3-none-any.whl.metadata (1.5 kB)\n",
            "Requirement already satisfied: exceptiongroup in /usr/local/lib/python3.10/dist-packages (from anndata>=0.8->scanpy) (1.2.2)\n",
            "Collecting texttable>=1.6.2 (from igraph<0.12,>=0.10.0->leidenalg)\n",
            "  Downloading texttable-1.7.0-py2.py3-none-any.whl.metadata (9.8 kB)\n",
            "Requirement already satisfied: contourpy>=1.0.1 in /usr/local/lib/python3.10/dist-packages (from matplotlib>=3.6->scanpy) (1.3.0)\n",
            "Requirement already satisfied: cycler>=0.10 in /usr/local/lib/python3.10/dist-packages (from matplotlib>=3.6->scanpy) (0.12.1)\n",
            "Requirement already satisfied: fonttools>=4.22.0 in /usr/local/lib/python3.10/dist-packages (from matplotlib>=3.6->scanpy) (4.53.1)\n",
            "Requirement already satisfied: kiwisolver>=1.0.1 in /usr/local/lib/python3.10/dist-packages (from matplotlib>=3.6->scanpy) (1.4.5)\n",
            "Requirement already satisfied: pillow>=6.2.0 in /usr/local/lib/python3.10/dist-packages (from matplotlib>=3.6->scanpy) (9.4.0)\n",
            "Requirement already satisfied: pyparsing>=2.3.1 in /usr/local/lib/python3.10/dist-packages (from matplotlib>=3.6->scanpy) (3.1.4)\n",
            "Requirement already satisfied: python-dateutil>=2.7 in /usr/local/lib/python3.10/dist-packages (from matplotlib>=3.6->scanpy) (2.8.2)\n",
            "Requirement already satisfied: llvmlite<0.44,>=0.43.0dev0 in /usr/local/lib/python3.10/dist-packages (from numba>=0.56->scanpy) (0.43.0)\n",
            "Requirement already satisfied: et-xmlfile in /usr/local/lib/python3.10/dist-packages (from openpyxl>=3.0.4->celltypist) (1.1.0)\n",
            "Requirement already satisfied: pytz>=2020.1 in /usr/local/lib/python3.10/dist-packages (from pandas>=1.5->scanpy) (2024.1)\n",
            "Requirement already satisfied: tzdata>=2022.1 in /usr/local/lib/python3.10/dist-packages (from pandas>=1.5->scanpy) (2024.1)\n",
            "Requirement already satisfied: charset-normalizer<4,>=2 in /usr/local/lib/python3.10/dist-packages (from requests>=2.23.0->celltypist) (3.3.2)\n",
            "Requirement already satisfied: idna<4,>=2.5 in /usr/local/lib/python3.10/dist-packages (from requests>=2.23.0->celltypist) (3.8)\n",
            "Requirement already satisfied: urllib3<3,>=1.21.1 in /usr/local/lib/python3.10/dist-packages (from requests>=2.23.0->celltypist) (2.0.7)\n",
            "Requirement already satisfied: certifi>=2017.4.17 in /usr/local/lib/python3.10/dist-packages (from requests>=2.23.0->celltypist) (2024.8.30)\n",
            "Requirement already satisfied: threadpoolctl>=2.0.0 in /usr/local/lib/python3.10/dist-packages (from scikit-learn>=0.24->scanpy) (3.5.0)\n",
            "Requirement already satisfied: six in /usr/local/lib/python3.10/dist-packages (from patsy->scanpy) (1.16.0)\n",
            "Requirement already satisfied: ipykernel>=4.5.1 in /usr/local/lib/python3.10/dist-packages (from ipywidgets->doubletdetection) (5.5.6)\n",
            "Requirement already satisfied: ipython-genutils~=0.2.0 in /usr/local/lib/python3.10/dist-packages (from ipywidgets->doubletdetection) (0.2.0)\n",
            "Requirement already satisfied: traitlets>=4.3.1 in /usr/local/lib/python3.10/dist-packages (from ipywidgets->doubletdetection) (5.7.1)\n",
            "Requirement already satisfied: widgetsnbextension~=3.6.0 in /usr/local/lib/python3.10/dist-packages (from ipywidgets->doubletdetection) (3.6.8)\n",
            "Requirement already satisfied: ipython>=4.0.0 in /usr/local/lib/python3.10/dist-packages (from ipywidgets->doubletdetection) (7.34.0)\n",
            "Requirement already satisfied: jupyterlab-widgets>=1.0.0 in /usr/local/lib/python3.10/dist-packages (from ipywidgets->doubletdetection) (3.0.13)\n",
            "Requirement already satisfied: setuptools>=18.0.1 in /usr/local/lib/python3.10/dist-packages (from phenograph->doubletdetection) (71.0.4)\n",
            "Requirement already satisfied: psutil>4 in /usr/local/lib/python3.10/dist-packages (from phenograph->doubletdetection) (5.9.5)\n",
            "Collecting stdlib_list (from session-info->scanpy)\n",
            "  Downloading stdlib_list-0.10.0-py3-none-any.whl.metadata (3.3 kB)\n",
            "Requirement already satisfied: jupyter-client in /usr/local/lib/python3.10/dist-packages (from ipykernel>=4.5.1->ipywidgets->doubletdetection) (6.1.12)\n",
            "Requirement already satisfied: tornado>=4.2 in /usr/local/lib/python3.10/dist-packages (from ipykernel>=4.5.1->ipywidgets->doubletdetection) (6.3.3)\n",
            "Collecting jedi>=0.16 (from ipython>=4.0.0->ipywidgets->doubletdetection)\n",
            "  Using cached jedi-0.19.1-py2.py3-none-any.whl.metadata (22 kB)\n",
            "Requirement already satisfied: decorator in /usr/local/lib/python3.10/dist-packages (from ipython>=4.0.0->ipywidgets->doubletdetection) (4.4.2)\n",
            "Requirement already satisfied: pickleshare in /usr/local/lib/python3.10/dist-packages (from ipython>=4.0.0->ipywidgets->doubletdetection) (0.7.5)\n",
            "Requirement already satisfied: prompt-toolkit!=3.0.0,!=3.0.1,<3.1.0,>=2.0.0 in /usr/local/lib/python3.10/dist-packages (from ipython>=4.0.0->ipywidgets->doubletdetection) (3.0.47)\n",
            "Requirement already satisfied: pygments in /usr/local/lib/python3.10/dist-packages (from ipython>=4.0.0->ipywidgets->doubletdetection) (2.16.1)\n",
            "Requirement already satisfied: backcall in /usr/local/lib/python3.10/dist-packages (from ipython>=4.0.0->ipywidgets->doubletdetection) (0.2.0)\n",
            "Requirement already satisfied: matplotlib-inline in /usr/local/lib/python3.10/dist-packages (from ipython>=4.0.0->ipywidgets->doubletdetection) (0.1.7)\n",
            "Requirement already satisfied: pexpect>4.3 in /usr/local/lib/python3.10/dist-packages (from ipython>=4.0.0->ipywidgets->doubletdetection) (4.9.0)\n",
            "Requirement already satisfied: notebook>=4.4.1 in /usr/local/lib/python3.10/dist-packages (from widgetsnbextension~=3.6.0->ipywidgets->doubletdetection) (6.5.5)\n",
            "Requirement already satisfied: parso<0.9.0,>=0.8.3 in /usr/local/lib/python3.10/dist-packages (from jedi>=0.16->ipython>=4.0.0->ipywidgets->doubletdetection) (0.8.4)\n",
            "Requirement already satisfied: jinja2 in /usr/local/lib/python3.10/dist-packages (from notebook>=4.4.1->widgetsnbextension~=3.6.0->ipywidgets->doubletdetection) (3.1.4)\n",
            "Requirement already satisfied: pyzmq<25,>=17 in /usr/local/lib/python3.10/dist-packages (from notebook>=4.4.1->widgetsnbextension~=3.6.0->ipywidgets->doubletdetection) (24.0.1)\n",
            "Requirement already satisfied: argon2-cffi in /usr/local/lib/python3.10/dist-packages (from notebook>=4.4.1->widgetsnbextension~=3.6.0->ipywidgets->doubletdetection) (23.1.0)\n",
            "Requirement already satisfied: jupyter-core>=4.6.1 in /usr/local/lib/python3.10/dist-packages (from notebook>=4.4.1->widgetsnbextension~=3.6.0->ipywidgets->doubletdetection) (5.7.2)\n",
            "Requirement already satisfied: nbformat in /usr/local/lib/python3.10/dist-packages (from notebook>=4.4.1->widgetsnbextension~=3.6.0->ipywidgets->doubletdetection) (5.10.4)\n",
            "Requirement already satisfied: nbconvert>=5 in /usr/local/lib/python3.10/dist-packages (from notebook>=4.4.1->widgetsnbextension~=3.6.0->ipywidgets->doubletdetection) (6.5.4)\n",
            "Requirement already satisfied: nest-asyncio>=1.5 in /usr/local/lib/python3.10/dist-packages (from notebook>=4.4.1->widgetsnbextension~=3.6.0->ipywidgets->doubletdetection) (1.6.0)\n",
            "Requirement already satisfied: Send2Trash>=1.8.0 in /usr/local/lib/python3.10/dist-packages (from notebook>=4.4.1->widgetsnbextension~=3.6.0->ipywidgets->doubletdetection) (1.8.3)\n",
            "Requirement already satisfied: terminado>=0.8.3 in /usr/local/lib/python3.10/dist-packages (from notebook>=4.4.1->widgetsnbextension~=3.6.0->ipywidgets->doubletdetection) (0.18.1)\n",
            "Requirement already satisfied: prometheus-client in /usr/local/lib/python3.10/dist-packages (from notebook>=4.4.1->widgetsnbextension~=3.6.0->ipywidgets->doubletdetection) (0.20.0)\n",
            "Requirement already satisfied: nbclassic>=0.4.7 in /usr/local/lib/python3.10/dist-packages (from notebook>=4.4.1->widgetsnbextension~=3.6.0->ipywidgets->doubletdetection) (1.1.0)\n",
            "Requirement already satisfied: ptyprocess>=0.5 in /usr/local/lib/python3.10/dist-packages (from pexpect>4.3->ipython>=4.0.0->ipywidgets->doubletdetection) (0.7.0)\n",
            "Requirement already satisfied: wcwidth in /usr/local/lib/python3.10/dist-packages (from prompt-toolkit!=3.0.0,!=3.0.1,<3.1.0,>=2.0.0->ipython>=4.0.0->ipywidgets->doubletdetection) (0.2.13)\n",
            "Requirement already satisfied: platformdirs>=2.5 in /usr/local/lib/python3.10/dist-packages (from jupyter-core>=4.6.1->notebook>=4.4.1->widgetsnbextension~=3.6.0->ipywidgets->doubletdetection) (4.2.2)\n",
            "Requirement already satisfied: notebook-shim>=0.2.3 in /usr/local/lib/python3.10/dist-packages (from nbclassic>=0.4.7->notebook>=4.4.1->widgetsnbextension~=3.6.0->ipywidgets->doubletdetection) (0.2.4)\n",
            "Requirement already satisfied: lxml in /usr/local/lib/python3.10/dist-packages (from nbconvert>=5->notebook>=4.4.1->widgetsnbextension~=3.6.0->ipywidgets->doubletdetection) (4.9.4)\n",
            "Requirement already satisfied: beautifulsoup4 in /usr/local/lib/python3.10/dist-packages (from nbconvert>=5->notebook>=4.4.1->widgetsnbextension~=3.6.0->ipywidgets->doubletdetection) (4.12.3)\n",
            "Requirement already satisfied: bleach in /usr/local/lib/python3.10/dist-packages (from nbconvert>=5->notebook>=4.4.1->widgetsnbextension~=3.6.0->ipywidgets->doubletdetection) (6.1.0)\n",
            "Requirement already satisfied: defusedxml in /usr/local/lib/python3.10/dist-packages (from nbconvert>=5->notebook>=4.4.1->widgetsnbextension~=3.6.0->ipywidgets->doubletdetection) (0.7.1)\n",
            "Requirement already satisfied: entrypoints>=0.2.2 in /usr/local/lib/python3.10/dist-packages (from nbconvert>=5->notebook>=4.4.1->widgetsnbextension~=3.6.0->ipywidgets->doubletdetection) (0.4)\n",
            "Requirement already satisfied: jupyterlab-pygments in /usr/local/lib/python3.10/dist-packages (from nbconvert>=5->notebook>=4.4.1->widgetsnbextension~=3.6.0->ipywidgets->doubletdetection) (0.3.0)\n",
            "Requirement already satisfied: MarkupSafe>=2.0 in /usr/local/lib/python3.10/dist-packages (from nbconvert>=5->notebook>=4.4.1->widgetsnbextension~=3.6.0->ipywidgets->doubletdetection) (2.1.5)\n",
            "Requirement already satisfied: mistune<2,>=0.8.1 in /usr/local/lib/python3.10/dist-packages (from nbconvert>=5->notebook>=4.4.1->widgetsnbextension~=3.6.0->ipywidgets->doubletdetection) (0.8.4)\n",
            "Requirement already satisfied: nbclient>=0.5.0 in /usr/local/lib/python3.10/dist-packages (from nbconvert>=5->notebook>=4.4.1->widgetsnbextension~=3.6.0->ipywidgets->doubletdetection) (0.10.0)\n",
            "Requirement already satisfied: pandocfilters>=1.4.1 in /usr/local/lib/python3.10/dist-packages (from nbconvert>=5->notebook>=4.4.1->widgetsnbextension~=3.6.0->ipywidgets->doubletdetection) (1.5.1)\n",
            "Requirement already satisfied: tinycss2 in /usr/local/lib/python3.10/dist-packages (from nbconvert>=5->notebook>=4.4.1->widgetsnbextension~=3.6.0->ipywidgets->doubletdetection) (1.3.0)\n",
            "Requirement already satisfied: fastjsonschema>=2.15 in /usr/local/lib/python3.10/dist-packages (from nbformat->notebook>=4.4.1->widgetsnbextension~=3.6.0->ipywidgets->doubletdetection) (2.20.0)\n",
            "Requirement already satisfied: jsonschema>=2.6 in /usr/local/lib/python3.10/dist-packages (from nbformat->notebook>=4.4.1->widgetsnbextension~=3.6.0->ipywidgets->doubletdetection) (4.23.0)\n",
            "Requirement already satisfied: argon2-cffi-bindings in /usr/local/lib/python3.10/dist-packages (from argon2-cffi->notebook>=4.4.1->widgetsnbextension~=3.6.0->ipywidgets->doubletdetection) (21.2.0)\n",
            "Requirement already satisfied: attrs>=22.2.0 in /usr/local/lib/python3.10/dist-packages (from jsonschema>=2.6->nbformat->notebook>=4.4.1->widgetsnbextension~=3.6.0->ipywidgets->doubletdetection) (24.2.0)\n",
            "Requirement already satisfied: jsonschema-specifications>=2023.03.6 in /usr/local/lib/python3.10/dist-packages (from jsonschema>=2.6->nbformat->notebook>=4.4.1->widgetsnbextension~=3.6.0->ipywidgets->doubletdetection) (2023.12.1)\n",
            "Requirement already satisfied: referencing>=0.28.4 in /usr/local/lib/python3.10/dist-packages (from jsonschema>=2.6->nbformat->notebook>=4.4.1->widgetsnbextension~=3.6.0->ipywidgets->doubletdetection) (0.35.1)\n",
            "Requirement already satisfied: rpds-py>=0.7.1 in /usr/local/lib/python3.10/dist-packages (from jsonschema>=2.6->nbformat->notebook>=4.4.1->widgetsnbextension~=3.6.0->ipywidgets->doubletdetection) (0.20.0)\n",
            "Requirement already satisfied: jupyter-server<3,>=1.8 in /usr/local/lib/python3.10/dist-packages (from notebook-shim>=0.2.3->nbclassic>=0.4.7->notebook>=4.4.1->widgetsnbextension~=3.6.0->ipywidgets->doubletdetection) (1.24.0)\n",
            "Requirement already satisfied: cffi>=1.0.1 in /usr/local/lib/python3.10/dist-packages (from argon2-cffi-bindings->argon2-cffi->notebook>=4.4.1->widgetsnbextension~=3.6.0->ipywidgets->doubletdetection) (1.17.0)\n",
            "Requirement already satisfied: soupsieve>1.2 in /usr/local/lib/python3.10/dist-packages (from beautifulsoup4->nbconvert>=5->notebook>=4.4.1->widgetsnbextension~=3.6.0->ipywidgets->doubletdetection) (2.6)\n",
            "Requirement already satisfied: webencodings in /usr/local/lib/python3.10/dist-packages (from bleach->nbconvert>=5->notebook>=4.4.1->widgetsnbextension~=3.6.0->ipywidgets->doubletdetection) (0.5.1)\n",
            "Requirement already satisfied: pycparser in /usr/local/lib/python3.10/dist-packages (from cffi>=1.0.1->argon2-cffi-bindings->argon2-cffi->notebook>=4.4.1->widgetsnbextension~=3.6.0->ipywidgets->doubletdetection) (2.22)\n",
            "Requirement already satisfied: anyio<4,>=3.1.0 in /usr/local/lib/python3.10/dist-packages (from jupyter-server<3,>=1.8->notebook-shim>=0.2.3->nbclassic>=0.4.7->notebook>=4.4.1->widgetsnbextension~=3.6.0->ipywidgets->doubletdetection) (3.7.1)\n",
            "Requirement already satisfied: websocket-client in /usr/local/lib/python3.10/dist-packages (from jupyter-server<3,>=1.8->notebook-shim>=0.2.3->nbclassic>=0.4.7->notebook>=4.4.1->widgetsnbextension~=3.6.0->ipywidgets->doubletdetection) (1.8.0)\n",
            "Requirement already satisfied: sniffio>=1.1 in /usr/local/lib/python3.10/dist-packages (from anyio<4,>=3.1.0->jupyter-server<3,>=1.8->notebook-shim>=0.2.3->nbclassic>=0.4.7->notebook>=4.4.1->widgetsnbextension~=3.6.0->ipywidgets->doubletdetection) (1.3.1)\n",
            "Downloading scanpy-1.10.2-py3-none-any.whl (2.1 MB)\n",
            "\u001b[2K   \u001b[90m━━━━━━━━━━━━━━━━━━━━━━━━━━━━━━━━━━━━━━━━\u001b[0m \u001b[32m2.1/2.1 MB\u001b[0m \u001b[31m13.0 MB/s\u001b[0m eta \u001b[36m0:00:00\u001b[0m\n",
            "\u001b[?25hDownloading harmonypy-0.0.10-py3-none-any.whl (20 kB)\n",
            "Downloading leidenalg-0.10.2-cp38-abi3-manylinux_2_17_x86_64.manylinux2014_x86_64.whl (2.0 MB)\n",
            "\u001b[2K   \u001b[90m━━━━━━━━━━━━━━━━━━━━━━━━━━━━━━━━━━━━━━━━\u001b[0m \u001b[32m2.0/2.0 MB\u001b[0m \u001b[31m23.7 MB/s\u001b[0m eta \u001b[36m0:00:00\u001b[0m\n",
            "\u001b[?25hDownloading celltypist-1.6.3-py3-none-any.whl (7.3 MB)\n",
            "\u001b[2K   \u001b[90m━━━━━━━━━━━━━━━━━━━━━━━━━━━━━━━━━━━━━━━━\u001b[0m \u001b[32m7.3/7.3 MB\u001b[0m \u001b[31m31.7 MB/s\u001b[0m eta \u001b[36m0:00:00\u001b[0m\n",
            "\u001b[?25hDownloading pydeseq2-0.4.11-py3-none-any.whl (45 kB)\n",
            "\u001b[2K   \u001b[90m━━━━━━━━━━━━━━━━━━━━━━━━━━━━━━━━━━━━━━━━\u001b[0m \u001b[32m46.0/46.0 kB\u001b[0m \u001b[31m2.7 MB/s\u001b[0m eta \u001b[36m0:00:00\u001b[0m\n",
            "\u001b[?25hDownloading gseapy-1.1.3-cp310-cp310-manylinux_2_17_x86_64.manylinux2014_x86_64.whl (552 kB)\n",
            "\u001b[2K   \u001b[90m━━━━━━━━━━━━━━━━━━━━━━━━━━━━━━━━━━━━━━━━\u001b[0m \u001b[32m552.9/552.9 kB\u001b[0m \u001b[31m6.7 MB/s\u001b[0m eta \u001b[36m0:00:00\u001b[0m\n",
            "\u001b[?25hDownloading doubletdetection-4.2-py3-none-any.whl (11 kB)\n",
            "Downloading anndata-0.10.9-py3-none-any.whl (128 kB)\n",
            "\u001b[2K   \u001b[90m━━━━━━━━━━━━━━━━━━━━━━━━━━━━━━━━━━━━━━━━\u001b[0m \u001b[32m129.0/129.0 kB\u001b[0m \u001b[31m6.1 MB/s\u001b[0m eta \u001b[36m0:00:00\u001b[0m\n",
            "\u001b[?25hDownloading igraph-0.11.6-cp39-abi3-manylinux_2_17_x86_64.manylinux2014_x86_64.whl (3.1 MB)\n",
            "\u001b[2K   \u001b[90m━━━━━━━━━━━━━━━━━━━━━━━━━━━━━━━━━━━━━━━━\u001b[0m \u001b[32m3.1/3.1 MB\u001b[0m \u001b[31m40.9 MB/s\u001b[0m eta \u001b[36m0:00:00\u001b[0m\n",
            "\u001b[?25hDownloading legacy_api_wrap-1.4-py3-none-any.whl (15 kB)\n",
            "Downloading pynndescent-0.5.13-py3-none-any.whl (56 kB)\n",
            "\u001b[2K   \u001b[90m━━━━━━━━━━━━━━━━━━━━━━━━━━━━━━━━━━━━━━━━\u001b[0m \u001b[32m56.9/56.9 kB\u001b[0m \u001b[31m3.1 MB/s\u001b[0m eta \u001b[36m0:00:00\u001b[0m\n",
            "\u001b[?25hDownloading umap_learn-0.5.6-py3-none-any.whl (85 kB)\n",
            "\u001b[2K   \u001b[90m━━━━━━━━━━━━━━━━━━━━━━━━━━━━━━━━━━━━━━━━\u001b[0m \u001b[32m85.7/85.7 kB\u001b[0m \u001b[31m4.6 MB/s\u001b[0m eta \u001b[36m0:00:00\u001b[0m\n",
            "\u001b[?25hDownloading louvain-0.8.2-cp310-cp310-manylinux_2_17_x86_64.manylinux2014_x86_64.whl (1.1 MB)\n",
            "\u001b[2K   \u001b[90m━━━━━━━━━━━━━━━━━━━━━━━━━━━━━━━━━━━━━━━━\u001b[0m \u001b[32m1.1/1.1 MB\u001b[0m \u001b[31m35.7 MB/s\u001b[0m eta \u001b[36m0:00:00\u001b[0m\n",
            "\u001b[?25hDownloading PhenoGraph-1.5.7-py3-none-any.whl (159 kB)\n",
            "\u001b[2K   \u001b[90m━━━━━━━━━━━━━━━━━━━━━━━━━━━━━━━━━━━━━━━━\u001b[0m \u001b[32m159.6/159.6 kB\u001b[0m \u001b[31m6.3 MB/s\u001b[0m eta \u001b[36m0:00:00\u001b[0m\n",
            "\u001b[?25hDownloading array_api_compat-1.8-py3-none-any.whl (38 kB)\n",
            "Downloading texttable-1.7.0-py2.py3-none-any.whl (10 kB)\n",
            "Downloading stdlib_list-0.10.0-py3-none-any.whl (79 kB)\n",
            "\u001b[2K   \u001b[90m━━━━━━━━━━━━━━━━━━━━━━━━━━━━━━━━━━━━━━━━\u001b[0m \u001b[32m79.8/79.8 kB\u001b[0m \u001b[31m4.4 MB/s\u001b[0m eta \u001b[36m0:00:00\u001b[0m\n",
            "\u001b[?25hUsing cached jedi-0.19.1-py2.py3-none-any.whl (1.6 MB)\n",
            "Building wheels for collected packages: session-info\n",
            "  Building wheel for session-info (setup.py) ... \u001b[?25l\u001b[?25hdone\n",
            "  Created wheel for session-info: filename=session_info-1.0.0-py3-none-any.whl size=8023 sha256=92eb43b2e464eef4df702ee8d0f298c9c220a144dd36a559f76ac614ba55a6bd\n",
            "  Stored in directory: /root/.cache/pip/wheels/6a/aa/b9/eb5d4031476ec10802795b97ccf937b9bd998d68a9b268765a\n",
            "Successfully built session-info\n",
            "Installing collected packages: texttable, array-api-compat, stdlib_list, legacy-api-wrap, jedi, igraph, session-info, louvain, leidenalg, pynndescent, phenograph, harmonypy, gseapy, anndata, umap-learn, pydeseq2, scanpy, celltypist, doubletdetection\n",
            "Successfully installed anndata-0.10.9 array-api-compat-1.8 celltypist-1.6.3 doubletdetection-4.2 gseapy-1.1.3 harmonypy-0.0.10 igraph-0.11.6 jedi-0.19.1 legacy-api-wrap-1.4 leidenalg-0.10.2 louvain-0.8.2 phenograph-1.5.7 pydeseq2-0.4.11 pynndescent-0.5.13 scanpy-1.10.2 session-info-1.0.0 stdlib_list-0.10.0 texttable-1.7.0 umap-learn-0.5.6\n"
          ]
        }
      ],
      "source": [
        "%pip install scanpy matplotlib-venn harmonypy leidenalg celltypist pydeseq2 gseapy doubletdetection"
      ]
    },
    {
      "cell_type": "code",
      "execution_count": null,
      "id": "475ea958-8614-4eba-b825-82dcb87cf1a4",
      "metadata": {
        "id": "475ea958-8614-4eba-b825-82dcb87cf1a4"
      },
      "outputs": [],
      "source": [
        "#single-cell/RNA modules\n",
        "import scanpy as sc\n",
        "import scanpy.external as sce\n",
        "import doubletdetection\n",
        "import celltypist\n",
        "from celltypist import models\n",
        "from pydeseq2.dds import DeseqDataSet\n",
        "from pydeseq2.ds import DeseqStats\n",
        "import gseapy as gp\n",
        "\n",
        "#basic modules\n",
        "import os\n",
        "import random\n",
        "from tqdm import tqdm\n",
        "\n",
        "#stats/data modules\n",
        "import pandas as pd\n",
        "import numpy as np\n",
        "from scipy.stats import median_abs_deviation as mad\n",
        "from sklearn.metrics import silhouette_score\n",
        "from scipy import stats\n",
        "\n",
        "#graphing modules\n",
        "import seaborn as sns\n",
        "import matplotlib.pyplot as plt\n",
        "from matplotlib_venn import venn2"
      ]
    },
    {
      "cell_type": "code",
      "execution_count": null,
      "id": "a9cfe3e7-62ae-4660-8829-b7232030da50",
      "metadata": {
        "id": "a9cfe3e7-62ae-4660-8829-b7232030da50"
      },
      "outputs": [],
      "source": [
        "#90% of warnings are useless, but you may want to not run this chunk if you are not proficient\n",
        "import warnings\n",
        "warnings.simplefilter(\"ignore\", FutureWarning)\n",
        "warnings.simplefilter(\"ignore\", UserWarning)\n",
        "warnings.simplefilter(\"ignore\", RuntimeWarning)"
      ]
    },
    {
      "cell_type": "code",
      "execution_count": null,
      "id": "49e8e540-85f8-4ee9-b831-3a1bb987fa16",
      "metadata": {
        "id": "49e8e540-85f8-4ee9-b831-3a1bb987fa16"
      },
      "outputs": [],
      "source": []
    },
    {
      "cell_type": "markdown",
      "id": "4ffd9080-23c6-4bbd-aa92-b0f6d609ccb9",
      "metadata": {
        "id": "4ffd9080-23c6-4bbd-aa92-b0f6d609ccb9"
      },
      "source": [
        "### The dataset"
      ]
    },
    {
      "cell_type": "markdown",
      "id": "a6981b68-0d54-435a-a776-10e7f59abe5e",
      "metadata": {
        "id": "a6981b68-0d54-435a-a776-10e7f59abe5e"
      },
      "source": [
        "Intranasal infection with H1N1 in **mice**. **Day 0** is uninfected along with **5, 7, 10, and 14 days post-infection.**  \n",
        "\n",
        "**GSE148499**\n",
        "\n",
        "Please cite PMID: 35511435 if you use this data in your work!"
      ]
    },
    {
      "cell_type": "markdown",
      "id": "f65733f8-021b-4416-baf6-8d7482685ab5",
      "metadata": {
        "id": "f65733f8-021b-4416-baf6-8d7482685ab5"
      },
      "source": [
        "I have made a random 1500 cell subset of each object to allow for live analyis in this workshop."
      ]
    },
    {
      "cell_type": "code",
      "source": [
        "from google.colab import drive\n",
        "drive.mount('/content/drive')\n",
        "shared_folder_path = '/content/drive/MyDrive/scverse_workshop_data/adatas'"
      ],
      "metadata": {
        "colab": {
          "base_uri": "https://localhost:8080/"
        },
        "id": "PVp1IAOgywxL",
        "outputId": "f90b2f80-ed80-4398-949d-75b6c0387259"
      },
      "id": "PVp1IAOgywxL",
      "execution_count": null,
      "outputs": [
        {
          "output_type": "stream",
          "name": "stdout",
          "text": [
            "Mounted at /content/drive\n"
          ]
        }
      ]
    },
    {
      "cell_type": "code",
      "execution_count": null,
      "id": "b2bcf897-501c-4991-b323-b90ebf2fed35",
      "metadata": {
        "id": "b2bcf897-501c-4991-b323-b90ebf2fed35"
      },
      "outputs": [],
      "source": [
        "file_paths = [shared_folder_path + '/' + x for x in os.listdir(shared_folder_path) if 'SMALL' in x]\n",
        "#file_paths = ['adatas/' +x for x in os.listdir('adatas') if 'SMALL' in x] #SMALL is subset data\n",
        "#file_paths = ['adatas/' + x for x in os.listdir('adatas') if 'SMALL' not in x]"
      ]
    },
    {
      "cell_type": "code",
      "execution_count": null,
      "id": "e810d7e0-c925-4be5-bd68-3ca22c551bdc",
      "metadata": {
        "colab": {
          "base_uri": "https://localhost:8080/"
        },
        "id": "e810d7e0-c925-4be5-bd68-3ca22c551bdc",
        "outputId": "8f77bb12-5a6d-478f-e6d8-121ed04786dd"
      },
      "outputs": [
        {
          "output_type": "execute_result",
          "data": {
            "text/plain": [
              "['/content/drive/MyDrive/scverse_workshop_data/adatas/D14_filtered_SMALL.h5ad',\n",
              " '/content/drive/MyDrive/scverse_workshop_data/adatas/D5_filtered_SMALL.h5ad',\n",
              " '/content/drive/MyDrive/scverse_workshop_data/adatas/D0_filtered_SMALL.h5ad',\n",
              " '/content/drive/MyDrive/scverse_workshop_data/adatas/D10_filtered_SMALL.h5ad',\n",
              " '/content/drive/MyDrive/scverse_workshop_data/adatas/D7_filtered_SMALL.h5ad']"
            ]
          },
          "metadata": {},
          "execution_count": 14
        }
      ],
      "source": [
        "file_paths"
      ]
    },
    {
      "cell_type": "code",
      "execution_count": null,
      "id": "4f1582cd-7927-44ae-83e9-b9b50a6e89e1",
      "metadata": {
        "id": "4f1582cd-7927-44ae-83e9-b9b50a6e89e1"
      },
      "outputs": [],
      "source": [
        "'''\n",
        "Load anndata and make a new obs column with sample metadata\n",
        "'''\n",
        "def load(path):\n",
        "    adata = sc.read_h5ad(path)\n",
        "\n",
        "    adata.obs['Sample'] = path.split('/')[1].split('_')[0] #note that this is specific my file names\n",
        "\n",
        "    return adata"
      ]
    },
    {
      "cell_type": "code",
      "execution_count": null,
      "id": "e4835e8c-e864-4dbd-bae3-e51d1f4a88df",
      "metadata": {
        "id": "e4835e8c-e864-4dbd-bae3-e51d1f4a88df"
      },
      "outputs": [],
      "source": [
        "adatas = [load(x) for x in file_paths] #list comprehension is one of the easiest ways to work with multiple objects"
      ]
    },
    {
      "cell_type": "code",
      "execution_count": null,
      "id": "cc5bdee2-6950-4417-afa6-4fdddaf3ea50",
      "metadata": {
        "colab": {
          "base_uri": "https://localhost:8080/"
        },
        "id": "cc5bdee2-6950-4417-afa6-4fdddaf3ea50",
        "outputId": "96fb8540-e1d9-43a8-bbae-bef74d231e44"
      },
      "outputs": [
        {
          "output_type": "execute_result",
          "data": {
            "text/plain": [
              "[AnnData object with n_obs × n_vars = 1500 × 19374\n",
              "     obs: 'Sample'\n",
              "     var: 'gene_ids', 'feature_types', 'genome', 'n_cells',\n",
              " AnnData object with n_obs × n_vars = 1500 × 17764\n",
              "     obs: 'Sample'\n",
              "     var: 'gene_ids', 'feature_types', 'genome', 'n_cells',\n",
              " AnnData object with n_obs × n_vars = 1500 × 19375\n",
              "     obs: 'Sample'\n",
              "     var: 'gene_ids', 'feature_types', 'genome', 'n_cells',\n",
              " AnnData object with n_obs × n_vars = 1500 × 18049\n",
              "     obs: 'Sample'\n",
              "     var: 'gene_ids', 'feature_types', 'genome', 'n_cells',\n",
              " AnnData object with n_obs × n_vars = 1500 × 17776\n",
              "     obs: 'Sample'\n",
              "     var: 'gene_ids', 'feature_types', 'genome', 'n_cells']"
            ]
          },
          "metadata": {},
          "execution_count": 17
        }
      ],
      "source": [
        "adatas"
      ]
    },
    {
      "cell_type": "code",
      "execution_count": null,
      "id": "c639cd51-68a7-47a7-8791-778e3a20eb9e",
      "metadata": {
        "id": "c639cd51-68a7-47a7-8791-778e3a20eb9e"
      },
      "outputs": [],
      "source": []
    },
    {
      "cell_type": "markdown",
      "id": "117d1c67-62ef-4cab-bb75-1cd7b4fe5a30",
      "metadata": {
        "id": "117d1c67-62ef-4cab-bb75-1cd7b4fe5a30"
      },
      "source": [
        "## Ambient RNA removal\n",
        "\n",
        "For sake of time I have already done this using cellbender on these objects.  \n",
        "\n",
        "**Common tools:**  \n",
        "cellbender - command line, easy but slow and slower without a GPU  \n",
        "soupX - in R but can be run in your python environment with some extra [code](https://github.com/mousepixels/sanbomics_scripts/blob/main/soupX/soupX_python_test.ipynb)  \n",
        "decontX - same as soupX  \n",
        "\n",
        "\n",
        "<div>\n",
        "<img src=\"https://www.sc-best-practices.org/_images/quality_control.jpeg\" width=\"800\"/>\n",
        "</div>\n",
        "\n",
        "For droplet-based methods RNA is floating in solution when cells are partitioned. Removing this is likely the first step you should be running on each of your samples individually."
      ]
    },
    {
      "cell_type": "markdown",
      "id": "c3efd179-54e9-4c6a-b7d9-2ef5196cc94d",
      "metadata": {
        "id": "c3efd179-54e9-4c6a-b7d9-2ef5196cc94d"
      },
      "source": [
        "Here is an example of one gene before and after removal:  \n",
        "<div>\n",
        "<img src=\"/content/drive/MyDrive/scverse_workshop_data/images/soupx_b4.png\" width=\"300\"/>\n",
        "<img src=\"/content/drive/MyDrive/scverse_workshop_data/images/soupx_after.png\" width=\"300\"/>\n",
        "</div>"
      ]
    },
    {
      "cell_type": "markdown",
      "id": "14329c69-0900-4e69-8df3-115fa83b5f3c",
      "metadata": {
        "id": "14329c69-0900-4e69-8df3-115fa83b5f3c"
      },
      "source": [
        "## QC  \n",
        "\n",
        "It is good to look at the distributions of various QC metrics before blindly filtering"
      ]
    },
    {
      "cell_type": "code",
      "execution_count": null,
      "id": "d20135d0-d896-4fb6-afcf-72232dc1496c",
      "metadata": {
        "id": "d20135d0-d896-4fb6-afcf-72232dc1496c"
      },
      "outputs": [],
      "source": [
        "'''\n",
        "Adds various QC metrics to an anndata object\n",
        "'''\n",
        "def qc(adata):\n",
        "    adata.var[\"mt\"] = adata.var_names.str.startswith(\"mt-\") #make sure capitalization is correct!\n",
        "\n",
        "    sc.pp.calculate_qc_metrics(adata, qc_vars=[\"mt\"], inplace=True, percent_top=[20], log1p=True)\n",
        "\n",
        "    return adata"
      ]
    },
    {
      "cell_type": "code",
      "execution_count": null,
      "id": "f473f039-1f8f-4a25-a417-5cd0ea65c2ff",
      "metadata": {
        "id": "f473f039-1f8f-4a25-a417-5cd0ea65c2ff"
      },
      "outputs": [],
      "source": [
        "adatas = [qc(ad) for ad in adatas]"
      ]
    },
    {
      "cell_type": "code",
      "execution_count": null,
      "id": "c4428655-d60b-42b3-81c1-7eb7a7faf0a3",
      "metadata": {
        "id": "c4428655-d60b-42b3-81c1-7eb7a7faf0a3"
      },
      "outputs": [],
      "source": [
        "df = pd.concat([x.obs for x in adatas]) #extracting the QC metrics and combining them into one dataframe"
      ]
    },
    {
      "cell_type": "markdown",
      "id": "3c10d2e3-613d-4c1e-9e7e-7b0fdf93b88f",
      "metadata": {
        "id": "3c10d2e3-613d-4c1e-9e7e-7b0fdf93b88f"
      },
      "source": [
        "**Four important metrics:**  \n",
        "pct_counts_mt - total UMI beloning to mitochondiral reads. Indication of stressed/dying cell  \n",
        "n_genes - number of genes detected in a cell. Varies by cell type and seq depth, but quality cells should have >200  \n",
        "pct_counts_in_top_20_genes - How many of the UMI are only coming from a few genes? Higher usually worse  \n",
        "log1p_total_counts - log transform of the total UMI of a cell"
      ]
    },
    {
      "cell_type": "code",
      "execution_count": null,
      "id": "c127f892-086a-4c89-b832-9d902225c395",
      "metadata": {
        "colab": {
          "base_uri": "https://localhost:8080/",
          "height": 382
        },
        "id": "c127f892-086a-4c89-b832-9d902225c395",
        "outputId": "38cc86f9-d2d1-4b7e-c6a2-e58abf296231"
      },
      "outputs": [
        {
          "output_type": "error",
          "ename": "ValueError",
          "evalue": "cannot reindex on an axis with duplicate labels",
          "traceback": [
            "\u001b[0;31m---------------------------------------------------------------------------\u001b[0m",
            "\u001b[0;31mValueError\u001b[0m                                Traceback (most recent call last)",
            "\u001b[0;32m<ipython-input-21-0bedcf53a7ba>\u001b[0m in \u001b[0;36m<cell line: 8>\u001b[0;34m()\u001b[0m\n\u001b[1;32m     10\u001b[0m     \u001b[0mg\u001b[0m \u001b[0;34m=\u001b[0m \u001b[0msns\u001b[0m\u001b[0;34m.\u001b[0m\u001b[0mFacetGrid\u001b[0m\u001b[0;34m(\u001b[0m\u001b[0mdf\u001b[0m\u001b[0;34m,\u001b[0m \u001b[0mrow\u001b[0m\u001b[0;34m=\u001b[0m\u001b[0;34m\"Sample\"\u001b[0m\u001b[0;34m,\u001b[0m \u001b[0mhue\u001b[0m\u001b[0;34m=\u001b[0m\u001b[0;34m\"Sample\"\u001b[0m\u001b[0;34m,\u001b[0m \u001b[0maspect\u001b[0m\u001b[0;34m=\u001b[0m\u001b[0;36m15\u001b[0m\u001b[0;34m,\u001b[0m \u001b[0mheight\u001b[0m\u001b[0;34m=\u001b[0m\u001b[0;36m0.5\u001b[0m\u001b[0;34m,\u001b[0m \u001b[0mpalette\u001b[0m\u001b[0;34m=\u001b[0m\u001b[0;34m\"tab20\"\u001b[0m\u001b[0;34m)\u001b[0m\u001b[0;34m\u001b[0m\u001b[0;34m\u001b[0m\u001b[0m\n\u001b[1;32m     11\u001b[0m \u001b[0;34m\u001b[0m\u001b[0m\n\u001b[0;32m---> 12\u001b[0;31m     \u001b[0mg\u001b[0m\u001b[0;34m.\u001b[0m\u001b[0mmap\u001b[0m\u001b[0;34m(\u001b[0m\u001b[0msns\u001b[0m\u001b[0;34m.\u001b[0m\u001b[0mkdeplot\u001b[0m\u001b[0;34m,\u001b[0m \u001b[0mvalue\u001b[0m\u001b[0;34m,\u001b[0m \u001b[0mclip_on\u001b[0m\u001b[0;34m=\u001b[0m\u001b[0;32mFalse\u001b[0m\u001b[0;34m,\u001b[0m \u001b[0mfill\u001b[0m\u001b[0;34m=\u001b[0m\u001b[0;32mTrue\u001b[0m\u001b[0;34m,\u001b[0m \u001b[0malpha\u001b[0m\u001b[0;34m=\u001b[0m\u001b[0;36m1\u001b[0m\u001b[0;34m,\u001b[0m \u001b[0mlinewidth\u001b[0m\u001b[0;34m=\u001b[0m\u001b[0;36m1.5\u001b[0m\u001b[0;34m)\u001b[0m\u001b[0;34m\u001b[0m\u001b[0;34m\u001b[0m\u001b[0m\n\u001b[0m\u001b[1;32m     13\u001b[0m     \u001b[0mg\u001b[0m\u001b[0;34m.\u001b[0m\u001b[0mmap\u001b[0m\u001b[0;34m(\u001b[0m\u001b[0msns\u001b[0m\u001b[0;34m.\u001b[0m\u001b[0mkdeplot\u001b[0m\u001b[0;34m,\u001b[0m \u001b[0mvalue\u001b[0m\u001b[0;34m,\u001b[0m \u001b[0mclip_on\u001b[0m\u001b[0;34m=\u001b[0m\u001b[0;32mFalse\u001b[0m\u001b[0;34m,\u001b[0m \u001b[0mcolor\u001b[0m\u001b[0;34m=\u001b[0m\u001b[0;34m\"w\"\u001b[0m\u001b[0;34m,\u001b[0m \u001b[0mlw\u001b[0m\u001b[0;34m=\u001b[0m\u001b[0;36m2\u001b[0m\u001b[0;34m)\u001b[0m\u001b[0;34m\u001b[0m\u001b[0;34m\u001b[0m\u001b[0m\n\u001b[1;32m     14\u001b[0m \u001b[0;34m\u001b[0m\u001b[0m\n",
            "\u001b[0;32m/usr/local/lib/python3.10/dist-packages/seaborn/axisgrid.py\u001b[0m in \u001b[0;36mmap\u001b[0;34m(self, func, *args, **kwargs)\u001b[0m\n\u001b[1;32m    756\u001b[0m \u001b[0;34m\u001b[0m\u001b[0m\n\u001b[1;32m    757\u001b[0m             \u001b[0;31m# Draw the plot\u001b[0m\u001b[0;34m\u001b[0m\u001b[0;34m\u001b[0m\u001b[0m\n\u001b[0;32m--> 758\u001b[0;31m             \u001b[0mself\u001b[0m\u001b[0;34m.\u001b[0m\u001b[0m_facet_plot\u001b[0m\u001b[0;34m(\u001b[0m\u001b[0mfunc\u001b[0m\u001b[0;34m,\u001b[0m \u001b[0max\u001b[0m\u001b[0;34m,\u001b[0m \u001b[0mplot_args\u001b[0m\u001b[0;34m,\u001b[0m \u001b[0mkwargs\u001b[0m\u001b[0;34m)\u001b[0m\u001b[0;34m\u001b[0m\u001b[0;34m\u001b[0m\u001b[0m\n\u001b[0m\u001b[1;32m    759\u001b[0m \u001b[0;34m\u001b[0m\u001b[0m\n\u001b[1;32m    760\u001b[0m         \u001b[0;31m# Finalize the annotations and layout\u001b[0m\u001b[0;34m\u001b[0m\u001b[0;34m\u001b[0m\u001b[0m\n",
            "\u001b[0;32m/usr/local/lib/python3.10/dist-packages/seaborn/axisgrid.py\u001b[0m in \u001b[0;36m_facet_plot\u001b[0;34m(self, func, ax, plot_args, plot_kwargs)\u001b[0m\n\u001b[1;32m    852\u001b[0m             \u001b[0mplot_args\u001b[0m \u001b[0;34m=\u001b[0m \u001b[0;34m[\u001b[0m\u001b[0;34m]\u001b[0m\u001b[0;34m\u001b[0m\u001b[0;34m\u001b[0m\u001b[0m\n\u001b[1;32m    853\u001b[0m             \u001b[0mplot_kwargs\u001b[0m\u001b[0;34m[\u001b[0m\u001b[0;34m\"ax\"\u001b[0m\u001b[0;34m]\u001b[0m \u001b[0;34m=\u001b[0m \u001b[0max\u001b[0m\u001b[0;34m\u001b[0m\u001b[0;34m\u001b[0m\u001b[0m\n\u001b[0;32m--> 854\u001b[0;31m         \u001b[0mfunc\u001b[0m\u001b[0;34m(\u001b[0m\u001b[0;34m*\u001b[0m\u001b[0mplot_args\u001b[0m\u001b[0;34m,\u001b[0m \u001b[0;34m**\u001b[0m\u001b[0mplot_kwargs\u001b[0m\u001b[0;34m)\u001b[0m\u001b[0;34m\u001b[0m\u001b[0;34m\u001b[0m\u001b[0m\n\u001b[0m\u001b[1;32m    855\u001b[0m \u001b[0;34m\u001b[0m\u001b[0m\n\u001b[1;32m    856\u001b[0m         \u001b[0;31m# Sort out the supporting information\u001b[0m\u001b[0;34m\u001b[0m\u001b[0;34m\u001b[0m\u001b[0m\n",
            "\u001b[0;32m/usr/local/lib/python3.10/dist-packages/seaborn/distributions.py\u001b[0m in \u001b[0;36mkdeplot\u001b[0;34m(data, x, y, hue, weights, palette, hue_order, hue_norm, color, fill, multiple, common_norm, common_grid, cumulative, bw_method, bw_adjust, warn_singular, log_scale, levels, thresh, gridsize, cut, clip, legend, cbar, cbar_ax, cbar_kws, ax, **kwargs)\u001b[0m\n\u001b[1;32m   1699\u001b[0m         \u001b[0mplot_kws\u001b[0m \u001b[0;34m=\u001b[0m \u001b[0mkwargs\u001b[0m\u001b[0;34m.\u001b[0m\u001b[0mcopy\u001b[0m\u001b[0;34m(\u001b[0m\u001b[0;34m)\u001b[0m\u001b[0;34m\u001b[0m\u001b[0;34m\u001b[0m\u001b[0m\n\u001b[1;32m   1700\u001b[0m \u001b[0;34m\u001b[0m\u001b[0m\n\u001b[0;32m-> 1701\u001b[0;31m         p.plot_univariate_density(\n\u001b[0m\u001b[1;32m   1702\u001b[0m             \u001b[0mmultiple\u001b[0m\u001b[0;34m=\u001b[0m\u001b[0mmultiple\u001b[0m\u001b[0;34m,\u001b[0m\u001b[0;34m\u001b[0m\u001b[0;34m\u001b[0m\u001b[0m\n\u001b[1;32m   1703\u001b[0m             \u001b[0mcommon_norm\u001b[0m\u001b[0;34m=\u001b[0m\u001b[0mcommon_norm\u001b[0m\u001b[0;34m,\u001b[0m\u001b[0;34m\u001b[0m\u001b[0;34m\u001b[0m\u001b[0m\n",
            "\u001b[0;32m/usr/local/lib/python3.10/dist-packages/seaborn/distributions.py\u001b[0m in \u001b[0;36mplot_univariate_density\u001b[0;34m(self, multiple, common_norm, common_grid, warn_singular, fill, color, legend, estimate_kws, **plot_kws)\u001b[0m\n\u001b[1;32m    928\u001b[0m \u001b[0;34m\u001b[0m\u001b[0m\n\u001b[1;32m    929\u001b[0m         \u001b[0;31m# Do the computation\u001b[0m\u001b[0;34m\u001b[0m\u001b[0;34m\u001b[0m\u001b[0m\n\u001b[0;32m--> 930\u001b[0;31m         densities = self._compute_univariate_density(\n\u001b[0m\u001b[1;32m    931\u001b[0m             \u001b[0mself\u001b[0m\u001b[0;34m.\u001b[0m\u001b[0mdata_variable\u001b[0m\u001b[0;34m,\u001b[0m\u001b[0;34m\u001b[0m\u001b[0;34m\u001b[0m\u001b[0m\n\u001b[1;32m    932\u001b[0m             \u001b[0mcommon_norm\u001b[0m\u001b[0;34m,\u001b[0m\u001b[0;34m\u001b[0m\u001b[0;34m\u001b[0m\u001b[0m\n",
            "\u001b[0;32m/usr/local/lib/python3.10/dist-packages/seaborn/distributions.py\u001b[0m in \u001b[0;36m_compute_univariate_density\u001b[0;34m(self, data_variable, common_norm, common_grid, estimate_kws, warn_singular)\u001b[0m\n\u001b[1;32m    323\u001b[0m         \u001b[0mdensities\u001b[0m \u001b[0;34m=\u001b[0m \u001b[0;34m{\u001b[0m\u001b[0;34m}\u001b[0m\u001b[0;34m\u001b[0m\u001b[0;34m\u001b[0m\u001b[0m\n\u001b[1;32m    324\u001b[0m \u001b[0;34m\u001b[0m\u001b[0m\n\u001b[0;32m--> 325\u001b[0;31m         \u001b[0;32mfor\u001b[0m \u001b[0msub_vars\u001b[0m\u001b[0;34m,\u001b[0m \u001b[0msub_data\u001b[0m \u001b[0;32min\u001b[0m \u001b[0mself\u001b[0m\u001b[0;34m.\u001b[0m\u001b[0miter_data\u001b[0m\u001b[0;34m(\u001b[0m\u001b[0;34m\"hue\"\u001b[0m\u001b[0;34m,\u001b[0m \u001b[0mfrom_comp_data\u001b[0m\u001b[0;34m=\u001b[0m\u001b[0;32mTrue\u001b[0m\u001b[0;34m)\u001b[0m\u001b[0;34m:\u001b[0m\u001b[0;34m\u001b[0m\u001b[0;34m\u001b[0m\u001b[0m\n\u001b[0m\u001b[1;32m    326\u001b[0m \u001b[0;34m\u001b[0m\u001b[0m\n\u001b[1;32m    327\u001b[0m             \u001b[0;31m# Extract the data points from this sub set and remove nulls\u001b[0m\u001b[0;34m\u001b[0m\u001b[0;34m\u001b[0m\u001b[0m\n",
            "\u001b[0;32m/usr/local/lib/python3.10/dist-packages/seaborn/_base.py\u001b[0m in \u001b[0;36miter_data\u001b[0;34m(self, grouping_vars, reverse, from_comp_data, by_facet, allow_empty, dropna)\u001b[0m\n\u001b[1;32m    900\u001b[0m \u001b[0;34m\u001b[0m\u001b[0m\n\u001b[1;32m    901\u001b[0m         \u001b[0;32mif\u001b[0m \u001b[0mfrom_comp_data\u001b[0m\u001b[0;34m:\u001b[0m\u001b[0;34m\u001b[0m\u001b[0;34m\u001b[0m\u001b[0m\n\u001b[0;32m--> 902\u001b[0;31m             \u001b[0mdata\u001b[0m \u001b[0;34m=\u001b[0m \u001b[0mself\u001b[0m\u001b[0;34m.\u001b[0m\u001b[0mcomp_data\u001b[0m\u001b[0;34m\u001b[0m\u001b[0;34m\u001b[0m\u001b[0m\n\u001b[0m\u001b[1;32m    903\u001b[0m         \u001b[0;32melse\u001b[0m\u001b[0;34m:\u001b[0m\u001b[0;34m\u001b[0m\u001b[0;34m\u001b[0m\u001b[0m\n\u001b[1;32m    904\u001b[0m             \u001b[0mdata\u001b[0m \u001b[0;34m=\u001b[0m \u001b[0mself\u001b[0m\u001b[0;34m.\u001b[0m\u001b[0mplot_data\u001b[0m\u001b[0;34m\u001b[0m\u001b[0;34m\u001b[0m\u001b[0m\n",
            "\u001b[0;32m/usr/local/lib/python3.10/dist-packages/seaborn/_base.py\u001b[0m in \u001b[0;36mcomp_data\u001b[0;34m(self)\u001b[0m\n\u001b[1;32m   1005\u001b[0m                 \u001b[0;32melse\u001b[0m\u001b[0;34m:\u001b[0m\u001b[0;34m\u001b[0m\u001b[0;34m\u001b[0m\u001b[0m\n\u001b[1;32m   1006\u001b[0m                     \u001b[0mcomp_col\u001b[0m \u001b[0;34m=\u001b[0m \u001b[0mpd\u001b[0m\u001b[0;34m.\u001b[0m\u001b[0mSeries\u001b[0m\u001b[0;34m(\u001b[0m\u001b[0mdtype\u001b[0m\u001b[0;34m=\u001b[0m\u001b[0mfloat\u001b[0m\u001b[0;34m,\u001b[0m \u001b[0mname\u001b[0m\u001b[0;34m=\u001b[0m\u001b[0mvar\u001b[0m\u001b[0;34m)\u001b[0m\u001b[0;34m\u001b[0m\u001b[0;34m\u001b[0m\u001b[0m\n\u001b[0;32m-> 1007\u001b[0;31m                 \u001b[0mcomp_data\u001b[0m\u001b[0;34m.\u001b[0m\u001b[0minsert\u001b[0m\u001b[0;34m(\u001b[0m\u001b[0;36m0\u001b[0m\u001b[0;34m,\u001b[0m \u001b[0mvar\u001b[0m\u001b[0;34m,\u001b[0m \u001b[0mcomp_col\u001b[0m\u001b[0;34m)\u001b[0m\u001b[0;34m\u001b[0m\u001b[0;34m\u001b[0m\u001b[0m\n\u001b[0m\u001b[1;32m   1008\u001b[0m \u001b[0;34m\u001b[0m\u001b[0m\n\u001b[1;32m   1009\u001b[0m             \u001b[0mself\u001b[0m\u001b[0;34m.\u001b[0m\u001b[0m_comp_data\u001b[0m \u001b[0;34m=\u001b[0m \u001b[0mcomp_data\u001b[0m\u001b[0;34m\u001b[0m\u001b[0;34m\u001b[0m\u001b[0m\n",
            "\u001b[0;32m/usr/local/lib/python3.10/dist-packages/pandas/core/frame.py\u001b[0m in \u001b[0;36minsert\u001b[0;34m(self, loc, column, value, allow_duplicates)\u001b[0m\n\u001b[1;32m   4942\u001b[0m             \u001b[0mvalue\u001b[0m \u001b[0;34m=\u001b[0m \u001b[0mvalue\u001b[0m\u001b[0;34m.\u001b[0m\u001b[0miloc\u001b[0m\u001b[0;34m[\u001b[0m\u001b[0;34m:\u001b[0m\u001b[0;34m,\u001b[0m \u001b[0;36m0\u001b[0m\u001b[0;34m]\u001b[0m\u001b[0;34m\u001b[0m\u001b[0;34m\u001b[0m\u001b[0m\n\u001b[1;32m   4943\u001b[0m \u001b[0;34m\u001b[0m\u001b[0m\n\u001b[0;32m-> 4944\u001b[0;31m         \u001b[0mvalue\u001b[0m\u001b[0;34m,\u001b[0m \u001b[0mrefs\u001b[0m \u001b[0;34m=\u001b[0m \u001b[0mself\u001b[0m\u001b[0;34m.\u001b[0m\u001b[0m_sanitize_column\u001b[0m\u001b[0;34m(\u001b[0m\u001b[0mvalue\u001b[0m\u001b[0;34m)\u001b[0m\u001b[0;34m\u001b[0m\u001b[0;34m\u001b[0m\u001b[0m\n\u001b[0m\u001b[1;32m   4945\u001b[0m         \u001b[0mself\u001b[0m\u001b[0;34m.\u001b[0m\u001b[0m_mgr\u001b[0m\u001b[0;34m.\u001b[0m\u001b[0minsert\u001b[0m\u001b[0;34m(\u001b[0m\u001b[0mloc\u001b[0m\u001b[0;34m,\u001b[0m \u001b[0mcolumn\u001b[0m\u001b[0;34m,\u001b[0m \u001b[0mvalue\u001b[0m\u001b[0;34m,\u001b[0m \u001b[0mrefs\u001b[0m\u001b[0;34m=\u001b[0m\u001b[0mrefs\u001b[0m\u001b[0;34m)\u001b[0m\u001b[0;34m\u001b[0m\u001b[0;34m\u001b[0m\u001b[0m\n\u001b[1;32m   4946\u001b[0m \u001b[0;34m\u001b[0m\u001b[0m\n",
            "\u001b[0;32m/usr/local/lib/python3.10/dist-packages/pandas/core/frame.py\u001b[0m in \u001b[0;36m_sanitize_column\u001b[0;34m(self, value)\u001b[0m\n\u001b[1;32m   5034\u001b[0m             \u001b[0;32mif\u001b[0m \u001b[0;32mnot\u001b[0m \u001b[0misinstance\u001b[0m\u001b[0;34m(\u001b[0m\u001b[0mvalue\u001b[0m\u001b[0;34m,\u001b[0m \u001b[0mSeries\u001b[0m\u001b[0;34m)\u001b[0m\u001b[0;34m:\u001b[0m\u001b[0;34m\u001b[0m\u001b[0;34m\u001b[0m\u001b[0m\n\u001b[1;32m   5035\u001b[0m                 \u001b[0mvalue\u001b[0m \u001b[0;34m=\u001b[0m \u001b[0mSeries\u001b[0m\u001b[0;34m(\u001b[0m\u001b[0mvalue\u001b[0m\u001b[0;34m)\u001b[0m\u001b[0;34m\u001b[0m\u001b[0;34m\u001b[0m\u001b[0m\n\u001b[0;32m-> 5036\u001b[0;31m             \u001b[0;32mreturn\u001b[0m \u001b[0m_reindex_for_setitem\u001b[0m\u001b[0;34m(\u001b[0m\u001b[0mvalue\u001b[0m\u001b[0;34m,\u001b[0m \u001b[0mself\u001b[0m\u001b[0;34m.\u001b[0m\u001b[0mindex\u001b[0m\u001b[0;34m)\u001b[0m\u001b[0;34m\u001b[0m\u001b[0;34m\u001b[0m\u001b[0m\n\u001b[0m\u001b[1;32m   5037\u001b[0m \u001b[0;34m\u001b[0m\u001b[0m\n\u001b[1;32m   5038\u001b[0m         \u001b[0;32mif\u001b[0m \u001b[0mis_list_like\u001b[0m\u001b[0;34m(\u001b[0m\u001b[0mvalue\u001b[0m\u001b[0;34m)\u001b[0m\u001b[0;34m:\u001b[0m\u001b[0;34m\u001b[0m\u001b[0;34m\u001b[0m\u001b[0m\n",
            "\u001b[0;32m/usr/local/lib/python3.10/dist-packages/pandas/core/frame.py\u001b[0m in \u001b[0;36m_reindex_for_setitem\u001b[0;34m(value, index)\u001b[0m\n\u001b[1;32m  12307\u001b[0m         \u001b[0;32mif\u001b[0m \u001b[0;32mnot\u001b[0m \u001b[0mvalue\u001b[0m\u001b[0;34m.\u001b[0m\u001b[0mindex\u001b[0m\u001b[0;34m.\u001b[0m\u001b[0mis_unique\u001b[0m\u001b[0;34m:\u001b[0m\u001b[0;34m\u001b[0m\u001b[0;34m\u001b[0m\u001b[0m\n\u001b[1;32m  12308\u001b[0m             \u001b[0;31m# duplicate axis\u001b[0m\u001b[0;34m\u001b[0m\u001b[0;34m\u001b[0m\u001b[0m\n\u001b[0;32m> 12309\u001b[0;31m             \u001b[0;32mraise\u001b[0m \u001b[0merr\u001b[0m\u001b[0;34m\u001b[0m\u001b[0;34m\u001b[0m\u001b[0m\n\u001b[0m\u001b[1;32m  12310\u001b[0m \u001b[0;34m\u001b[0m\u001b[0m\n\u001b[1;32m  12311\u001b[0m         raise TypeError(\n",
            "\u001b[0;32m/usr/local/lib/python3.10/dist-packages/pandas/core/frame.py\u001b[0m in \u001b[0;36m_reindex_for_setitem\u001b[0;34m(value, index)\u001b[0m\n\u001b[1;32m  12302\u001b[0m     \u001b[0;31m# GH#4107\u001b[0m\u001b[0;34m\u001b[0m\u001b[0;34m\u001b[0m\u001b[0m\n\u001b[1;32m  12303\u001b[0m     \u001b[0;32mtry\u001b[0m\u001b[0;34m:\u001b[0m\u001b[0;34m\u001b[0m\u001b[0;34m\u001b[0m\u001b[0m\n\u001b[0;32m> 12304\u001b[0;31m         \u001b[0mreindexed_value\u001b[0m \u001b[0;34m=\u001b[0m \u001b[0mvalue\u001b[0m\u001b[0;34m.\u001b[0m\u001b[0mreindex\u001b[0m\u001b[0;34m(\u001b[0m\u001b[0mindex\u001b[0m\u001b[0;34m)\u001b[0m\u001b[0;34m.\u001b[0m\u001b[0m_values\u001b[0m\u001b[0;34m\u001b[0m\u001b[0;34m\u001b[0m\u001b[0m\n\u001b[0m\u001b[1;32m  12305\u001b[0m     \u001b[0;32mexcept\u001b[0m \u001b[0mValueError\u001b[0m \u001b[0;32mas\u001b[0m \u001b[0merr\u001b[0m\u001b[0;34m:\u001b[0m\u001b[0;34m\u001b[0m\u001b[0;34m\u001b[0m\u001b[0m\n\u001b[1;32m  12306\u001b[0m         \u001b[0;31m# raised in MultiIndex.from_tuples, see test_insert_error_msmgs\u001b[0m\u001b[0;34m\u001b[0m\u001b[0;34m\u001b[0m\u001b[0m\n",
            "\u001b[0;32m/usr/local/lib/python3.10/dist-packages/pandas/core/series.py\u001b[0m in \u001b[0;36mreindex\u001b[0;34m(self, index, axis, method, copy, level, fill_value, limit, tolerance)\u001b[0m\n\u001b[1;32m   4979\u001b[0m         \u001b[0mtolerance\u001b[0m\u001b[0;34m=\u001b[0m\u001b[0;32mNone\u001b[0m\u001b[0;34m,\u001b[0m\u001b[0;34m\u001b[0m\u001b[0;34m\u001b[0m\u001b[0m\n\u001b[1;32m   4980\u001b[0m     ) -> Series:\n\u001b[0;32m-> 4981\u001b[0;31m         return super().reindex(\n\u001b[0m\u001b[1;32m   4982\u001b[0m             \u001b[0mindex\u001b[0m\u001b[0;34m=\u001b[0m\u001b[0mindex\u001b[0m\u001b[0;34m,\u001b[0m\u001b[0;34m\u001b[0m\u001b[0;34m\u001b[0m\u001b[0m\n\u001b[1;32m   4983\u001b[0m             \u001b[0mmethod\u001b[0m\u001b[0;34m=\u001b[0m\u001b[0mmethod\u001b[0m\u001b[0;34m,\u001b[0m\u001b[0;34m\u001b[0m\u001b[0;34m\u001b[0m\u001b[0m\n",
            "\u001b[0;32m/usr/local/lib/python3.10/dist-packages/pandas/core/generic.py\u001b[0m in \u001b[0;36mreindex\u001b[0;34m(self, labels, index, columns, axis, method, copy, level, fill_value, limit, tolerance)\u001b[0m\n\u001b[1;32m   5519\u001b[0m \u001b[0;34m\u001b[0m\u001b[0m\n\u001b[1;32m   5520\u001b[0m         \u001b[0;31m# perform the reindex on the axes\u001b[0m\u001b[0;34m\u001b[0m\u001b[0;34m\u001b[0m\u001b[0m\n\u001b[0;32m-> 5521\u001b[0;31m         return self._reindex_axes(\n\u001b[0m\u001b[1;32m   5522\u001b[0m             \u001b[0maxes\u001b[0m\u001b[0;34m,\u001b[0m \u001b[0mlevel\u001b[0m\u001b[0;34m,\u001b[0m \u001b[0mlimit\u001b[0m\u001b[0;34m,\u001b[0m \u001b[0mtolerance\u001b[0m\u001b[0;34m,\u001b[0m \u001b[0mmethod\u001b[0m\u001b[0;34m,\u001b[0m \u001b[0mfill_value\u001b[0m\u001b[0;34m,\u001b[0m \u001b[0mcopy\u001b[0m\u001b[0;34m\u001b[0m\u001b[0;34m\u001b[0m\u001b[0m\n\u001b[1;32m   5523\u001b[0m         ).__finalize__(self, method=\"reindex\")\n",
            "\u001b[0;32m/usr/local/lib/python3.10/dist-packages/pandas/core/generic.py\u001b[0m in \u001b[0;36m_reindex_axes\u001b[0;34m(self, axes, level, limit, tolerance, method, fill_value, copy)\u001b[0m\n\u001b[1;32m   5542\u001b[0m \u001b[0;34m\u001b[0m\u001b[0m\n\u001b[1;32m   5543\u001b[0m             \u001b[0max\u001b[0m \u001b[0;34m=\u001b[0m \u001b[0mself\u001b[0m\u001b[0;34m.\u001b[0m\u001b[0m_get_axis\u001b[0m\u001b[0;34m(\u001b[0m\u001b[0ma\u001b[0m\u001b[0;34m)\u001b[0m\u001b[0;34m\u001b[0m\u001b[0;34m\u001b[0m\u001b[0m\n\u001b[0;32m-> 5544\u001b[0;31m             new_index, indexer = ax.reindex(\n\u001b[0m\u001b[1;32m   5545\u001b[0m                 \u001b[0mlabels\u001b[0m\u001b[0;34m,\u001b[0m \u001b[0mlevel\u001b[0m\u001b[0;34m=\u001b[0m\u001b[0mlevel\u001b[0m\u001b[0;34m,\u001b[0m \u001b[0mlimit\u001b[0m\u001b[0;34m=\u001b[0m\u001b[0mlimit\u001b[0m\u001b[0;34m,\u001b[0m \u001b[0mtolerance\u001b[0m\u001b[0;34m=\u001b[0m\u001b[0mtolerance\u001b[0m\u001b[0;34m,\u001b[0m \u001b[0mmethod\u001b[0m\u001b[0;34m=\u001b[0m\u001b[0mmethod\u001b[0m\u001b[0;34m\u001b[0m\u001b[0;34m\u001b[0m\u001b[0m\n\u001b[1;32m   5546\u001b[0m             )\n",
            "\u001b[0;32m/usr/local/lib/python3.10/dist-packages/pandas/core/indexes/base.py\u001b[0m in \u001b[0;36mreindex\u001b[0;34m(self, target, method, level, limit, tolerance)\u001b[0m\n\u001b[1;32m   4432\u001b[0m                 \u001b[0;32melif\u001b[0m \u001b[0;32mnot\u001b[0m \u001b[0mself\u001b[0m\u001b[0;34m.\u001b[0m\u001b[0mis_unique\u001b[0m\u001b[0;34m:\u001b[0m\u001b[0;34m\u001b[0m\u001b[0;34m\u001b[0m\u001b[0m\n\u001b[1;32m   4433\u001b[0m                     \u001b[0;31m# GH#42568\u001b[0m\u001b[0;34m\u001b[0m\u001b[0;34m\u001b[0m\u001b[0m\n\u001b[0;32m-> 4434\u001b[0;31m                     \u001b[0;32mraise\u001b[0m \u001b[0mValueError\u001b[0m\u001b[0;34m(\u001b[0m\u001b[0;34m\"cannot reindex on an axis with duplicate labels\"\u001b[0m\u001b[0;34m)\u001b[0m\u001b[0;34m\u001b[0m\u001b[0;34m\u001b[0m\u001b[0m\n\u001b[0m\u001b[1;32m   4435\u001b[0m                 \u001b[0;32melse\u001b[0m\u001b[0;34m:\u001b[0m\u001b[0;34m\u001b[0m\u001b[0;34m\u001b[0m\u001b[0m\n\u001b[1;32m   4436\u001b[0m                     \u001b[0mindexer\u001b[0m\u001b[0;34m,\u001b[0m \u001b[0m_\u001b[0m \u001b[0;34m=\u001b[0m \u001b[0mself\u001b[0m\u001b[0;34m.\u001b[0m\u001b[0mget_indexer_non_unique\u001b[0m\u001b[0;34m(\u001b[0m\u001b[0mtarget\u001b[0m\u001b[0;34m)\u001b[0m\u001b[0;34m\u001b[0m\u001b[0;34m\u001b[0m\u001b[0m\n",
            "\u001b[0;31mValueError\u001b[0m: cannot reindex on an axis with duplicate labels"
          ]
        }
      ],
      "source": [
        "#I like using this plotting function if I have a lot of samples\n",
        "#However, note that KDE smooths the distrubution and it is not as exact as looking at a distplot/histplot\n",
        "\n",
        "sns.set(style=\"white\", rc={\"axes.facecolor\": (0, 0, 0, 0)})\n",
        "\n",
        "qc_metrics = ['pct_counts_mt', 'n_genes', 'pct_counts_in_top_20_genes', 'log1p_total_counts']\n",
        "\n",
        "for value in qc_metrics:\n",
        "\n",
        "    g = sns.FacetGrid(df, row=\"Sample\", hue=\"Sample\", aspect=15, height=0.5, palette=\"tab20\")\n",
        "\n",
        "    g.map(sns.kdeplot, value, clip_on=False, fill=True, alpha=1, linewidth=1.5)\n",
        "    g.map(sns.kdeplot, value, clip_on=False, color=\"w\", lw=2)\n",
        "\n",
        "    g.map(plt.axhline, y=0, lw=2, clip_on=False)\n",
        "\n",
        "    def label(x, color, label):\n",
        "        ax = plt.gca()\n",
        "        ax.text(0, .2, label, fontweight=\"bold\", color=color,\n",
        "                ha=\"left\", va=\"center\", transform=ax.transAxes)\n",
        "\n",
        "    g.map(label, value)\n",
        "\n",
        "    g.figure.subplots_adjust(hspace=-.6)\n",
        "\n",
        "    g.set_titles(\"\")\n",
        "    g.set(yticks=[], ylabel=\"\")\n",
        "    g.despine(bottom=True, left=True)\n",
        "\n",
        "    for ax in g.axes.flat:\n",
        "        ax.axvline(x=df[value].median(), color='r', linestyle='-')\n",
        "\n",
        "\n",
        "    plt.show()"
      ]
    },
    {
      "cell_type": "code",
      "execution_count": null,
      "id": "efab66a7-bf4f-417e-8a80-f020a799e1a4",
      "metadata": {
        "id": "efab66a7-bf4f-417e-8a80-f020a799e1a4"
      },
      "outputs": [],
      "source": [
        "sc.pl.set_rcParams_defaults() #do this or the above code makes your following plots look bad"
      ]
    },
    {
      "cell_type": "code",
      "execution_count": null,
      "id": "1a57c549-2f3b-4110-b835-bec28332ac93",
      "metadata": {
        "id": "1a57c549-2f3b-4110-b835-bec28332ac93"
      },
      "outputs": [],
      "source": []
    },
    {
      "cell_type": "code",
      "execution_count": null,
      "id": "1d5824bd-2f0a-44af-8975-5fc5f77c5410",
      "metadata": {
        "colab": {
          "base_uri": "https://localhost:8080/",
          "height": 311
        },
        "id": "1d5824bd-2f0a-44af-8975-5fc5f77c5410",
        "outputId": "4d286d9d-0546-4f1f-f0c8-695da74d2541"
      },
      "outputs": [
        {
          "output_type": "error",
          "ename": "ValueError",
          "evalue": "Could not interpret value `n_genes` for `x`. An entry with this name does not appear in `data`.",
          "traceback": [
            "\u001b[0;31m---------------------------------------------------------------------------\u001b[0m",
            "\u001b[0;31mValueError\u001b[0m                                Traceback (most recent call last)",
            "\u001b[0;32m<ipython-input-24-5d033908b938>\u001b[0m in \u001b[0;36m<cell line: 1>\u001b[0;34m()\u001b[0m\n\u001b[0;32m----> 1\u001b[0;31m \u001b[0max\u001b[0m \u001b[0;34m=\u001b[0m \u001b[0msns\u001b[0m\u001b[0;34m.\u001b[0m\u001b[0mdisplot\u001b[0m\u001b[0;34m(\u001b[0m\u001b[0mdata\u001b[0m \u001b[0;34m=\u001b[0m \u001b[0mdf\u001b[0m\u001b[0;34m[\u001b[0m\u001b[0mdf\u001b[0m\u001b[0;34m.\u001b[0m\u001b[0mSample\u001b[0m \u001b[0;34m==\u001b[0m \u001b[0;34m'D10'\u001b[0m\u001b[0;34m]\u001b[0m\u001b[0;34m,\u001b[0m \u001b[0mx\u001b[0m \u001b[0;34m=\u001b[0m \u001b[0;34m'n_genes'\u001b[0m\u001b[0;34m)\u001b[0m\u001b[0;34m\u001b[0m\u001b[0;34m\u001b[0m\u001b[0m\n\u001b[0m\u001b[1;32m      2\u001b[0m \u001b[0mplt\u001b[0m\u001b[0;34m.\u001b[0m\u001b[0mshow\u001b[0m\u001b[0;34m(\u001b[0m\u001b[0;34m)\u001b[0m\u001b[0;34m\u001b[0m\u001b[0;34m\u001b[0m\u001b[0m\n",
            "\u001b[0;32m/usr/local/lib/python3.10/dist-packages/seaborn/distributions.py\u001b[0m in \u001b[0;36mdisplot\u001b[0;34m(data, x, y, hue, row, col, weights, kind, rug, rug_kws, log_scale, legend, palette, hue_order, hue_norm, color, col_wrap, row_order, col_order, height, aspect, facet_kws, **kwargs)\u001b[0m\n\u001b[1;32m   2106\u001b[0m ):\n\u001b[1;32m   2107\u001b[0m \u001b[0;34m\u001b[0m\u001b[0m\n\u001b[0;32m-> 2108\u001b[0;31m     p = _DistributionPlotter(\n\u001b[0m\u001b[1;32m   2109\u001b[0m         \u001b[0mdata\u001b[0m\u001b[0;34m=\u001b[0m\u001b[0mdata\u001b[0m\u001b[0;34m,\u001b[0m\u001b[0;34m\u001b[0m\u001b[0;34m\u001b[0m\u001b[0m\n\u001b[1;32m   2110\u001b[0m         \u001b[0mvariables\u001b[0m\u001b[0;34m=\u001b[0m\u001b[0mdict\u001b[0m\u001b[0;34m(\u001b[0m\u001b[0mx\u001b[0m\u001b[0;34m=\u001b[0m\u001b[0mx\u001b[0m\u001b[0;34m,\u001b[0m \u001b[0my\u001b[0m\u001b[0;34m=\u001b[0m\u001b[0my\u001b[0m\u001b[0;34m,\u001b[0m \u001b[0mhue\u001b[0m\u001b[0;34m=\u001b[0m\u001b[0mhue\u001b[0m\u001b[0;34m,\u001b[0m \u001b[0mweights\u001b[0m\u001b[0;34m=\u001b[0m\u001b[0mweights\u001b[0m\u001b[0;34m,\u001b[0m \u001b[0mrow\u001b[0m\u001b[0;34m=\u001b[0m\u001b[0mrow\u001b[0m\u001b[0;34m,\u001b[0m \u001b[0mcol\u001b[0m\u001b[0;34m=\u001b[0m\u001b[0mcol\u001b[0m\u001b[0;34m)\u001b[0m\u001b[0;34m,\u001b[0m\u001b[0;34m\u001b[0m\u001b[0;34m\u001b[0m\u001b[0m\n",
            "\u001b[0;32m/usr/local/lib/python3.10/dist-packages/seaborn/distributions.py\u001b[0m in \u001b[0;36m__init__\u001b[0;34m(self, data, variables)\u001b[0m\n\u001b[1;32m    108\u001b[0m     ):\n\u001b[1;32m    109\u001b[0m \u001b[0;34m\u001b[0m\u001b[0m\n\u001b[0;32m--> 110\u001b[0;31m         \u001b[0msuper\u001b[0m\u001b[0;34m(\u001b[0m\u001b[0;34m)\u001b[0m\u001b[0;34m.\u001b[0m\u001b[0m__init__\u001b[0m\u001b[0;34m(\u001b[0m\u001b[0mdata\u001b[0m\u001b[0;34m=\u001b[0m\u001b[0mdata\u001b[0m\u001b[0;34m,\u001b[0m \u001b[0mvariables\u001b[0m\u001b[0;34m=\u001b[0m\u001b[0mvariables\u001b[0m\u001b[0;34m)\u001b[0m\u001b[0;34m\u001b[0m\u001b[0;34m\u001b[0m\u001b[0m\n\u001b[0m\u001b[1;32m    111\u001b[0m \u001b[0;34m\u001b[0m\u001b[0m\n\u001b[1;32m    112\u001b[0m     \u001b[0;34m@\u001b[0m\u001b[0mproperty\u001b[0m\u001b[0;34m\u001b[0m\u001b[0;34m\u001b[0m\u001b[0m\n",
            "\u001b[0;32m/usr/local/lib/python3.10/dist-packages/seaborn/_base.py\u001b[0m in \u001b[0;36m__init__\u001b[0;34m(self, data, variables)\u001b[0m\n\u001b[1;32m    632\u001b[0m         \u001b[0;31m# information for numeric axes would be information about log scales.\u001b[0m\u001b[0;34m\u001b[0m\u001b[0;34m\u001b[0m\u001b[0m\n\u001b[1;32m    633\u001b[0m         \u001b[0mself\u001b[0m\u001b[0;34m.\u001b[0m\u001b[0m_var_ordered\u001b[0m \u001b[0;34m=\u001b[0m \u001b[0;34m{\u001b[0m\u001b[0;34m\"x\"\u001b[0m\u001b[0;34m:\u001b[0m \u001b[0;32mFalse\u001b[0m\u001b[0;34m,\u001b[0m \u001b[0;34m\"y\"\u001b[0m\u001b[0;34m:\u001b[0m \u001b[0;32mFalse\u001b[0m\u001b[0;34m}\u001b[0m  \u001b[0;31m# alt., used DefaultDict\u001b[0m\u001b[0;34m\u001b[0m\u001b[0;34m\u001b[0m\u001b[0m\n\u001b[0;32m--> 634\u001b[0;31m         \u001b[0mself\u001b[0m\u001b[0;34m.\u001b[0m\u001b[0massign_variables\u001b[0m\u001b[0;34m(\u001b[0m\u001b[0mdata\u001b[0m\u001b[0;34m,\u001b[0m \u001b[0mvariables\u001b[0m\u001b[0;34m)\u001b[0m\u001b[0;34m\u001b[0m\u001b[0;34m\u001b[0m\u001b[0m\n\u001b[0m\u001b[1;32m    635\u001b[0m \u001b[0;34m\u001b[0m\u001b[0m\n\u001b[1;32m    636\u001b[0m         \u001b[0;31m# TODO Lots of tests assume that these are called to initialize the\u001b[0m\u001b[0;34m\u001b[0m\u001b[0;34m\u001b[0m\u001b[0m\n",
            "\u001b[0;32m/usr/local/lib/python3.10/dist-packages/seaborn/_base.py\u001b[0m in \u001b[0;36massign_variables\u001b[0;34m(self, data, variables)\u001b[0m\n\u001b[1;32m    677\u001b[0m             \u001b[0;31m# to centralize / standardize data consumption logic.\u001b[0m\u001b[0;34m\u001b[0m\u001b[0;34m\u001b[0m\u001b[0m\n\u001b[1;32m    678\u001b[0m             \u001b[0mself\u001b[0m\u001b[0;34m.\u001b[0m\u001b[0minput_format\u001b[0m \u001b[0;34m=\u001b[0m \u001b[0;34m\"long\"\u001b[0m\u001b[0;34m\u001b[0m\u001b[0;34m\u001b[0m\u001b[0m\n\u001b[0;32m--> 679\u001b[0;31m             \u001b[0mplot_data\u001b[0m \u001b[0;34m=\u001b[0m \u001b[0mPlotData\u001b[0m\u001b[0;34m(\u001b[0m\u001b[0mdata\u001b[0m\u001b[0;34m,\u001b[0m \u001b[0mvariables\u001b[0m\u001b[0;34m)\u001b[0m\u001b[0;34m\u001b[0m\u001b[0;34m\u001b[0m\u001b[0m\n\u001b[0m\u001b[1;32m    680\u001b[0m             \u001b[0mframe\u001b[0m \u001b[0;34m=\u001b[0m \u001b[0mplot_data\u001b[0m\u001b[0;34m.\u001b[0m\u001b[0mframe\u001b[0m\u001b[0;34m\u001b[0m\u001b[0;34m\u001b[0m\u001b[0m\n\u001b[1;32m    681\u001b[0m             \u001b[0mnames\u001b[0m \u001b[0;34m=\u001b[0m \u001b[0mplot_data\u001b[0m\u001b[0;34m.\u001b[0m\u001b[0mnames\u001b[0m\u001b[0;34m\u001b[0m\u001b[0;34m\u001b[0m\u001b[0m\n",
            "\u001b[0;32m/usr/local/lib/python3.10/dist-packages/seaborn/_core/data.py\u001b[0m in \u001b[0;36m__init__\u001b[0;34m(self, data, variables)\u001b[0m\n\u001b[1;32m     56\u001b[0m \u001b[0;34m\u001b[0m\u001b[0m\n\u001b[1;32m     57\u001b[0m         \u001b[0mdata\u001b[0m \u001b[0;34m=\u001b[0m \u001b[0mhandle_data_source\u001b[0m\u001b[0;34m(\u001b[0m\u001b[0mdata\u001b[0m\u001b[0;34m)\u001b[0m\u001b[0;34m\u001b[0m\u001b[0;34m\u001b[0m\u001b[0m\n\u001b[0;32m---> 58\u001b[0;31m         \u001b[0mframe\u001b[0m\u001b[0;34m,\u001b[0m \u001b[0mnames\u001b[0m\u001b[0;34m,\u001b[0m \u001b[0mids\u001b[0m \u001b[0;34m=\u001b[0m \u001b[0mself\u001b[0m\u001b[0;34m.\u001b[0m\u001b[0m_assign_variables\u001b[0m\u001b[0;34m(\u001b[0m\u001b[0mdata\u001b[0m\u001b[0;34m,\u001b[0m \u001b[0mvariables\u001b[0m\u001b[0;34m)\u001b[0m\u001b[0;34m\u001b[0m\u001b[0;34m\u001b[0m\u001b[0m\n\u001b[0m\u001b[1;32m     59\u001b[0m \u001b[0;34m\u001b[0m\u001b[0m\n\u001b[1;32m     60\u001b[0m         \u001b[0mself\u001b[0m\u001b[0;34m.\u001b[0m\u001b[0mframe\u001b[0m \u001b[0;34m=\u001b[0m \u001b[0mframe\u001b[0m\u001b[0;34m\u001b[0m\u001b[0;34m\u001b[0m\u001b[0m\n",
            "\u001b[0;32m/usr/local/lib/python3.10/dist-packages/seaborn/_core/data.py\u001b[0m in \u001b[0;36m_assign_variables\u001b[0;34m(self, data, variables)\u001b[0m\n\u001b[1;32m    230\u001b[0m                 \u001b[0;32melse\u001b[0m\u001b[0;34m:\u001b[0m\u001b[0;34m\u001b[0m\u001b[0;34m\u001b[0m\u001b[0m\n\u001b[1;32m    231\u001b[0m                     \u001b[0merr\u001b[0m \u001b[0;34m+=\u001b[0m \u001b[0;34m\"An entry with this name does not appear in `data`.\"\u001b[0m\u001b[0;34m\u001b[0m\u001b[0;34m\u001b[0m\u001b[0m\n\u001b[0;32m--> 232\u001b[0;31m                 \u001b[0;32mraise\u001b[0m \u001b[0mValueError\u001b[0m\u001b[0;34m(\u001b[0m\u001b[0merr\u001b[0m\u001b[0;34m)\u001b[0m\u001b[0;34m\u001b[0m\u001b[0;34m\u001b[0m\u001b[0m\n\u001b[0m\u001b[1;32m    233\u001b[0m \u001b[0;34m\u001b[0m\u001b[0m\n\u001b[1;32m    234\u001b[0m             \u001b[0;32melse\u001b[0m\u001b[0;34m:\u001b[0m\u001b[0;34m\u001b[0m\u001b[0;34m\u001b[0m\u001b[0m\n",
            "\u001b[0;31mValueError\u001b[0m: Could not interpret value `n_genes` for `x`. An entry with this name does not appear in `data`."
          ]
        }
      ],
      "source": [
        "ax = sns.displot(data = df[df.Sample == 'D10'], x = 'n_genes')\n",
        "plt.show()"
      ]
    },
    {
      "cell_type": "code",
      "execution_count": null,
      "id": "94b0c07d-db91-4747-99a2-b14e427575ea",
      "metadata": {
        "id": "94b0c07d-db91-4747-99a2-b14e427575ea"
      },
      "outputs": [],
      "source": [
        "ax = sns.displot(data = df[df.Sample == 'D10'], x = 'pct_counts_in_top_20_genes')\n",
        "plt.show()"
      ]
    },
    {
      "cell_type": "code",
      "execution_count": null,
      "id": "7ea56ca9-4d81-4e19-9f71-b506940403bf",
      "metadata": {
        "id": "7ea56ca9-4d81-4e19-9f71-b506940403bf"
      },
      "outputs": [],
      "source": [
        "ax = sns.displot(data = df[df.Sample == 'D10'], x = 'pct_counts_mt')\n",
        "plt.show()"
      ]
    },
    {
      "cell_type": "code",
      "execution_count": null,
      "id": "67f23e8c-f851-4c2f-bb7d-b04557977abd",
      "metadata": {
        "id": "67f23e8c-f851-4c2f-bb7d-b04557977abd"
      },
      "outputs": [],
      "source": [
        "ax = sns.displot(data = df[df.Sample == 'D10'], x = 'log1p_total_counts')\n",
        "plt.show()"
      ]
    },
    {
      "cell_type": "code",
      "execution_count": null,
      "id": "2868c9fb-12e0-4e9d-91f1-78761066f7d0",
      "metadata": {
        "id": "2868c9fb-12e0-4e9d-91f1-78761066f7d0"
      },
      "outputs": [],
      "source": []
    },
    {
      "cell_type": "markdown",
      "id": "90154545-9042-450d-95f1-0de77ed8e248",
      "metadata": {
        "id": "90154545-9042-450d-95f1-0de77ed8e248"
      },
      "source": [
        "## Filtering/ preprocessing\n",
        "Based on QC metrics we now need to remove low quality cells.  \n",
        "\n",
        "You can invidually set manual thresholds, but that may introduce subjective bias and is less reproducible  \n",
        "\n",
        "**NOTE** that you should be preprocessing each individual samples separately because they have their own distrubtions!"
      ]
    },
    {
      "cell_type": "code",
      "execution_count": null,
      "id": "849752c6-34bc-4f03-a6d4-71049bf7f561",
      "metadata": {
        "id": "849752c6-34bc-4f03-a6d4-71049bf7f561"
      },
      "outputs": [],
      "source": [
        "'''\n",
        "Automated/objective way to remove outliers based on median absolute deviations\n",
        "\n",
        "Returns true if a given cell is a MAD outlier\n",
        "'''\n",
        "def mad_outlier(adata, metric, nmads, upper_only = False):\n",
        "    M = adata.obs[metric]\n",
        "\n",
        "    if not upper_only:\n",
        "        return (M < np.median(M) - nmads * mad(M)) | (M > np.median(M) + nmads * mad(M))\n",
        "\n",
        "    return (M > np.median(M) + nmads * mad(M))"
      ]
    },
    {
      "cell_type": "code",
      "execution_count": null,
      "id": "61387ed5-9785-446d-a14e-4e90a1f03caa",
      "metadata": {
        "id": "61387ed5-9785-446d-a14e-4e90a1f03caa"
      },
      "outputs": [],
      "source": []
    },
    {
      "cell_type": "code",
      "execution_count": null,
      "id": "fbf2c0c3-2702-4ae8-ae5f-7573d64595c4",
      "metadata": {
        "id": "fbf2c0c3-2702-4ae8-ae5f-7573d64595c4"
      },
      "outputs": [],
      "source": [
        "'''\n",
        "Removes outlier cells from an individual anndata object\n",
        "'''\n",
        "def pp(adata):\n",
        "    sc.pp.filter_cells(adata, min_genes = 200) #real cells really shouldn't have this few genes. Unless data very sparse\n",
        "\n",
        "    #here we are summing bool. ie. False + False = False, True + True = True, False + True = True\n",
        "    bool_vector = mad_outlier(adata, 'log1p_total_counts', 5) +\\\n",
        "            mad_outlier(adata, 'log1p_n_genes_by_counts', 5) +\\\n",
        "            mad_outlier(adata, 'pct_counts_in_top_20_genes', 5) +\\\n",
        "            mad_outlier(adata, 'pct_counts_mt', 3, upper_only = True)\n",
        "\n",
        "    adata = adata[~bool_vector] #we want to keep the ones that are false, ie, not MAD outliers\n",
        "\n",
        "    adata = adata[adata.obs.pct_counts_mt < 25] #just in case any made it, typically 25% is very high\n",
        "\n",
        "    return adata"
      ]
    },
    {
      "cell_type": "code",
      "execution_count": null,
      "id": "1998b54a-c0fb-49c7-95b1-a5ca77660f8a",
      "metadata": {
        "id": "1998b54a-c0fb-49c7-95b1-a5ca77660f8a"
      },
      "outputs": [],
      "source": [
        "adatas = [pp(ad) for ad in adatas]"
      ]
    },
    {
      "cell_type": "code",
      "execution_count": null,
      "id": "aeb64509-27d7-4e57-a25f-36bccaf819c2",
      "metadata": {
        "colab": {
          "base_uri": "https://localhost:8080/"
        },
        "id": "aeb64509-27d7-4e57-a25f-36bccaf819c2",
        "outputId": "0083e360-0e27-4a1a-c1f1-1312063ac4d0"
      },
      "outputs": [
        {
          "output_type": "execute_result",
          "data": {
            "text/plain": [
              "[View of AnnData object with n_obs × n_vars = 1076 × 19374\n",
              "     obs: 'Sample', 'n_genes_by_counts', 'log1p_n_genes_by_counts', 'total_counts', 'log1p_total_counts', 'pct_counts_in_top_20_genes', 'total_counts_mt', 'log1p_total_counts_mt', 'pct_counts_mt', 'n_genes'\n",
              "     var: 'gene_ids', 'feature_types', 'genome', 'n_cells', 'mt', 'n_cells_by_counts', 'mean_counts', 'log1p_mean_counts', 'pct_dropout_by_counts', 'total_counts', 'log1p_total_counts',\n",
              " View of AnnData object with n_obs × n_vars = 1202 × 17764\n",
              "     obs: 'Sample', 'n_genes_by_counts', 'log1p_n_genes_by_counts', 'total_counts', 'log1p_total_counts', 'pct_counts_in_top_20_genes', 'total_counts_mt', 'log1p_total_counts_mt', 'pct_counts_mt', 'n_genes'\n",
              "     var: 'gene_ids', 'feature_types', 'genome', 'n_cells', 'mt', 'n_cells_by_counts', 'mean_counts', 'log1p_mean_counts', 'pct_dropout_by_counts', 'total_counts', 'log1p_total_counts',\n",
              " View of AnnData object with n_obs × n_vars = 1083 × 19375\n",
              "     obs: 'Sample', 'n_genes_by_counts', 'log1p_n_genes_by_counts', 'total_counts', 'log1p_total_counts', 'pct_counts_in_top_20_genes', 'total_counts_mt', 'log1p_total_counts_mt', 'pct_counts_mt', 'n_genes'\n",
              "     var: 'gene_ids', 'feature_types', 'genome', 'n_cells', 'mt', 'n_cells_by_counts', 'mean_counts', 'log1p_mean_counts', 'pct_dropout_by_counts', 'total_counts', 'log1p_total_counts',\n",
              " View of AnnData object with n_obs × n_vars = 1069 × 18049\n",
              "     obs: 'Sample', 'n_genes_by_counts', 'log1p_n_genes_by_counts', 'total_counts', 'log1p_total_counts', 'pct_counts_in_top_20_genes', 'total_counts_mt', 'log1p_total_counts_mt', 'pct_counts_mt', 'n_genes'\n",
              "     var: 'gene_ids', 'feature_types', 'genome', 'n_cells', 'mt', 'n_cells_by_counts', 'mean_counts', 'log1p_mean_counts', 'pct_dropout_by_counts', 'total_counts', 'log1p_total_counts',\n",
              " View of AnnData object with n_obs × n_vars = 1121 × 17776\n",
              "     obs: 'Sample', 'n_genes_by_counts', 'log1p_n_genes_by_counts', 'total_counts', 'log1p_total_counts', 'pct_counts_in_top_20_genes', 'total_counts_mt', 'log1p_total_counts_mt', 'pct_counts_mt', 'n_genes'\n",
              "     var: 'gene_ids', 'feature_types', 'genome', 'n_cells', 'mt', 'n_cells_by_counts', 'mean_counts', 'log1p_mean_counts', 'pct_dropout_by_counts', 'total_counts', 'log1p_total_counts']"
            ]
          },
          "metadata": {},
          "execution_count": 30
        }
      ],
      "source": [
        "#note that sometimes this automated method can be very strict\n",
        "#in some instances it may be better to set each threshold for each sample individually\n",
        "adatas"
      ]
    },
    {
      "cell_type": "code",
      "execution_count": null,
      "id": "60db99a6-25c0-4661-b19f-bac255e0643f",
      "metadata": {
        "id": "60db99a6-25c0-4661-b19f-bac255e0643f"
      },
      "outputs": [],
      "source": []
    },
    {
      "cell_type": "markdown",
      "id": "fb13f46f-4c51-47aa-b267-87f8f7e1f7c8",
      "metadata": {
        "id": "fb13f46f-4c51-47aa-b267-87f8f7e1f7c8"
      },
      "source": [
        "## Doublet Removal"
      ]
    },
    {
      "cell_type": "markdown",
      "id": "c31ae99c-6c09-405d-b356-7f6412467b13",
      "metadata": {
        "id": "c31ae99c-6c09-405d-b356-7f6412467b13"
      },
      "source": [
        "Example doublets in lung data:  \n",
        "<div>\n",
        "<img src=\"images/doublets.png\" width=\"600\"/>\n",
        "</div>"
      ]
    },
    {
      "cell_type": "markdown",
      "id": "7cc89271-28d0-4a6d-9671-cd478c65b04d",
      "metadata": {
        "id": "7cc89271-28d0-4a6d-9671-cd478c65b04d"
      },
      "source": [
        "<div>\n",
        "<img src=\"https://genomicsequencing.cruk.cam.ac.uk/sequencing/images/help/CellRecovery.gif\" width=\"600\"/>\n",
        "</div>\n",
        "\n",
        "For microfluidics methods, the number of cells targeted influences the doublet rate. We targeted 10k cells in the sample data"
      ]
    },
    {
      "cell_type": "code",
      "execution_count": null,
      "id": "be3f7b34-dcd0-4541-a15c-67e70788bad1",
      "metadata": {
        "id": "be3f7b34-dcd0-4541-a15c-67e70788bad1"
      },
      "outputs": [],
      "source": [
        "clf = doubletdetection.BoostClassifier(\n",
        "    n_iters=10,\n",
        "    clustering_algorithm=\"louvain\",\n",
        "    standard_scaling=True,\n",
        "    pseudocount=0.1,\n",
        "    n_jobs=-1)\n",
        "\n",
        "'''\n",
        "Labels but does not remove doublets in a single cell object\n",
        "\n",
        "Uses two methods: doubletdecection and scrublet\n",
        "'''\n",
        "def dd(adata): #two methods!\n",
        "    sc.pp.scrublet(adata, expected_doublet_rate = 0.1) #default is 0.05\n",
        "\n",
        "    doublets = clf.fit(adata.X).predict(p_thresh=1e-3, voter_thresh=0.5)\n",
        "    doublet_score = clf.doublet_score()\n",
        "    adata.obs[\"clf_doublet\"] = doublets\n",
        "    adata.obs[\"clf_score\"] = doublet_score\n",
        "\n",
        "    #to filter\n",
        "    #adata = adata[~((adata.obs.predicted_doublet) | (adata.obs.clf_doublet == 1))]\n",
        "\n",
        "    return adata"
      ]
    },
    {
      "cell_type": "code",
      "execution_count": null,
      "id": "0868fe4b-2dac-40ea-bab4-dd4eb3cf9bda",
      "metadata": {
        "id": "0868fe4b-2dac-40ea-bab4-dd4eb3cf9bda"
      },
      "outputs": [],
      "source": []
    },
    {
      "cell_type": "code",
      "execution_count": null,
      "id": "aedd8c3c-f716-4aec-9eae-036e752f69e8",
      "metadata": {
        "colab": {
          "base_uri": "https://localhost:8080/",
          "height": 177,
          "referenced_widgets": [
            "7dac16737ffb44ad813790a9ec4df146",
            "9729c2ea0677485bafe923d73a816f84",
            "96aa0431ff90478a8f4251b5416c7f36",
            "bc0fb22403a14bc0ba124f0ea7329974",
            "621b5997815d4befa22fdf11d7241346",
            "ec193929078b43bd8b42b86ff35c33b5",
            "c2625fbf0a0e4956b17cdf86353599d1",
            "b1f8fb66e46c4806bd9542690ca134b5",
            "ecce1374629f4c54b959784f35c39c1f",
            "766572e315c7404f81f93f3ca52308b2",
            "3add9355afe344af843c46badcf6f398",
            "237c0f3d976a48c9adf27245ff82e601",
            "4fd93085318449b7ba6e87a861220c99",
            "e7caf12b18184ab7b1ef0d3027bcc9d7",
            "6c7eda05f5c54131b51658400c212284",
            "96634f842772411184cfa03a578bc900",
            "f84fc9f4649a4044a0847cf88cf98e86",
            "1111a563129349208af9fbf531ba3394",
            "42d6f0ee34ce424d9e3a997f7831ae23",
            "7f85d8b66ac14ddd8db5c0b9a172d549",
            "4adee7fe88b141b68035e7ef8eaec8dc",
            "18b361cbe841415c889df8cc204f6490",
            "f3926859378244219c50349bf1ad7133",
            "cacbc89ecc0848619d800a2149eb24ce",
            "eeff25fd0cdc4f5b9beb7ea5f7d36365",
            "ab9c4adb4c0442ee829a3e8a7b10bc40",
            "8e1b25fcaec94196800dfc72328e4dbc",
            "3dc36bf38ac54ffa9f3df3b39c4895fb",
            "43911fa9ee7a4fcf920cb8f0467d37a7",
            "30ded58dee0c44d3ac8aae215a950d6a",
            "776d82081d1541d88efa352ce1a87a3d",
            "4844a3415a5c4211bcbabb79d0544bc9",
            "6d9b31b5909449e1adc086aaa055b2cd",
            "f088137586d14b4ebd829e8e7efc99ee",
            "c3082105888e4dcbae5033ece6a3fd10",
            "3b32a70f7df14438b6890447ee27e17a",
            "932fc110a2f843469221bc7ae4f30b30",
            "1bdbebf11c064da0b5e5e58c962bad74",
            "a1dc6f4136ac4896a8ff1222c5be6960",
            "cf21966359b144f9ad3dd3b27764b634",
            "9a2fedc3b9fe450281467b65613db51b",
            "e61bb255ae15466ba989f7f9d2d00292",
            "b959a387b2b044e698ede2899c3b9f67",
            "377c3e8907f94f2b8a255df928006794",
            "36aec0cf88514a41b49b9d1569abbc00",
            "6c6e933be9fe40d4ae717417eb49c90e",
            "879ff94b6a13486d83298c46618b1a86",
            "f27e2d65e12f4ea9a058f323ed398b4b",
            "527e053881444a1aa4cdf45a88a80496",
            "222af83792ed4230a113f262d84f154b",
            "9a7248d3e1414117986d794fc7e6650e",
            "8dfd9d2721e84522a0935eba618ad5a5",
            "dbd6e16efe224ecfa1d3a7f062f3c164",
            "4b5e9de4114b4ce4b49204fb9fb11b02",
            "65ac0b4c3d7a4aaca913a3a9d28e07f2"
          ]
        },
        "id": "aedd8c3c-f716-4aec-9eae-036e752f69e8",
        "outputId": "6be011d3-aa46-4630-dbe8-8d70b32c169b"
      },
      "outputs": [
        {
          "output_type": "display_data",
          "data": {
            "text/plain": [
              "  0%|          | 0/10 [00:00<?, ?it/s]"
            ],
            "application/vnd.jupyter.widget-view+json": {
              "version_major": 2,
              "version_minor": 0,
              "model_id": "7dac16737ffb44ad813790a9ec4df146"
            }
          },
          "metadata": {}
        },
        {
          "output_type": "display_data",
          "data": {
            "text/plain": [
              "  0%|          | 0/10 [00:00<?, ?it/s]"
            ],
            "application/vnd.jupyter.widget-view+json": {
              "version_major": 2,
              "version_minor": 0,
              "model_id": "237c0f3d976a48c9adf27245ff82e601"
            }
          },
          "metadata": {}
        },
        {
          "output_type": "display_data",
          "data": {
            "text/plain": [
              "  0%|          | 0/10 [00:00<?, ?it/s]"
            ],
            "application/vnd.jupyter.widget-view+json": {
              "version_major": 2,
              "version_minor": 0,
              "model_id": "f3926859378244219c50349bf1ad7133"
            }
          },
          "metadata": {}
        },
        {
          "output_type": "display_data",
          "data": {
            "text/plain": [
              "  0%|          | 0/10 [00:00<?, ?it/s]"
            ],
            "application/vnd.jupyter.widget-view+json": {
              "version_major": 2,
              "version_minor": 0,
              "model_id": "f088137586d14b4ebd829e8e7efc99ee"
            }
          },
          "metadata": {}
        },
        {
          "output_type": "display_data",
          "data": {
            "text/plain": [
              "  0%|          | 0/10 [00:00<?, ?it/s]"
            ],
            "application/vnd.jupyter.widget-view+json": {
              "version_major": 2,
              "version_minor": 0,
              "model_id": "36aec0cf88514a41b49b9d1569abbc00"
            }
          },
          "metadata": {}
        }
      ],
      "source": [
        "adatas = [dd(ad) for ad in adatas]"
      ]
    },
    {
      "cell_type": "code",
      "execution_count": null,
      "id": "cc9174ab-66b4-4392-b923-ee5f6803a9ce",
      "metadata": {
        "id": "cc9174ab-66b4-4392-b923-ee5f6803a9ce"
      },
      "outputs": [],
      "source": []
    },
    {
      "cell_type": "markdown",
      "id": "29d05ee1-323c-4172-b8d1-cbe83e354a08",
      "metadata": {
        "id": "29d05ee1-323c-4172-b8d1-cbe83e354a08"
      },
      "source": [
        "Methods differ, so using the union of two is more robust:"
      ]
    },
    {
      "cell_type": "code",
      "execution_count": null,
      "id": "148771c5-380f-4b1c-a541-0e6a4c140930",
      "metadata": {
        "colab": {
          "base_uri": "https://localhost:8080/"
        },
        "id": "148771c5-380f-4b1c-a541-0e6a4c140930",
        "outputId": "753f3f89-0e25-43e4-ffcf-2dec2b97d586"
      },
      "outputs": [
        {
          "output_type": "stream",
          "name": "stdout",
          "text": [
            "1.5142573661506066e-34\n",
            "2.3107843528334527e-07\n",
            "0.0007756759400694716\n",
            "4.4489296046963154e-11\n",
            "3.841631135665292e-24\n"
          ]
        }
      ],
      "source": [
        "for _ in adatas:\n",
        "    a = set(_.obs[_.obs.predicted_doublet].index)\n",
        "    b = set(_.obs[_.obs.clf_doublet == 1].index)\n",
        "\n",
        "    plt.figure(figsize=(2, 2))\n",
        "    venn = venn2([a, b], set_labels=('scrublet', 'dd'))\n",
        "    plt.show()\n",
        "\n",
        "    enr = stats.hypergeom.sf(len(a.intersection(b))-1, len(_), len(a), len(b))\n",
        "    print(enr)"
      ]
    },
    {
      "cell_type": "code",
      "execution_count": null,
      "id": "25facc45-eb87-4a1f-aae3-45f1b835392e",
      "metadata": {
        "id": "25facc45-eb87-4a1f-aae3-45f1b835392e"
      },
      "outputs": [],
      "source": [
        "#actually remove the doublets, which we could have done above if we didnt want to plot it\n",
        "def rd(adata):\n",
        "    adata = adata[~((adata.obs.predicted_doublet) | (adata.obs.clf_doublet == 1))] #union\n",
        "    return adata"
      ]
    },
    {
      "cell_type": "code",
      "execution_count": null,
      "id": "30b8fa5c-7f4c-4a0c-8082-45d489361b05",
      "metadata": {
        "id": "30b8fa5c-7f4c-4a0c-8082-45d489361b05"
      },
      "outputs": [],
      "source": [
        "adatas = [rd(ad) for ad in adatas]"
      ]
    },
    {
      "cell_type": "code",
      "execution_count": null,
      "id": "c1b16161-87f3-4b79-b1cc-c9718e924edd",
      "metadata": {
        "id": "c1b16161-87f3-4b79-b1cc-c9718e924edd",
        "outputId": "ae8c42c9-ecb4-448b-dcea-fabf12f79bd1"
      },
      "outputs": [
        {
          "data": {
            "text/plain": [
              "[View of AnnData object with n_obs × n_vars = 1087 × 18149\n",
              "     obs: 'n_genes', 'Sample', 'n_genes_by_counts', 'log1p_n_genes_by_counts', 'total_counts', 'log1p_total_counts', 'pct_counts_in_top_20_genes', 'total_counts_mt', 'log1p_total_counts_mt', 'pct_counts_mt', 'doublet_score', 'predicted_doublet', 'clf_doublet', 'clf_score'\n",
              "     var: 'gene_ids', 'feature_types', 'genome', 'n_cells', 'mt', 'n_cells_by_counts', 'mean_counts', 'log1p_mean_counts', 'pct_dropout_by_counts', 'total_counts', 'log1p_total_counts'\n",
              "     uns: 'scrublet',\n",
              " View of AnnData object with n_obs × n_vars = 1259 × 18053\n",
              "     obs: 'n_genes', 'Sample', 'n_genes_by_counts', 'log1p_n_genes_by_counts', 'total_counts', 'log1p_total_counts', 'pct_counts_in_top_20_genes', 'total_counts_mt', 'log1p_total_counts_mt', 'pct_counts_mt', 'doublet_score', 'predicted_doublet', 'clf_doublet', 'clf_score'\n",
              "     var: 'gene_ids', 'feature_types', 'genome', 'n_cells', 'mt', 'n_cells_by_counts', 'mean_counts', 'log1p_mean_counts', 'pct_dropout_by_counts', 'total_counts', 'log1p_total_counts'\n",
              "     uns: 'scrublet',\n",
              " View of AnnData object with n_obs × n_vars = 1138 × 17831\n",
              "     obs: 'n_genes', 'Sample', 'n_genes_by_counts', 'log1p_n_genes_by_counts', 'total_counts', 'log1p_total_counts', 'pct_counts_in_top_20_genes', 'total_counts_mt', 'log1p_total_counts_mt', 'pct_counts_mt', 'doublet_score', 'predicted_doublet', 'clf_doublet', 'clf_score'\n",
              "     var: 'gene_ids', 'feature_types', 'genome', 'n_cells', 'mt', 'n_cells_by_counts', 'mean_counts', 'log1p_mean_counts', 'pct_dropout_by_counts', 'total_counts', 'log1p_total_counts'\n",
              "     uns: 'scrublet',\n",
              " View of AnnData object with n_obs × n_vars = 1111 × 19503\n",
              "     obs: 'n_genes', 'Sample', 'n_genes_by_counts', 'log1p_n_genes_by_counts', 'total_counts', 'log1p_total_counts', 'pct_counts_in_top_20_genes', 'total_counts_mt', 'log1p_total_counts_mt', 'pct_counts_mt', 'doublet_score', 'predicted_doublet', 'clf_doublet', 'clf_score'\n",
              "     var: 'gene_ids', 'feature_types', 'genome', 'n_cells', 'mt', 'n_cells_by_counts', 'mean_counts', 'log1p_mean_counts', 'pct_dropout_by_counts', 'total_counts', 'log1p_total_counts'\n",
              "     uns: 'scrublet',\n",
              " View of AnnData object with n_obs × n_vars = 1158 × 19473\n",
              "     obs: 'n_genes', 'Sample', 'n_genes_by_counts', 'log1p_n_genes_by_counts', 'total_counts', 'log1p_total_counts', 'pct_counts_in_top_20_genes', 'total_counts_mt', 'log1p_total_counts_mt', 'pct_counts_mt', 'doublet_score', 'predicted_doublet', 'clf_doublet', 'clf_score'\n",
              "     var: 'gene_ids', 'feature_types', 'genome', 'n_cells', 'mt', 'n_cells_by_counts', 'mean_counts', 'log1p_mean_counts', 'pct_dropout_by_counts', 'total_counts', 'log1p_total_counts'\n",
              "     uns: 'scrublet']"
            ]
          },
          "execution_count": 31,
          "metadata": {},
          "output_type": "execute_result"
        }
      ],
      "source": [
        "adatas"
      ]
    },
    {
      "cell_type": "code",
      "execution_count": null,
      "id": "6b61e9e1-03c6-46b8-89af-e0a077569ae3",
      "metadata": {
        "id": "6b61e9e1-03c6-46b8-89af-e0a077569ae3"
      },
      "outputs": [],
      "source": []
    },
    {
      "cell_type": "markdown",
      "id": "672e01d7-bcda-41ba-a3e1-0ade9fb34d30",
      "metadata": {
        "id": "672e01d7-bcda-41ba-a3e1-0ade9fb34d30"
      },
      "source": [
        "## Integration"
      ]
    },
    {
      "cell_type": "markdown",
      "id": "6461eb5a-ec1f-4178-8a30-9ae22ad0f323",
      "metadata": {
        "id": "6461eb5a-ec1f-4178-8a30-9ae22ad0f323"
      },
      "source": [
        "Many different tools to choose from. Some much better than others.  \n",
        "\n",
        "Some good integration tools based on recent reviews:  \n",
        "scvi, scanorama, harmony  \n",
        "\n",
        "Methods should **1)** integrate similar cell types, **2)** preserve biological signal, and **3)** not force overlap if a cell type is not in both datasets.\n",
        "\n",
        "Many methods fail at one or more of these, e.g., seurat cca. The three listed above do well"
      ]
    },
    {
      "cell_type": "markdown",
      "id": "0162ec3c-4a75-481d-8aca-a5ee029a28dc",
      "metadata": {
        "id": "0162ec3c-4a75-481d-8aca-a5ee029a28dc"
      },
      "source": [
        "Here I am using harmony. Simple and fast to use with sce.external. Each method will need slightly different preparation at this point. e.g., scvi-tools will use raw counts"
      ]
    },
    {
      "cell_type": "code",
      "execution_count": null,
      "id": "e0784626-962a-471c-8a7a-37b1cb3f49b7",
      "metadata": {
        "id": "e0784626-962a-471c-8a7a-37b1cb3f49b7"
      },
      "outputs": [],
      "source": [
        "'''\n",
        "Change obs names and save raw counts\n",
        "'''\n",
        "def prep_int(adata):\n",
        "    adata.obs.index = adata.obs.index + '_' + adata.obs.Sample #making obs_names unique based on name\n",
        "    adata.layers['counts'] = adata.X.copy() #we will need raw counts later!!!!!!!!!!!!!!!!!\n",
        "    return adata"
      ]
    },
    {
      "cell_type": "code",
      "execution_count": null,
      "id": "01d3f20e-ab9b-4ff5-b407-a56854952d53",
      "metadata": {
        "id": "01d3f20e-ab9b-4ff5-b407-a56854952d53"
      },
      "outputs": [],
      "source": [
        "adatas = [prep_int(ad) for ad in adatas]"
      ]
    },
    {
      "cell_type": "code",
      "execution_count": null,
      "id": "4ddbd260-779d-48fd-9fb0-5bfd3bda5410",
      "metadata": {
        "id": "4ddbd260-779d-48fd-9fb0-5bfd3bda5410"
      },
      "outputs": [],
      "source": [
        "adata = sc.concat(adatas, join='outer') #outer to keep all genes in all objects"
      ]
    },
    {
      "cell_type": "code",
      "execution_count": null,
      "id": "459017d8-a607-4c88-9bf7-3c998aa47d39",
      "metadata": {
        "id": "459017d8-a607-4c88-9bf7-3c998aa47d39",
        "outputId": "12315eb0-b72a-4aee-ad2a-2df0a5276a31"
      },
      "outputs": [
        {
          "name": "stderr",
          "output_type": "stream",
          "text": [
            "... storing 'Sample' as categorical\n"
          ]
        }
      ],
      "source": [
        "sc.pp.normalize_total(adata)\n",
        "sc.pp.log1p(adata)\n",
        "adata.raw = adata\n",
        "sc.pp.highly_variable_genes(adata, batch_key = 'Sample', subset=False) #we don't want to affect counts layer\n",
        "sc.pp.scale(adata)\n",
        "sc.pp.pca(adata, use_highly_variable=True) #True since we didnt subset"
      ]
    },
    {
      "cell_type": "code",
      "execution_count": null,
      "id": "b6f308e4-4029-42af-9d44-895c9fbce0e0",
      "metadata": {
        "id": "b6f308e4-4029-42af-9d44-895c9fbce0e0",
        "outputId": "ca77de7d-a919-41ff-dc40-e81840791fc0"
      },
      "outputs": [
        {
          "name": "stderr",
          "output_type": "stream",
          "text": [
            "2024-09-10 03:23:49,866 - harmonypy - INFO - Computing initial centroids with sklearn.KMeans...\n",
            "Computing initial centroids with sklearn.KMeans...\n",
            "2024-09-10 03:23:50,898 - harmonypy - INFO - sklearn.KMeans initialization complete.\n",
            "sklearn.KMeans initialization complete.\n",
            "2024-09-10 03:23:50,907 - harmonypy - INFO - Iteration 1 of 10\n",
            "Iteration 1 of 10\n",
            "2024-09-10 03:23:51,284 - harmonypy - INFO - Iteration 2 of 10\n",
            "Iteration 2 of 10\n",
            "2024-09-10 03:23:51,675 - harmonypy - INFO - Iteration 3 of 10\n",
            "Iteration 3 of 10\n",
            "2024-09-10 03:23:52,052 - harmonypy - INFO - Iteration 4 of 10\n",
            "Iteration 4 of 10\n",
            "2024-09-10 03:23:52,431 - harmonypy - INFO - Iteration 5 of 10\n",
            "Iteration 5 of 10\n",
            "2024-09-10 03:23:52,673 - harmonypy - INFO - Iteration 6 of 10\n",
            "Iteration 6 of 10\n",
            "2024-09-10 03:23:52,838 - harmonypy - INFO - Iteration 7 of 10\n",
            "Iteration 7 of 10\n",
            "2024-09-10 03:23:53,048 - harmonypy - INFO - Iteration 8 of 10\n",
            "Iteration 8 of 10\n",
            "2024-09-10 03:23:53,199 - harmonypy - INFO - Iteration 9 of 10\n",
            "Iteration 9 of 10\n",
            "2024-09-10 03:23:53,380 - harmonypy - INFO - Iteration 10 of 10\n",
            "Iteration 10 of 10\n",
            "2024-09-10 03:23:53,562 - harmonypy - INFO - Converged after 10 iterations\n",
            "Converged after 10 iterations\n"
          ]
        }
      ],
      "source": [
        "sce.pp.harmony_integrate(adata, key = 'Sample')"
      ]
    },
    {
      "cell_type": "code",
      "execution_count": null,
      "id": "a0fc49fa-9d5c-4c98-ac0a-b7c027756bfa",
      "metadata": {
        "id": "a0fc49fa-9d5c-4c98-ac0a-b7c027756bfa"
      },
      "outputs": [],
      "source": [
        "sc.pp.neighbors(adata, use_rep = \"X_pca_harmony\") #all we really did was make a new embedding and now we are using it"
      ]
    },
    {
      "cell_type": "code",
      "execution_count": null,
      "id": "42522ddf-47c3-44ff-9179-e84cf58e84e4",
      "metadata": {
        "id": "42522ddf-47c3-44ff-9179-e84cf58e84e4"
      },
      "outputs": [],
      "source": [
        "sc.tl.umap(adata)"
      ]
    },
    {
      "cell_type": "code",
      "execution_count": null,
      "id": "6d99bbb7-b183-4d36-a616-28d6e542b3cd",
      "metadata": {
        "id": "6d99bbb7-b183-4d36-a616-28d6e542b3cd",
        "outputId": "27506d6b-1380-49ab-bbbe-76363df9fcf6"
      },
      "outputs": [
        {
          "data": {
            "image/png": "[encoded data removed]",
            "text/plain": [
              "<Figure size 640x480 with 1 Axes>"
            ]
          },
          "metadata": {},
          "output_type": "display_data"
        }
      ],
      "source": [
        "sc.pl.umap(adata, color = 'Sample') #overlpot"
      ]
    },
    {
      "cell_type": "code",
      "execution_count": null,
      "id": "562d5df3-c656-4b92-9b82-98aa2dfc425f",
      "metadata": {
        "id": "562d5df3-c656-4b92-9b82-98aa2dfc425f",
        "outputId": "44585c7a-9f8d-47f1-ec28-7f4ade83841f"
      },
      "outputs": [
        {
          "data": {
            "image/png": "[encoded data removed]",
            "text/plain": [
              "<Figure size 640x480 with 1 Axes>"
            ]
          },
          "metadata": {},
          "output_type": "display_data"
        }
      ],
      "source": [
        "#simple way to avoid overplotting:\n",
        "ri = np.random.permutation(list(range(adata.shape[0])))\n",
        "sc.pl.umap(adata[ri,:], color = 'Sample')"
      ]
    },
    {
      "cell_type": "code",
      "execution_count": null,
      "id": "76c723c8-711d-4829-9f9b-ab66dfe6f568",
      "metadata": {
        "id": "76c723c8-711d-4829-9f9b-ab66dfe6f568"
      },
      "outputs": [],
      "source": []
    },
    {
      "cell_type": "markdown",
      "id": "930ef56e-b008-4c75-97de-25611f0292b3",
      "metadata": {
        "id": "930ef56e-b008-4c75-97de-25611f0292b3"
      },
      "source": [
        "## Avoiding overclustering -- which resolution to pick?\n",
        "\n",
        "Picking a high resoltuion can lead to spurious cell type identification\n",
        "\n",
        "**Clustree** - stability at different clustering resoultions. However, requires R.\n",
        "<div>\n",
        "<img src=\"https://lazappi.github.io/clustree/articles/clustree_files/figure-html/nba-plot-1.png\" width=\"600\"/>\n",
        "</div>"
      ]
    },
    {
      "cell_type": "markdown",
      "id": "f332d6e1-1aa4-46b0-8e50-a1df86eac88f",
      "metadata": {
        "id": "f332d6e1-1aa4-46b0-8e50-a1df86eac88f"
      },
      "source": [
        "Simpler but maybe not as good method in python: silhouette score - a measure of consistency between clusters"
      ]
    },
    {
      "cell_type": "code",
      "execution_count": null,
      "id": "103bef31-0a2d-4fe4-9925-1a2d7e506c49",
      "metadata": {
        "id": "103bef31-0a2d-4fe4-9925-1a2d7e506c49"
      },
      "outputs": [],
      "source": [
        "'''\n",
        "returns a silhouette score based on a given resolution and random state\n",
        "'''\n",
        "def leiden_silhouette(adata, resolution, rs):\n",
        "    sc.tl.leiden(adata, resolution=resolution, key_added='temp_leiden', random_state=rs)\n",
        "\n",
        "    score = silhouette_score(adata.obsm['X_umap'], adata.obs['temp_leiden'])\n",
        "\n",
        "    adata.obs.drop(columns=['temp_leiden'], inplace=True)\n",
        "\n",
        "    return score"
      ]
    },
    {
      "cell_type": "code",
      "execution_count": null,
      "id": "9aef74ce-3469-44ed-b34a-6a2c32903232",
      "metadata": {
        "id": "9aef74ce-3469-44ed-b34a-6a2c32903232",
        "outputId": "46b3c4e5-3603-4a9d-e728-ce18461fd83e"
      },
      "outputs": [
        {
          "data": {
            "text/plain": [
              "array([0.1, 0.2, 0.3, 0.4, 0.5, 0.6, 0.7, 0.8, 0.9, 1. , 1.1, 1.2, 1.3,\n",
              "       1.4, 1.5, 1.6, 1.7, 1.8, 1.9, 2. ])"
            ]
          },
          "execution_count": 43,
          "metadata": {},
          "output_type": "execute_result"
        }
      ],
      "source": [
        "resolutions = np.linspace(0, 2, num = 21)[1:]\n",
        "resolutions"
      ]
    },
    {
      "cell_type": "code",
      "execution_count": null,
      "id": "98ef8ed5-e4d6-4f05-aefb-0cd9888c231e",
      "metadata": {
        "id": "98ef8ed5-e4d6-4f05-aefb-0cd9888c231e",
        "outputId": "fc2dae30-20e3-4dee-eff3-309916185964"
      },
      "outputs": [
        {
          "name": "stderr",
          "output_type": "stream",
          "text": [
            "100%|███████████████████████████████████████████| 20/20 [01:00<00:00,  3.02s/it]\n"
          ]
        }
      ],
      "source": [
        "out = []\n",
        "for res in tqdm(resolutions):\n",
        "    for rs in [0,1,2]: #since the random seed will change result - multiple samples per resolution\n",
        "        score = leiden_silhouette(adata, res, rs)\n",
        "        out.append([res, score, rs])"
      ]
    },
    {
      "cell_type": "code",
      "execution_count": null,
      "id": "a6d0dbfe-3b07-494b-8963-26037823b1b3",
      "metadata": {
        "id": "a6d0dbfe-3b07-494b-8963-26037823b1b3",
        "outputId": "2008ee31-dde5-4f04-cbe7-d50dad02cca2"
      },
      "outputs": [
        {
          "data": {
            "image/png": "[encoded data removed]",
            "text/plain": [
              "<Figure size 640x480 with 1 Axes>"
            ]
          },
          "metadata": {},
          "output_type": "display_data"
        }
      ],
      "source": [
        "ss = pd.DataFrame(out, columns = ['res','ss', 'rs'])\n",
        "\n",
        "ax = sns.lineplot(data = ss, x = 'res', y = 'ss')\n",
        "\n",
        "plt.show()"
      ]
    },
    {
      "cell_type": "code",
      "execution_count": null,
      "id": "97620d76-e234-4ccc-beb1-19fa3c3df4d8",
      "metadata": {
        "id": "97620d76-e234-4ccc-beb1-19fa3c3df4d8",
        "outputId": "fe0d49d0-0d71-4f0f-e0b5-bdb59b111dd9"
      },
      "outputs": [
        {
          "data": {
            "text/html": [
              "<div>\n",
              "<style scoped>\n",
              "    .dataframe tbody tr th:only-of-type {\n",
              "        vertical-align: middle;\n",
              "    }\n",
              "\n",
              "    .dataframe tbody tr th {\n",
              "        vertical-align: top;\n",
              "    }\n",
              "\n",
              "    .dataframe thead th {\n",
              "        text-align: right;\n",
              "    }\n",
              "</style>\n",
              "<table border=\"1\" class=\"dataframe\">\n",
              "  <thead>\n",
              "    <tr style=\"text-align: right;\">\n",
              "      <th></th>\n",
              "      <th>ss</th>\n",
              "      <th>rs</th>\n",
              "    </tr>\n",
              "    <tr>\n",
              "      <th>res</th>\n",
              "      <th></th>\n",
              "      <th></th>\n",
              "    </tr>\n",
              "  </thead>\n",
              "  <tbody>\n",
              "    <tr>\n",
              "      <th>0.4</th>\n",
              "      <td>0.517426</td>\n",
              "      <td>1.0</td>\n",
              "    </tr>\n",
              "    <tr>\n",
              "      <th>0.1</th>\n",
              "      <td>0.515764</td>\n",
              "      <td>1.0</td>\n",
              "    </tr>\n",
              "    <tr>\n",
              "      <th>0.5</th>\n",
              "      <td>0.515372</td>\n",
              "      <td>1.0</td>\n",
              "    </tr>\n",
              "    <tr>\n",
              "      <th>0.6</th>\n",
              "      <td>0.509187</td>\n",
              "      <td>1.0</td>\n",
              "    </tr>\n",
              "    <tr>\n",
              "      <th>0.7</th>\n",
              "      <td>0.499520</td>\n",
              "      <td>1.0</td>\n",
              "    </tr>\n",
              "  </tbody>\n",
              "</table>\n",
              "</div>"
            ],
            "text/plain": [
              "           ss   rs\n",
              "res               \n",
              "0.4  0.517426  1.0\n",
              "0.1  0.515764  1.0\n",
              "0.5  0.515372  1.0\n",
              "0.6  0.509187  1.0\n",
              "0.7  0.499520  1.0"
            ]
          },
          "execution_count": 46,
          "metadata": {},
          "output_type": "execute_result"
        }
      ],
      "source": [
        "ss.groupby('res').mean().sort_values('ss', ascending = False).head()"
      ]
    },
    {
      "cell_type": "code",
      "execution_count": null,
      "id": "ae016666-9d74-4c2b-a1c7-f4e5cfb69bd7",
      "metadata": {
        "id": "ae016666-9d74-4c2b-a1c7-f4e5cfb69bd7"
      },
      "outputs": [],
      "source": [
        "sc.tl.leiden(adata, resolution =  0.4)"
      ]
    },
    {
      "cell_type": "code",
      "execution_count": null,
      "id": "6d9e28fe-d4c3-4ed6-a167-d63ae1de7c5f",
      "metadata": {
        "id": "6d9e28fe-d4c3-4ed6-a167-d63ae1de7c5f",
        "outputId": "126f19e3-01ab-4688-bc43-8d34a96f7a40"
      },
      "outputs": [
        {
          "data": {
            "image/png": "[encoded data removed]",
            "text/plain": [
              "<Figure size 640x480 with 1 Axes>"
            ]
          },
          "metadata": {},
          "output_type": "display_data"
        }
      ],
      "source": [
        "sc.pl.umap(adata, color = 'leiden', legend_loc = 'on data')"
      ]
    },
    {
      "cell_type": "code",
      "execution_count": null,
      "id": "e7c20811-2899-40e3-97a4-c7f3830b4907",
      "metadata": {
        "id": "e7c20811-2899-40e3-97a4-c7f3830b4907"
      },
      "outputs": [],
      "source": []
    },
    {
      "cell_type": "markdown",
      "id": "686db94e-4ded-44fa-a397-cde3dcb95807",
      "metadata": {
        "id": "686db94e-4ded-44fa-a397-cde3dcb95807"
      },
      "source": [
        "## Double dipping"
      ]
    },
    {
      "cell_type": "markdown",
      "id": "d70e8b31-ff81-417d-ad15-cfe6f31fca44",
      "metadata": {
        "id": "d70e8b31-ff81-417d-ad15-cfe6f31fca44"
      },
      "source": [
        "Avoid **double dipping** when determining cell-type subsets using DE genes  \n",
        "\n",
        "We use genes to cluster cells then we do DE on the clusters. This is double dipping and leads to inflatted results."
      ]
    },
    {
      "cell_type": "code",
      "execution_count": null,
      "id": "52c1def1-d348-4fc1-9c87-7e00aea49d70",
      "metadata": {
        "id": "52c1def1-d348-4fc1-9c87-7e00aea49d70"
      },
      "outputs": [],
      "source": []
    },
    {
      "cell_type": "markdown",
      "id": "669800d1-8b3b-428f-9399-a0ca5c50bafe",
      "metadata": {
        "id": "669800d1-8b3b-428f-9399-a0ca5c50bafe"
      },
      "source": [
        "**clusterDE** - uses simulated data to determine an FDR with doing DE between clusters\n",
        "<div>\n",
        "<img src=\"https://github.com/SONGDONGYUAN1994/ClusterDE/blob/main/man/figures/ClusterDE_illustration.png?raw=true\" width=\"600\"/>\n",
        "</div>"
      ]
    },
    {
      "cell_type": "code",
      "execution_count": null,
      "id": "dcc77890-890d-4791-a237-baa723525503",
      "metadata": {
        "id": "dcc77890-890d-4791-a237-baa723525503"
      },
      "outputs": [],
      "source": []
    },
    {
      "cell_type": "code",
      "execution_count": null,
      "id": "18633b8c-13ba-4e14-9761-aaa99c0a869c",
      "metadata": {
        "id": "18633b8c-13ba-4e14-9761-aaa99c0a869c"
      },
      "outputs": [],
      "source": []
    },
    {
      "cell_type": "markdown",
      "id": "e0efbffd-8a92-4a86-8158-e4effe8d97e3",
      "metadata": {
        "id": "e0efbffd-8a92-4a86-8158-e4effe8d97e3"
      },
      "source": [
        "## Don't over intepret UMAP distance"
      ]
    },
    {
      "cell_type": "code",
      "execution_count": null,
      "id": "a1450250-b5ff-4e5c-a9c1-43c8f89e0c19",
      "metadata": {
        "id": "a1450250-b5ff-4e5c-a9c1-43c8f89e0c19"
      },
      "outputs": [],
      "source": [
        "#justing picking one cell to compare all others\n",
        "temp = adata.raw.to_adata()\n",
        "x_coords = adata[adata.obs.leiden == '0'].obsm['X_umap'][:, 0] #change 0 to 1 for max x value\n",
        "max_x = pd.Series(x_coords).idxmin() #min or max"
      ]
    },
    {
      "cell_type": "code",
      "execution_count": null,
      "id": "2db2e83a-0833-419a-9408-2f273403fb4a",
      "metadata": {
        "id": "2db2e83a-0833-419a-9408-2f273403fb4a",
        "outputId": "ca2a3d20-e338-49a9-9a15-f99ea6b0c578"
      },
      "outputs": [
        {
          "data": {
            "text/plain": [
              "Index(['TTGTGGACAGAGCTAG-1_D5'], dtype='object')"
            ]
          },
          "execution_count": 50,
          "metadata": {},
          "output_type": "execute_result"
        }
      ],
      "source": [
        "adata[adata.obs.leiden == '0'][max_x].obs_names"
      ]
    },
    {
      "cell_type": "code",
      "execution_count": null,
      "id": "8b52b6de-31e7-4a27-abb4-1501707d49e3",
      "metadata": {
        "id": "8b52b6de-31e7-4a27-abb4-1501707d49e3"
      },
      "outputs": [],
      "source": [
        "a = temp['CTACTATTCACTGAAC-1_D7'].X.toarray().flatten()\n",
        "bool_array = a > 0\n",
        "a_vars = temp.var_names[bool_array]\n",
        "a_vars = set(a_vars)"
      ]
    },
    {
      "cell_type": "code",
      "execution_count": null,
      "id": "aff67e0a-3c1f-4006-9a28-044226bf5ff4",
      "metadata": {
        "id": "aff67e0a-3c1f-4006-9a28-044226bf5ff4"
      },
      "outputs": [],
      "source": [
        "def jaccard(a,b): #similarity\n",
        "    intersection = len(a.intersection(b))\n",
        "    union = len(a.union(b))\n",
        "    return (intersection / union)"
      ]
    },
    {
      "cell_type": "code",
      "execution_count": null,
      "id": "cc9f8c82-8df9-4c16-abee-30df675f5830",
      "metadata": {
        "id": "cc9f8c82-8df9-4c16-abee-30df675f5830",
        "outputId": "6930c4dc-75d2-4d9f-bd31-331d6d997762"
      },
      "outputs": [
        {
          "name": "stderr",
          "output_type": "stream",
          "text": [
            "100%|█████████████████████████████████████| 5753/5753 [00:03<00:00, 1553.82it/s]\n"
          ]
        }
      ],
      "source": [
        "res = []\n",
        "for bc in tqdm(adata.obs_names):\n",
        "    b = temp[bc].X.toarray().flatten()\n",
        "    bool_array = b > 0\n",
        "    b_vars = set(temp.var_names[bool_array])\n",
        "    _ = jaccard(a_vars, b_vars)\n",
        "    res.append(_)\n",
        "\n",
        "adata.obs['jaccard_temp'] = res"
      ]
    },
    {
      "cell_type": "code",
      "execution_count": null,
      "id": "81af8668-8a4e-4241-ae75-2390b7c8f6b3",
      "metadata": {
        "id": "81af8668-8a4e-4241-ae75-2390b7c8f6b3",
        "outputId": "28bcfac8-8ba7-4dcd-e8f3-022e4bfad882"
      },
      "outputs": [
        {
          "data": {
            "image/png": "[encoded data removed]",
            "text/plain": [
              "<Figure size 640x480 with 2 Axes>"
            ]
          },
          "metadata": {},
          "output_type": "display_data"
        }
      ],
      "source": [
        "sc.pl.umap(adata, color = 'jaccard_temp', s = 40) #just a very simple measure of similarity"
      ]
    },
    {
      "cell_type": "markdown",
      "id": "a6e4799e-d8bd-403a-87f9-8e5a77150415",
      "metadata": {
        "id": "a6e4799e-d8bd-403a-87f9-8e5a77150415"
      },
      "source": [
        "## Annotation"
      ]
    },
    {
      "cell_type": "markdown",
      "id": "9e95372d-f259-4d8c-95db-af5b5dc06cfb",
      "metadata": {
        "id": "9e95372d-f259-4d8c-95db-af5b5dc06cfb"
      },
      "source": [
        "Be careful with automated annotation becuase the reference dataset makes a huge difference on the output.  \n",
        "\n",
        "Watch out for forced cell annotation if the query cell type is not present in the referece  \n",
        "\n",
        "In manual annotation watch out for confirmation bias! Cell types can share marker genes"
      ]
    },
    {
      "cell_type": "code",
      "execution_count": null,
      "id": "badaf8c5-d0e5-4f05-8756-7c6f61806f09",
      "metadata": {
        "id": "badaf8c5-d0e5-4f05-8756-7c6f61806f09"
      },
      "outputs": [],
      "source": [
        "#making a small lung reference from tabula muris senis\n",
        "\n",
        "# !curl -O \"https://czb-tabula-muris-senis.s3.us-west-2.amazonaws.com/Data-objects/tabula-muris-senis-droplet-official-raw-obj.h5ad\"\n",
        "# ref_data = sc.read_h5ad('tabula-muris-senis-droplet-official-raw-obj.h5ad')\n",
        "# ref_data = ref_data[(ref_data.obs.tissue == 'Lung') & (ref_data.obs.age == '3m')]\n",
        "# sc.pp.filter_genes(ref_data, min_cells=1)\n",
        "# ref_data.write_h5ad('tms_lung_ref_small.h5ad')"
      ]
    },
    {
      "cell_type": "code",
      "execution_count": null,
      "id": "957b4a09-8a3e-4788-8389-b4b7023b9f41",
      "metadata": {
        "id": "957b4a09-8a3e-4788-8389-b4b7023b9f41"
      },
      "outputs": [],
      "source": [
        "ref_data = sc.read_h5ad('tms_lung_ref_small.h5ad')"
      ]
    },
    {
      "cell_type": "code",
      "execution_count": null,
      "id": "4bd56ae6-f426-4078-ade8-97c17d379332",
      "metadata": {
        "id": "4bd56ae6-f426-4078-ade8-97c17d379332"
      },
      "outputs": [],
      "source": [
        "sc.pp.filter_genes(ref_data, min_cells = 10)\n",
        "sc.pp.normalize_total(ref_data, target_sum = 1e4) #Note this is only for cell annotation, recommended by authors but not best\n",
        "sc.pp.log1p(ref_data)"
      ]
    },
    {
      "cell_type": "code",
      "execution_count": null,
      "id": "8f0b5417-3c55-4d60-9143-0a76e3a7c912",
      "metadata": {
        "id": "8f0b5417-3c55-4d60-9143-0a76e3a7c912",
        "outputId": "dcbe51d5-e8dd-49a9-975e-6c88a4dc94ae"
      },
      "outputs": [
        {
          "name": "stderr",
          "output_type": "stream",
          "text": [
            "🍳 Preparing data before training\n",
            "🔬 Input data has 3612 cells and 14045 genes\n",
            "⚖️ Scaling input data\n",
            "🏋️ Training data using SGD logistic regression\n",
            "🔎 Selecting features\n",
            "🧬 5536 features are selected\n",
            "🏋️ Starting the second round of training\n",
            "🏋️ Training data using logistic regression\n",
            "✅ Model training done!\n"
          ]
        }
      ],
      "source": [
        "ref_model = celltypist.train(ref_data, labels = 'cell_ontology_class', n_jobs = 12,\n",
        "                            use_SGD = False,\n",
        "                            feature_selection = True, top_genes = 300)"
      ]
    },
    {
      "cell_type": "code",
      "execution_count": null,
      "id": "e43e0c5f-3a16-4aca-bdd8-67a58e9b4e77",
      "metadata": {
        "id": "e43e0c5f-3a16-4aca-bdd8-67a58e9b4e77",
        "outputId": "2766e5b1-aea0-4399-d762-986335c85bff"
      },
      "outputs": [
        {
          "name": "stdout",
          "output_type": "stream",
          "text": [
            "WARNING: adata.X seems to be already log-transformed.\n"
          ]
        }
      ],
      "source": [
        "#need to make a new object because celltypist requires 1e4 target\n",
        "tdata = adata.copy()\n",
        "tdata.X = tdata.layers['counts'].copy()\n",
        "sc.pp.normalize_total(tdata, target_sum=1e4)\n",
        "sc.pp.log1p(tdata)"
      ]
    },
    {
      "cell_type": "code",
      "execution_count": null,
      "id": "7f4e56c9-ea4c-43e6-95fb-0bc926faca9e",
      "metadata": {
        "id": "7f4e56c9-ea4c-43e6-95fb-0bc926faca9e",
        "outputId": "08375e07-da86-4c64-8345-91724bd0b250"
      },
      "outputs": [
        {
          "name": "stderr",
          "output_type": "stream",
          "text": [
            "🔬 Input data has 5753 cells and 21845 genes\n",
            "🔗 Matching reference genes in the model\n",
            "🧬 4898 features used for prediction\n",
            "⚖️ Scaling input data\n",
            "🖋️ Predicting labels\n",
            "✅ Prediction done!\n",
            "👀 Detected a neighborhood graph in the input object, will run over-clustering on the basis of it\n",
            "⛓️ Over-clustering input data with resolution set to 10\n",
            "🗳️ Majority voting the predictions\n",
            "✅ Majority voting done!\n"
          ]
        }
      ],
      "source": [
        "predictions = celltypist.annotate(tdata, model=ref_model, majority_voting=True)\n",
        "predictions_adata = predictions.to_adata()\n",
        "\n",
        "adata.obs[\"ref_label\"] = predictions_adata.obs.loc[adata.obs.index, \"predicted_labels\"]\n",
        "adata.obs[\"ref_score\"] = predictions_adata.obs.loc[adata.obs.index, \"conf_score\"]"
      ]
    },
    {
      "cell_type": "code",
      "execution_count": null,
      "id": "e3b2946d-f4bd-4cfc-b3dc-904cdd74a272",
      "metadata": {
        "id": "e3b2946d-f4bd-4cfc-b3dc-904cdd74a272",
        "outputId": "f1e186d0-d2ac-40f5-f065-3caf304c1a47"
      },
      "outputs": [
        {
          "data": {
            "image/png": "[encoded data removed]",
            "text/plain": [
              "<Figure size 640x480 with 1 Axes>"
            ]
          },
          "metadata": {},
          "output_type": "display_data"
        }
      ],
      "source": [
        "sc.pl.umap(adata, color = 'ref_label')"
      ]
    },
    {
      "cell_type": "code",
      "execution_count": null,
      "id": "cfbc9f9c-2188-4801-b022-f80deda85a62",
      "metadata": {
        "id": "cfbc9f9c-2188-4801-b022-f80deda85a62",
        "outputId": "c12057e4-e930-4142-f956-af2c4d63e1ce"
      },
      "outputs": [
        {
          "data": {
            "image/png": "[encoded data removed]",
            "text/plain": [
              "<Figure size 1455.6x480 with 4 Axes>"
            ]
          },
          "metadata": {},
          "output_type": "display_data"
        }
      ],
      "source": [
        "sc.pl.umap(adata, color = ['Cdh5', 'Pecam1'], legend_loc = 'on data') #actual ECs are not labeled correctly!"
      ]
    },
    {
      "cell_type": "code",
      "execution_count": null,
      "id": "ab59eb00-f7e6-40ee-ba7a-8f79ecec36d7",
      "metadata": {
        "id": "ab59eb00-f7e6-40ee-ba7a-8f79ecec36d7",
        "outputId": "d82a46d3-c260-418e-e1e1-3f3cab16f5b5"
      },
      "outputs": [
        {
          "data": {
            "text/plain": [
              "cell_ontology_class\n",
              "B cell                                              168\n",
              "CD4-positive, alpha-beta T cell                     123\n",
              "CD8-positive, alpha-beta T cell                      70\n",
              "NK cell                                             534\n",
              "T cell                                               11\n",
              "adventitial cell                                    375\n",
              "alveolar macrophage                                 208\n",
              "basophil                                             16\n",
              "bronchial smooth muscle cell                        156\n",
              "ciliated columnar cell of tracheobronchial tree      31\n",
              "classical monocyte                                  125\n",
              "club cell of bronchiole                               1\n",
              "dendritic cell                                        5\n",
              "endothelial cell of lymphatic vessel                  2\n",
              "fibroblast of lung                                 1143\n",
              "intermediate monocyte                                29\n",
              "lung macrophage                                      15\n",
              "lung neuroendocrine cell                              4\n",
              "mature NK T cell                                      7\n",
              "myeloid dendritic cell                               39\n",
              "neutrophil                                           24\n",
              "non-classical monocyte                              185\n",
              "pericyte cell                                        33\n",
              "plasma cell                                           2\n",
              "plasmacytoid dendritic cell                          15\n",
              "pulmonary interstitial fibroblast                   181\n",
              "regulatory T cell                                    12\n",
              "smooth muscle cell of the pulmonary artery           16\n",
              "type II pneumocyte                                   54\n",
              "vein endothelial cell                                28\n",
              "dtype: int64"
            ]
          },
          "execution_count": 64,
          "metadata": {},
          "output_type": "execute_result"
        }
      ],
      "source": [
        "ref_data.obs.groupby('cell_ontology_class').size() #no endothelial cells in the ref!"
      ]
    },
    {
      "cell_type": "markdown",
      "id": "331c3b34-a382-4c2c-8265-1dbbd21a626e",
      "metadata": {
        "id": "331c3b34-a382-4c2c-8265-1dbbd21a626e"
      },
      "source": [
        "Use automatic annotation as a first step/hint at what the cell type is, then:  \n",
        "1) validate the cluster with known markers, eg pangloaDB\n",
        "2) Prove that the cell type is not something else by checking negative markers"
      ]
    },
    {
      "cell_type": "code",
      "execution_count": null,
      "id": "6a43e75a-d63d-4bb3-85c4-41e22d66eafe",
      "metadata": {
        "id": "6a43e75a-d63d-4bb3-85c4-41e22d66eafe"
      },
      "outputs": [],
      "source": []
    },
    {
      "cell_type": "markdown",
      "id": "c06890be-d6d9-496e-924d-d0017e7a3030",
      "metadata": {
        "id": "c06890be-d6d9-496e-924d-d0017e7a3030"
      },
      "source": [
        "## DE\n",
        "\n",
        "Pseudobulking is still considered the best way to do DE for single cell.  \n",
        "\n",
        "cells are not independent and the large number of cells leads to exaggerated significance  \n",
        "\n",
        "bulking individual samples is the best, but sometimes you only have a few samples or small number of cells/sample."
      ]
    },
    {
      "cell_type": "code",
      "execution_count": null,
      "id": "28633506-e424-47b3-b233-2ce140101147",
      "metadata": {
        "id": "28633506-e424-47b3-b233-2ce140101147"
      },
      "outputs": [],
      "source": [
        "cell_subset = adata[adata.obs['leiden'] == '0'] #subset the cell type you are interseted in, av macs in this case"
      ]
    },
    {
      "cell_type": "code",
      "execution_count": null,
      "id": "c0e7231a-2da4-4b2e-beef-932d117351c8",
      "metadata": {
        "id": "c0e7231a-2da4-4b2e-beef-932d117351c8",
        "outputId": "b9b6e33e-fdb3-4685-ab93-9abc69741a89"
      },
      "outputs": [
        {
          "data": {
            "text/plain": [
              "Sample\n",
              "D0     210\n",
              "D5     362\n",
              "D7     401\n",
              "D10    380\n",
              "D14     32\n",
              "dtype: int64"
            ]
          },
          "execution_count": 66,
          "metadata": {},
          "output_type": "execute_result"
        }
      ],
      "source": [
        "cell_subset.obs.groupby('Sample').size() #we want at least ~30 cells per psedo replicate"
      ]
    },
    {
      "cell_type": "code",
      "execution_count": null,
      "id": "7a2bc9aa-029b-4a3c-9893-40fb7082adfa",
      "metadata": {
        "id": "7a2bc9aa-029b-4a3c-9893-40fb7082adfa"
      },
      "outputs": [],
      "source": [
        "pbs = []\n",
        "#for sample in cell_subset.obs.Sample.unique():\n",
        "for sample in ['D0', 'D10']:\n",
        "    samp_cell_subset = cell_subset[cell_subset.obs['Sample'] == sample].copy()\n",
        "    samp_cell_subset.X = samp_cell_subset.layers['counts']\n",
        "\n",
        "    indices = list(samp_cell_subset.obs_names)\n",
        "    random.shuffle(indices)\n",
        "    indices = np.array_split(np.array(indices), 3) #change number here for number of replicates deisred\n",
        "\n",
        "    for i, pseudo_rep in enumerate(indices):\n",
        "\n",
        "        rep_adata = sc.AnnData(X = samp_cell_subset[indices[i]].X.sum(axis = 0),\n",
        "                               var = samp_cell_subset[indices[i]].var[[]])\n",
        "\n",
        "        rep_adata.obs_names = [sample + '_' + str(i)]\n",
        "        #rep_adata.obs['condition'] = samp_cell_subset.obs['condition'].iloc[0] #if you had a condition column in your adata\n",
        "        rep_adata.obs['condition'] = sample\n",
        "        rep_adata.obs['replicate'] = i\n",
        "\n",
        "        pbs.append(rep_adata)"
      ]
    },
    {
      "cell_type": "code",
      "execution_count": null,
      "id": "095f59cf-f33d-42c4-9a47-a7073679d445",
      "metadata": {
        "id": "095f59cf-f33d-42c4-9a47-a7073679d445"
      },
      "outputs": [],
      "source": [
        "pb = sc.concat(pbs)"
      ]
    },
    {
      "cell_type": "code",
      "execution_count": null,
      "id": "6e9d5fae-4dee-4fa4-873a-ae16e3d56525",
      "metadata": {
        "id": "6e9d5fae-4dee-4fa4-873a-ae16e3d56525",
        "outputId": "9e4d234d-cebd-47b8-cdc7-fea9aa6a0dfe"
      },
      "outputs": [
        {
          "data": {
            "text/html": [
              "<div>\n",
              "<style scoped>\n",
              "    .dataframe tbody tr th:only-of-type {\n",
              "        vertical-align: middle;\n",
              "    }\n",
              "\n",
              "    .dataframe tbody tr th {\n",
              "        vertical-align: top;\n",
              "    }\n",
              "\n",
              "    .dataframe thead th {\n",
              "        text-align: right;\n",
              "    }\n",
              "</style>\n",
              "<table border=\"1\" class=\"dataframe\">\n",
              "  <thead>\n",
              "    <tr style=\"text-align: right;\">\n",
              "      <th></th>\n",
              "      <th>condition</th>\n",
              "      <th>replicate</th>\n",
              "    </tr>\n",
              "  </thead>\n",
              "  <tbody>\n",
              "    <tr>\n",
              "      <th>D0_0</th>\n",
              "      <td>D0</td>\n",
              "      <td>0</td>\n",
              "    </tr>\n",
              "    <tr>\n",
              "      <th>D0_1</th>\n",
              "      <td>D0</td>\n",
              "      <td>1</td>\n",
              "    </tr>\n",
              "    <tr>\n",
              "      <th>D0_2</th>\n",
              "      <td>D0</td>\n",
              "      <td>2</td>\n",
              "    </tr>\n",
              "    <tr>\n",
              "      <th>D10_0</th>\n",
              "      <td>D10</td>\n",
              "      <td>0</td>\n",
              "    </tr>\n",
              "    <tr>\n",
              "      <th>D10_1</th>\n",
              "      <td>D10</td>\n",
              "      <td>1</td>\n",
              "    </tr>\n",
              "    <tr>\n",
              "      <th>D10_2</th>\n",
              "      <td>D10</td>\n",
              "      <td>2</td>\n",
              "    </tr>\n",
              "  </tbody>\n",
              "</table>\n",
              "</div>"
            ],
            "text/plain": [
              "      condition  replicate\n",
              "D0_0         D0          0\n",
              "D0_1         D0          1\n",
              "D0_2         D0          2\n",
              "D10_0       D10          0\n",
              "D10_1       D10          1\n",
              "D10_2       D10          2"
            ]
          },
          "execution_count": 70,
          "metadata": {},
          "output_type": "execute_result"
        }
      ],
      "source": [
        "pb.obs"
      ]
    },
    {
      "cell_type": "code",
      "execution_count": null,
      "id": "286dac3b-4989-44ed-971c-94e61d66edb5",
      "metadata": {
        "id": "286dac3b-4989-44ed-971c-94e61d66edb5"
      },
      "outputs": [],
      "source": [
        "counts = pd.DataFrame(pb.X, columns = pb.var_names)"
      ]
    },
    {
      "cell_type": "code",
      "execution_count": null,
      "id": "b84ec366-d15c-4e18-a549-a524f7bd3be3",
      "metadata": {
        "id": "b84ec366-d15c-4e18-a549-a524f7bd3be3"
      },
      "outputs": [],
      "source": [
        "dds = DeseqDataSet(\n",
        "    counts = counts,\n",
        "    metadata=pb.obs,\n",
        "    design_factors=\"condition\") #design_factors=[\"batch\", \"condition\"] = ~ batch + condtion"
      ]
    },
    {
      "cell_type": "code",
      "execution_count": null,
      "id": "43cbbb53-1940-4d19-a15b-a51251f28cd1",
      "metadata": {
        "id": "43cbbb53-1940-4d19-a15b-a51251f28cd1"
      },
      "outputs": [],
      "source": [
        "sc.pp.filter_genes(dds, min_cells = 1)"
      ]
    },
    {
      "cell_type": "code",
      "execution_count": null,
      "id": "688a0849-74d5-4c9d-8304-cddc48d1f6da",
      "metadata": {
        "id": "688a0849-74d5-4c9d-8304-cddc48d1f6da",
        "outputId": "69c3d6d4-6f6d-4259-abbe-0785829bfd89"
      },
      "outputs": [
        {
          "data": {
            "text/plain": [
              "AnnData object with n_obs × n_vars = 6 × 15452\n",
              "    obs: 'condition', 'replicate'\n",
              "    var: 'n_cells'\n",
              "    obsm: 'design_matrix'"
            ]
          },
          "execution_count": 74,
          "metadata": {},
          "output_type": "execute_result"
        }
      ],
      "source": [
        "dds"
      ]
    },
    {
      "cell_type": "code",
      "execution_count": null,
      "id": "9a08c59b-57fc-46f8-ae21-3a15b534d80b",
      "metadata": {
        "id": "9a08c59b-57fc-46f8-ae21-3a15b534d80b",
        "outputId": "14be76ab-e96a-45e8-9854-37920bb7d944"
      },
      "outputs": [
        {
          "name": "stderr",
          "output_type": "stream",
          "text": [
            "Fitting size factors...\n",
            "... done in 0.00 seconds.\n",
            "\n",
            "Fitting dispersions...\n",
            "... done in 0.55 seconds.\n",
            "\n",
            "Fitting dispersion trend curve...\n",
            "... done in 0.16 seconds.\n",
            "\n",
            "Fitting MAP dispersions...\n",
            "... done in 0.57 seconds.\n",
            "\n",
            "Fitting LFCs...\n",
            "... done in 0.72 seconds.\n",
            "\n",
            "Replacing 0 outlier genes.\n",
            "\n"
          ]
        }
      ],
      "source": [
        "dds.deseq2()"
      ]
    },
    {
      "cell_type": "code",
      "execution_count": null,
      "id": "d79af777-e5dd-4596-b041-a7f0ad53882f",
      "metadata": {
        "id": "d79af777-e5dd-4596-b041-a7f0ad53882f",
        "outputId": "ffc4e110-22d2-4bf4-edf4-f3444d69fc78"
      },
      "outputs": [
        {
          "name": "stderr",
          "output_type": "stream",
          "text": [
            "Running Wald tests...\n"
          ]
        },
        {
          "name": "stdout",
          "output_type": "stream",
          "text": [
            "Log2 fold change & Wald test p-value: condition D10 vs D0\n",
            "                  baseMean  log2FoldChange     lfcSE       stat        pvalue  \\\n",
            "0610005C13Rik     0.132145        0.303516  4.425575   0.068582  9.453220e-01   \n",
            "0610009B22Rik    42.892207        0.208893  0.289690   0.721093  4.708526e-01   \n",
            "0610009E02Rik     0.518805        2.183461  3.047105   0.716569  4.736401e-01   \n",
            "0610009L18Rik     8.552556        0.678411  0.680316   0.997200  3.186673e-01   \n",
            "0610010F05Rik    30.956431        0.625467  0.346510   1.805049  7.106702e-02   \n",
            "...                    ...             ...       ...        ...           ...   \n",
            "mt-Nd3          476.903354       -1.497413  0.113276 -13.219167  6.801340e-40   \n",
            "mt-Nd4         2892.448095       -1.282044  0.090107 -14.228010  6.140475e-46   \n",
            "mt-Nd4l         117.263139       -0.511385  0.188513  -2.712725  6.673253e-03   \n",
            "mt-Nd5          304.237705       -0.726397  0.132179  -5.495556  3.894809e-08   \n",
            "mt-Nd6           14.666927       -0.292355  0.508451  -0.574990  5.652979e-01   \n",
            "\n",
            "                       padj  \n",
            "0610005C13Rik           NaN  \n",
            "0610009B22Rik  7.572939e-01  \n",
            "0610009E02Rik           NaN  \n",
            "0610009L18Rik  6.287326e-01  \n",
            "0610010F05Rik  2.629620e-01  \n",
            "...                     ...  \n",
            "mt-Nd3         2.251644e-37  \n",
            "mt-Nd4         2.559896e-43  \n",
            "mt-Nd4l        4.868058e-02  \n",
            "mt-Nd5         1.249002e-06  \n",
            "mt-Nd6         8.185975e-01  \n",
            "\n",
            "[15452 rows x 6 columns]\n"
          ]
        },
        {
          "name": "stderr",
          "output_type": "stream",
          "text": [
            "... done in 0.47 seconds.\n",
            "\n"
          ]
        }
      ],
      "source": [
        "stat_res = DeseqStats(dds, contrast=('condition', 'D10', 'D0'))\n",
        "\n",
        "stat_res.summary()"
      ]
    },
    {
      "cell_type": "code",
      "execution_count": null,
      "id": "29b546a6-b740-4b21-a43f-eae4e52c52ad",
      "metadata": {
        "id": "29b546a6-b740-4b21-a43f-eae4e52c52ad",
        "outputId": "754215fa-c113-4633-e876-0f115571d73b"
      },
      "outputs": [
        {
          "data": {
            "text/html": [
              "<div>\n",
              "<style scoped>\n",
              "    .dataframe tbody tr th:only-of-type {\n",
              "        vertical-align: middle;\n",
              "    }\n",
              "\n",
              "    .dataframe tbody tr th {\n",
              "        vertical-align: top;\n",
              "    }\n",
              "\n",
              "    .dataframe thead th {\n",
              "        text-align: right;\n",
              "    }\n",
              "</style>\n",
              "<table border=\"1\" class=\"dataframe\">\n",
              "  <thead>\n",
              "    <tr style=\"text-align: right;\">\n",
              "      <th></th>\n",
              "      <th>baseMean</th>\n",
              "      <th>log2FoldChange</th>\n",
              "      <th>lfcSE</th>\n",
              "      <th>stat</th>\n",
              "      <th>pvalue</th>\n",
              "      <th>padj</th>\n",
              "    </tr>\n",
              "  </thead>\n",
              "  <tbody>\n",
              "    <tr>\n",
              "      <th>1500011B03Rik</th>\n",
              "      <td>80.425755</td>\n",
              "      <td>1.176208</td>\n",
              "      <td>0.247819</td>\n",
              "      <td>4.746231</td>\n",
              "      <td>2.072420e-06</td>\n",
              "      <td>4.703056e-05</td>\n",
              "    </tr>\n",
              "    <tr>\n",
              "      <th>1600002K03Rik</th>\n",
              "      <td>29.770343</td>\n",
              "      <td>-1.018761</td>\n",
              "      <td>0.350195</td>\n",
              "      <td>-2.909126</td>\n",
              "      <td>3.624403e-03</td>\n",
              "      <td>3.021129e-02</td>\n",
              "    </tr>\n",
              "    <tr>\n",
              "      <th>1600014C10Rik</th>\n",
              "      <td>152.287722</td>\n",
              "      <td>0.804626</td>\n",
              "      <td>0.168991</td>\n",
              "      <td>4.761363</td>\n",
              "      <td>1.922899e-06</td>\n",
              "      <td>4.399218e-05</td>\n",
              "    </tr>\n",
              "    <tr>\n",
              "      <th>1600020E01Rik</th>\n",
              "      <td>20.620298</td>\n",
              "      <td>1.589021</td>\n",
              "      <td>0.458918</td>\n",
              "      <td>3.462536</td>\n",
              "      <td>5.351112e-04</td>\n",
              "      <td>6.165007e-03</td>\n",
              "    </tr>\n",
              "    <tr>\n",
              "      <th>1700025G04Rik</th>\n",
              "      <td>10.672744</td>\n",
              "      <td>-1.930730</td>\n",
              "      <td>0.640342</td>\n",
              "      <td>-3.015156</td>\n",
              "      <td>2.568470e-03</td>\n",
              "      <td>2.307318e-02</td>\n",
              "    </tr>\n",
              "    <tr>\n",
              "      <th>...</th>\n",
              "      <td>...</td>\n",
              "      <td>...</td>\n",
              "      <td>...</td>\n",
              "      <td>...</td>\n",
              "      <td>...</td>\n",
              "      <td>...</td>\n",
              "    </tr>\n",
              "    <tr>\n",
              "      <th>mt-Nd2</th>\n",
              "      <td>1719.964413</td>\n",
              "      <td>-1.437503</td>\n",
              "      <td>0.091551</td>\n",
              "      <td>-15.701664</td>\n",
              "      <td>1.473261e-55</td>\n",
              "      <td>8.727910e-53</td>\n",
              "    </tr>\n",
              "    <tr>\n",
              "      <th>mt-Nd3</th>\n",
              "      <td>476.903354</td>\n",
              "      <td>-1.497413</td>\n",
              "      <td>0.113276</td>\n",
              "      <td>-13.219167</td>\n",
              "      <td>6.801340e-40</td>\n",
              "      <td>2.251644e-37</td>\n",
              "    </tr>\n",
              "    <tr>\n",
              "      <th>mt-Nd4</th>\n",
              "      <td>2892.448095</td>\n",
              "      <td>-1.282044</td>\n",
              "      <td>0.090107</td>\n",
              "      <td>-14.228010</td>\n",
              "      <td>6.140475e-46</td>\n",
              "      <td>2.559896e-43</td>\n",
              "    </tr>\n",
              "    <tr>\n",
              "      <th>mt-Nd4l</th>\n",
              "      <td>117.263139</td>\n",
              "      <td>-0.511385</td>\n",
              "      <td>0.188513</td>\n",
              "      <td>-2.712725</td>\n",
              "      <td>6.673253e-03</td>\n",
              "      <td>4.868058e-02</td>\n",
              "    </tr>\n",
              "    <tr>\n",
              "      <th>mt-Nd5</th>\n",
              "      <td>304.237705</td>\n",
              "      <td>-0.726397</td>\n",
              "      <td>0.132179</td>\n",
              "      <td>-5.495556</td>\n",
              "      <td>3.894809e-08</td>\n",
              "      <td>1.249002e-06</td>\n",
              "    </tr>\n",
              "  </tbody>\n",
              "</table>\n",
              "<p>1561 rows × 6 columns</p>\n",
              "</div>"
            ],
            "text/plain": [
              "                  baseMean  log2FoldChange     lfcSE       stat        pvalue  \\\n",
              "1500011B03Rik    80.425755        1.176208  0.247819   4.746231  2.072420e-06   \n",
              "1600002K03Rik    29.770343       -1.018761  0.350195  -2.909126  3.624403e-03   \n",
              "1600014C10Rik   152.287722        0.804626  0.168991   4.761363  1.922899e-06   \n",
              "1600020E01Rik    20.620298        1.589021  0.458918   3.462536  5.351112e-04   \n",
              "1700025G04Rik    10.672744       -1.930730  0.640342  -3.015156  2.568470e-03   \n",
              "...                    ...             ...       ...        ...           ...   \n",
              "mt-Nd2         1719.964413       -1.437503  0.091551 -15.701664  1.473261e-55   \n",
              "mt-Nd3          476.903354       -1.497413  0.113276 -13.219167  6.801340e-40   \n",
              "mt-Nd4         2892.448095       -1.282044  0.090107 -14.228010  6.140475e-46   \n",
              "mt-Nd4l         117.263139       -0.511385  0.188513  -2.712725  6.673253e-03   \n",
              "mt-Nd5          304.237705       -0.726397  0.132179  -5.495556  3.894809e-08   \n",
              "\n",
              "                       padj  \n",
              "1500011B03Rik  4.703056e-05  \n",
              "1600002K03Rik  3.021129e-02  \n",
              "1600014C10Rik  4.399218e-05  \n",
              "1600020E01Rik  6.165007e-03  \n",
              "1700025G04Rik  2.307318e-02  \n",
              "...                     ...  \n",
              "mt-Nd2         8.727910e-53  \n",
              "mt-Nd3         2.251644e-37  \n",
              "mt-Nd4         2.559896e-43  \n",
              "mt-Nd4l        4.868058e-02  \n",
              "mt-Nd5         1.249002e-06  \n",
              "\n",
              "[1561 rows x 6 columns]"
            ]
          },
          "execution_count": 80,
          "metadata": {},
          "output_type": "execute_result"
        }
      ],
      "source": [
        "de  = stat_res.results_df\n",
        "de[de.padj < 0.05]"
      ]
    },
    {
      "cell_type": "code",
      "execution_count": null,
      "id": "40400a33-c531-446b-8aaf-a0e60cb11a66",
      "metadata": {
        "id": "40400a33-c531-446b-8aaf-a0e60cb11a66",
        "outputId": "1461f0b9-b2d7-4437-e67a-4bff8668a665"
      },
      "outputs": [
        {
          "data": {
            "text/html": [
              "<div>\n",
              "<style scoped>\n",
              "    .dataframe tbody tr th:only-of-type {\n",
              "        vertical-align: middle;\n",
              "    }\n",
              "\n",
              "    .dataframe tbody tr th {\n",
              "        vertical-align: top;\n",
              "    }\n",
              "\n",
              "    .dataframe thead th {\n",
              "        text-align: right;\n",
              "    }\n",
              "</style>\n",
              "<table border=\"1\" class=\"dataframe\">\n",
              "  <thead>\n",
              "    <tr style=\"text-align: right;\">\n",
              "      <th></th>\n",
              "      <th>names</th>\n",
              "      <th>scores</th>\n",
              "      <th>logfoldchanges</th>\n",
              "      <th>pvals</th>\n",
              "      <th>pvals_adj</th>\n",
              "    </tr>\n",
              "  </thead>\n",
              "  <tbody>\n",
              "    <tr>\n",
              "      <th>0</th>\n",
              "      <td>Irf7</td>\n",
              "      <td>22.266527</td>\n",
              "      <td>3.070899</td>\n",
              "      <td>4.437585e-75</td>\n",
              "      <td>9.693905e-71</td>\n",
              "    </tr>\n",
              "    <tr>\n",
              "      <th>1</th>\n",
              "      <td>Ms4a4c</td>\n",
              "      <td>21.028898</td>\n",
              "      <td>3.073141</td>\n",
              "      <td>8.185017e-72</td>\n",
              "      <td>8.940085e-68</td>\n",
              "    </tr>\n",
              "    <tr>\n",
              "      <th>2</th>\n",
              "      <td>Ifitm3</td>\n",
              "      <td>20.864357</td>\n",
              "      <td>2.682066</td>\n",
              "      <td>7.415789e-64</td>\n",
              "      <td>4.049948e-60</td>\n",
              "    </tr>\n",
              "    <tr>\n",
              "      <th>3</th>\n",
              "      <td>Rbm3</td>\n",
              "      <td>20.156609</td>\n",
              "      <td>1.522151</td>\n",
              "      <td>5.262768e-59</td>\n",
              "      <td>1.916086e-55</td>\n",
              "    </tr>\n",
              "    <tr>\n",
              "      <th>4</th>\n",
              "      <td>Ly6c2</td>\n",
              "      <td>19.622303</td>\n",
              "      <td>3.473986</td>\n",
              "      <td>2.846019e-66</td>\n",
              "      <td>2.072376e-62</td>\n",
              "    </tr>\n",
              "    <tr>\n",
              "      <th>...</th>\n",
              "      <td>...</td>\n",
              "      <td>...</td>\n",
              "      <td>...</td>\n",
              "      <td>...</td>\n",
              "      <td>...</td>\n",
              "    </tr>\n",
              "    <tr>\n",
              "      <th>21840</th>\n",
              "      <td>mt-Nd4</td>\n",
              "      <td>-15.681395</td>\n",
              "      <td>-1.219225</td>\n",
              "      <td>5.574931e-46</td>\n",
              "      <td>5.799256e-43</td>\n",
              "    </tr>\n",
              "    <tr>\n",
              "      <th>21841</th>\n",
              "      <td>mt-Co3</td>\n",
              "      <td>-15.857527</td>\n",
              "      <td>-1.121504</td>\n",
              "      <td>5.304029e-46</td>\n",
              "      <td>5.793325e-43</td>\n",
              "    </tr>\n",
              "    <tr>\n",
              "      <th>21842</th>\n",
              "      <td>Lyz2</td>\n",
              "      <td>-16.438147</td>\n",
              "      <td>-2.302840</td>\n",
              "      <td>1.449470e-47</td>\n",
              "      <td>1.759093e-44</td>\n",
              "    </tr>\n",
              "    <tr>\n",
              "      <th>21843</th>\n",
              "      <td>mt-Nd2</td>\n",
              "      <td>-18.302822</td>\n",
              "      <td>-1.439711</td>\n",
              "      <td>1.313113e-58</td>\n",
              "      <td>4.097850e-55</td>\n",
              "    </tr>\n",
              "    <tr>\n",
              "      <th>21844</th>\n",
              "      <td>Hexa</td>\n",
              "      <td>-19.372721</td>\n",
              "      <td>-2.035051</td>\n",
              "      <td>4.074393e-57</td>\n",
              "      <td>1.112564e-53</td>\n",
              "    </tr>\n",
              "  </tbody>\n",
              "</table>\n",
              "<p>3005 rows × 5 columns</p>\n",
              "</div>"
            ],
            "text/plain": [
              "        names     scores  logfoldchanges         pvals     pvals_adj\n",
              "0        Irf7  22.266527        3.070899  4.437585e-75  9.693905e-71\n",
              "1      Ms4a4c  21.028898        3.073141  8.185017e-72  8.940085e-68\n",
              "2      Ifitm3  20.864357        2.682066  7.415789e-64  4.049948e-60\n",
              "3        Rbm3  20.156609        1.522151  5.262768e-59  1.916086e-55\n",
              "4       Ly6c2  19.622303        3.473986  2.846019e-66  2.072376e-62\n",
              "...       ...        ...             ...           ...           ...\n",
              "21840  mt-Nd4 -15.681395       -1.219225  5.574931e-46  5.799256e-43\n",
              "21841  mt-Co3 -15.857527       -1.121504  5.304029e-46  5.793325e-43\n",
              "21842    Lyz2 -16.438147       -2.302840  1.449470e-47  1.759093e-44\n",
              "21843  mt-Nd2 -18.302822       -1.439711  1.313113e-58  4.097850e-55\n",
              "21844    Hexa -19.372721       -2.035051  4.074393e-57  1.112564e-53\n",
              "\n",
              "[3005 rows x 5 columns]"
            ]
          },
          "execution_count": 79,
          "metadata": {},
          "output_type": "execute_result"
        }
      ],
      "source": [
        "#bad way to do DE\n",
        "temp = cell_subset[cell_subset.obs.Sample.isin(['D0', 'D10'])]\n",
        "sc.tl.rank_genes_groups(temp, groupby = 'Sample', use_raw = True)\n",
        "bad = sc.get.rank_genes_groups_df(temp, group = 'D10')\n",
        "bad[bad.pvals_adj < 0.05]"
      ]
    },
    {
      "cell_type": "code",
      "execution_count": null,
      "id": "22156f9e-d217-4719-af1c-370fc2542ffa",
      "metadata": {
        "id": "22156f9e-d217-4719-af1c-370fc2542ffa",
        "outputId": "c2627720-07c4-4609-acad-676a3790f00d"
      },
      "outputs": [
        {
          "data": {
            "image/png": "[encoded data removed]",
            "text/plain": [
              "<Figure size 300x300 with 1 Axes>"
            ]
          },
          "metadata": {},
          "output_type": "display_data"
        }
      ],
      "source": [
        "plt.figure(figsize=(3, 3))\n",
        "venn = venn2([set(bad[bad.pvals_adj < 0.05].names),\n",
        "              set(de[de.padj < 0.05].index)], set_labels=('cells', 'pb'))\n",
        "plt.show()"
      ]
    },
    {
      "cell_type": "code",
      "execution_count": null,
      "id": "4a1c9235-dce5-4179-ae5d-fe738aade9bd",
      "metadata": {
        "id": "4a1c9235-dce5-4179-ae5d-fe738aade9bd"
      },
      "outputs": [],
      "source": []
    },
    {
      "cell_type": "markdown",
      "id": "6380bcff-5ae4-45a6-9b77-62f0b382341b",
      "metadata": {
        "id": "6380bcff-5ae4-45a6-9b77-62f0b382341b"
      },
      "source": [
        "## Pathway analysis\n",
        "\n",
        "Make sure to use the correct background!!!!!\n",
        "\n",
        "This is all genes detected in your assay for a given cell type.  \n",
        "\n",
        "If we were to do GO enrichment on the DE results above we would use dds.var_names\n",
        "\n"
      ]
    },
    {
      "cell_type": "code",
      "execution_count": null,
      "id": "5b869ce1-15b3-4823-81d3-e878544f8875",
      "metadata": {
        "id": "5b869ce1-15b3-4823-81d3-e878544f8875"
      },
      "outputs": [],
      "source": [
        "enr = gp.enrichr(gene_list= de[(de.stat > 0) & (de.padj < 0.05)].index.tolist(),\n",
        "                 #gene_sets=['GO_Biological_Process_2023'],\n",
        "                 gene_sets=['m5.all.v2024.1.Mm.symbols.gmt'],\n",
        "                 organism='mouse', # don't forget to set organism to the one you desired!\n",
        "                 outdir=None, # don't write to disk,\n",
        "                 background = dds.var_names\n",
        "                )"
      ]
    },
    {
      "cell_type": "code",
      "execution_count": null,
      "id": "bb600e00-d803-455f-80b5-aa4f0c8a0579",
      "metadata": {
        "id": "bb600e00-d803-455f-80b5-aa4f0c8a0579",
        "outputId": "7d939d2a-d58c-46c8-f32c-8d00f0b07aa3"
      },
      "outputs": [
        {
          "data": {
            "text/html": [
              "<div>\n",
              "<style scoped>\n",
              "    .dataframe tbody tr th:only-of-type {\n",
              "        vertical-align: middle;\n",
              "    }\n",
              "\n",
              "    .dataframe tbody tr th {\n",
              "        vertical-align: top;\n",
              "    }\n",
              "\n",
              "    .dataframe thead th {\n",
              "        text-align: right;\n",
              "    }\n",
              "</style>\n",
              "<table border=\"1\" class=\"dataframe\">\n",
              "  <thead>\n",
              "    <tr style=\"text-align: right;\">\n",
              "      <th></th>\n",
              "      <th>Gene_set</th>\n",
              "      <th>Term</th>\n",
              "      <th>Overlap</th>\n",
              "      <th>P-value</th>\n",
              "      <th>Adjusted P-value</th>\n",
              "      <th>Odds Ratio</th>\n",
              "      <th>Combined Score</th>\n",
              "      <th>Genes</th>\n",
              "    </tr>\n",
              "  </thead>\n",
              "  <tbody>\n",
              "    <tr>\n",
              "      <th>20</th>\n",
              "      <td>m5.all.v2024.1.Mm.symbols.gmt</td>\n",
              "      <td>GOBP_ACTIVATION_OF_IMMUNE_RESPONSE</td>\n",
              "      <td>59/470</td>\n",
              "      <td>2.464130e-14</td>\n",
              "      <td>6.986457e-12</td>\n",
              "      <td>3.561885</td>\n",
              "      <td>111.609352</td>\n",
              "      <td>Igtp;Ifih1;Zbp1;Itgam;Ezr;Cfb;Oas1c;Acod1;Cd47...</td>\n",
              "    </tr>\n",
              "    <tr>\n",
              "      <th>21</th>\n",
              "      <td>m5.all.v2024.1.Mm.symbols.gmt</td>\n",
              "      <td>GOBP_ACTIVATION_OF_INNATE_IMMUNE_RESPONSE</td>\n",
              "      <td>45/274</td>\n",
              "      <td>1.990395e-15</td>\n",
              "      <td>6.307209e-13</td>\n",
              "      <td>4.829887</td>\n",
              "      <td>163.493817</td>\n",
              "      <td>Igtp;Ifih1;Zbp1;Oas1c;Acod1;Oas1a;Trim30c;Irf2...</td>\n",
              "    </tr>\n",
              "    <tr>\n",
              "      <th>33</th>\n",
              "      <td>m5.all.v2024.1.Mm.symbols.gmt</td>\n",
              "      <td>GOBP_ADAPTIVE_IMMUNE_RESPONSE</td>\n",
              "      <td>30/399</td>\n",
              "      <td>1.325435e-03</td>\n",
              "      <td>3.517300e-02</td>\n",
              "      <td>1.942912</td>\n",
              "      <td>12.873761</td>\n",
              "      <td>H2-T22;Slfn2;Clec4a2;Serpina3g;H2-T24;Hmgb1;Ns...</td>\n",
              "    </tr>\n",
              "    <tr>\n",
              "      <th>104</th>\n",
              "      <td>m5.all.v2024.1.Mm.symbols.gmt</td>\n",
              "      <td>GOBP_ANTIGEN_PROCESSING_AND_PRESENTATION</td>\n",
              "      <td>13/99</td>\n",
              "      <td>2.283596e-04</td>\n",
              "      <td>9.892676e-03</td>\n",
              "      <td>3.644548</td>\n",
              "      <td>30.558034</td>\n",
              "      <td>H2-Q7;H2-T22;Fcgr1;H2-Q4;Psmb8;Tap1;H2-T24;Psm...</td>\n",
              "    </tr>\n",
              "    <tr>\n",
              "      <th>105</th>\n",
              "      <td>m5.all.v2024.1.Mm.symbols.gmt</td>\n",
              "      <td>GOBP_ANTIGEN_PROCESSING_AND_PRESENTATION_OF_EN...</td>\n",
              "      <td>9/24</td>\n",
              "      <td>2.638777e-07</td>\n",
              "      <td>2.632424e-05</td>\n",
              "      <td>14.290933</td>\n",
              "      <td>216.475907</td>\n",
              "      <td>H2-T22;H2-Q4;Tap1;H2-T24;B2m;H2-M3;H2-T23;H2-Q...</td>\n",
              "    </tr>\n",
              "    <tr>\n",
              "      <th>...</th>\n",
              "      <td>...</td>\n",
              "      <td>...</td>\n",
              "      <td>...</td>\n",
              "      <td>...</td>\n",
              "      <td>...</td>\n",
              "      <td>...</td>\n",
              "      <td>...</td>\n",
              "      <td>...</td>\n",
              "    </tr>\n",
              "    <tr>\n",
              "      <th>5256</th>\n",
              "      <td>m5.all.v2024.1.Mm.symbols.gmt</td>\n",
              "      <td>GOMF_TAP_BINDING</td>\n",
              "      <td>5/12</td>\n",
              "      <td>7.624416e-05</td>\n",
              "      <td>4.369439e-03</td>\n",
              "      <td>17.001044</td>\n",
              "      <td>161.196585</td>\n",
              "      <td>H2-T22;H2-Q4;Tap1;H2-Q6;H2-Q7</td>\n",
              "    </tr>\n",
              "    <tr>\n",
              "      <th>5262</th>\n",
              "      <td>m5.all.v2024.1.Mm.symbols.gmt</td>\n",
              "      <td>GOMF_THREONINE_TYPE_ENDOPEPTIDASE_ACTIVITY</td>\n",
              "      <td>4/8</td>\n",
              "      <td>1.818763e-04</td>\n",
              "      <td>8.136419e-03</td>\n",
              "      <td>23.151681</td>\n",
              "      <td>199.386529</td>\n",
              "      <td>Psmb8;Psmb10;Prss50;Psmb7</td>\n",
              "    </tr>\n",
              "    <tr>\n",
              "      <th>5263</th>\n",
              "      <td>m5.all.v2024.1.Mm.symbols.gmt</td>\n",
              "      <td>GOMF_THREONINE_TYPE_PEPTIDASE_ACTIVITY</td>\n",
              "      <td>4/10</td>\n",
              "      <td>5.103336e-04</td>\n",
              "      <td>1.756242e-02</td>\n",
              "      <td>16.025922</td>\n",
              "      <td>121.483633</td>\n",
              "      <td>Psmb8;Psmb10;Prss50;Psmb7</td>\n",
              "    </tr>\n",
              "    <tr>\n",
              "      <th>5303</th>\n",
              "      <td>m5.all.v2024.1.Mm.symbols.gmt</td>\n",
              "      <td>GOMF_T_CELL_RECEPTOR_BINDING</td>\n",
              "      <td>5/20</td>\n",
              "      <td>1.131196e-03</td>\n",
              "      <td>3.190446e-02</td>\n",
              "      <td>8.221866</td>\n",
              "      <td>55.781084</td>\n",
              "      <td>H2-T22;H2-Q4;H2-T23;H2-Q6;H2-Q7</td>\n",
              "    </tr>\n",
              "    <tr>\n",
              "      <th>5336</th>\n",
              "      <td>m5.all.v2024.1.Mm.symbols.gmt</td>\n",
              "      <td>MP_DECREASED_CIRCULATING_TUMOR_NECROSIS_FACTOR...</td>\n",
              "      <td>8/46</td>\n",
              "      <td>5.532831e-04</td>\n",
              "      <td>1.828550e-02</td>\n",
              "      <td>5.131771</td>\n",
              "      <td>38.486437</td>\n",
              "      <td>Ifit2;Nmi;Sra1;Myd88;Siglec1;Irf5;Ifi204;Ifi35</td>\n",
              "    </tr>\n",
              "  </tbody>\n",
              "</table>\n",
              "<p>220 rows × 8 columns</p>\n",
              "</div>"
            ],
            "text/plain": [
              "                           Gene_set  \\\n",
              "20    m5.all.v2024.1.Mm.symbols.gmt   \n",
              "21    m5.all.v2024.1.Mm.symbols.gmt   \n",
              "33    m5.all.v2024.1.Mm.symbols.gmt   \n",
              "104   m5.all.v2024.1.Mm.symbols.gmt   \n",
              "105   m5.all.v2024.1.Mm.symbols.gmt   \n",
              "...                             ...   \n",
              "5256  m5.all.v2024.1.Mm.symbols.gmt   \n",
              "5262  m5.all.v2024.1.Mm.symbols.gmt   \n",
              "5263  m5.all.v2024.1.Mm.symbols.gmt   \n",
              "5303  m5.all.v2024.1.Mm.symbols.gmt   \n",
              "5336  m5.all.v2024.1.Mm.symbols.gmt   \n",
              "\n",
              "                                                   Term Overlap       P-value  \\\n",
              "20                   GOBP_ACTIVATION_OF_IMMUNE_RESPONSE  59/470  2.464130e-14   \n",
              "21            GOBP_ACTIVATION_OF_INNATE_IMMUNE_RESPONSE  45/274  1.990395e-15   \n",
              "33                        GOBP_ADAPTIVE_IMMUNE_RESPONSE  30/399  1.325435e-03   \n",
              "104            GOBP_ANTIGEN_PROCESSING_AND_PRESENTATION   13/99  2.283596e-04   \n",
              "105   GOBP_ANTIGEN_PROCESSING_AND_PRESENTATION_OF_EN...    9/24  2.638777e-07   \n",
              "...                                                 ...     ...           ...   \n",
              "5256                                   GOMF_TAP_BINDING    5/12  7.624416e-05   \n",
              "5262         GOMF_THREONINE_TYPE_ENDOPEPTIDASE_ACTIVITY     4/8  1.818763e-04   \n",
              "5263             GOMF_THREONINE_TYPE_PEPTIDASE_ACTIVITY    4/10  5.103336e-04   \n",
              "5303                       GOMF_T_CELL_RECEPTOR_BINDING    5/20  1.131196e-03   \n",
              "5336  MP_DECREASED_CIRCULATING_TUMOR_NECROSIS_FACTOR...    8/46  5.532831e-04   \n",
              "\n",
              "      Adjusted P-value  Odds Ratio  Combined Score  \\\n",
              "20        6.986457e-12    3.561885      111.609352   \n",
              "21        6.307209e-13    4.829887      163.493817   \n",
              "33        3.517300e-02    1.942912       12.873761   \n",
              "104       9.892676e-03    3.644548       30.558034   \n",
              "105       2.632424e-05   14.290933      216.475907   \n",
              "...                ...         ...             ...   \n",
              "5256      4.369439e-03   17.001044      161.196585   \n",
              "5262      8.136419e-03   23.151681      199.386529   \n",
              "5263      1.756242e-02   16.025922      121.483633   \n",
              "5303      3.190446e-02    8.221866       55.781084   \n",
              "5336      1.828550e-02    5.131771       38.486437   \n",
              "\n",
              "                                                  Genes  \n",
              "20    Igtp;Ifih1;Zbp1;Itgam;Ezr;Cfb;Oas1c;Acod1;Cd47...  \n",
              "21    Igtp;Ifih1;Zbp1;Oas1c;Acod1;Oas1a;Trim30c;Irf2...  \n",
              "33    H2-T22;Slfn2;Clec4a2;Serpina3g;H2-T24;Hmgb1;Ns...  \n",
              "104   H2-Q7;H2-T22;Fcgr1;H2-Q4;Psmb8;Tap1;H2-T24;Psm...  \n",
              "105   H2-T22;H2-Q4;Tap1;H2-T24;B2m;H2-M3;H2-T23;H2-Q...  \n",
              "...                                                 ...  \n",
              "5256                      H2-T22;H2-Q4;Tap1;H2-Q6;H2-Q7  \n",
              "5262                          Psmb8;Psmb10;Prss50;Psmb7  \n",
              "5263                          Psmb8;Psmb10;Prss50;Psmb7  \n",
              "5303                    H2-T22;H2-Q4;H2-T23;H2-Q6;H2-Q7  \n",
              "5336     Ifit2;Nmi;Sra1;Myd88;Siglec1;Irf5;Ifi204;Ifi35  \n",
              "\n",
              "[220 rows x 8 columns]"
            ]
          },
          "execution_count": 88,
          "metadata": {},
          "output_type": "execute_result"
        }
      ],
      "source": [
        "a = enr.results[enr.results['Adjusted P-value'] < 0.05]\n",
        "a"
      ]
    },
    {
      "cell_type": "code",
      "execution_count": null,
      "id": "9e10d88d-b002-4abc-a448-20d981946082",
      "metadata": {
        "id": "9e10d88d-b002-4abc-a448-20d981946082"
      },
      "outputs": [],
      "source": [
        "#wrong background would be leaving it blank or using every gene in your original dataset\n",
        "#typically default backgrounds will use the entire ensemble gene set\n",
        "\n",
        "bad_background = sc.read_h5ad('adatas/D0_filtered_SMALL.h5ad').var_names\n",
        "\n",
        "enr = gp.enrichr(gene_list= de[(de.stat > 0) & (de.padj < 0.05)].index.tolist(),\n",
        "                 #gene_sets=['GO_Biological_Process_2023'],\n",
        "                 gene_sets=['m5.all.v2024.1.Mm.symbols.gmt'],\n",
        "                 organism='mouse', # don't forget to set organism to the one you desired!\n",
        "                 outdir=None, # don't write to disk,\n",
        "                 background = bad_background\n",
        "                )"
      ]
    },
    {
      "cell_type": "code",
      "execution_count": null,
      "id": "ecb6863f-a911-47ae-9b58-61721ba5fed4",
      "metadata": {
        "id": "ecb6863f-a911-47ae-9b58-61721ba5fed4",
        "outputId": "7958b2a5-7959-442c-9f7e-45ac15c2525b"
      },
      "outputs": [
        {
          "data": {
            "text/html": [
              "<div>\n",
              "<style scoped>\n",
              "    .dataframe tbody tr th:only-of-type {\n",
              "        vertical-align: middle;\n",
              "    }\n",
              "\n",
              "    .dataframe tbody tr th {\n",
              "        vertical-align: top;\n",
              "    }\n",
              "\n",
              "    .dataframe thead th {\n",
              "        text-align: right;\n",
              "    }\n",
              "</style>\n",
              "<table border=\"1\" class=\"dataframe\">\n",
              "  <thead>\n",
              "    <tr style=\"text-align: right;\">\n",
              "      <th></th>\n",
              "      <th>Gene_set</th>\n",
              "      <th>Term</th>\n",
              "      <th>Overlap</th>\n",
              "      <th>P-value</th>\n",
              "      <th>Adjusted P-value</th>\n",
              "      <th>Odds Ratio</th>\n",
              "      <th>Combined Score</th>\n",
              "      <th>Genes</th>\n",
              "    </tr>\n",
              "  </thead>\n",
              "  <tbody>\n",
              "    <tr>\n",
              "      <th>20</th>\n",
              "      <td>m5.all.v2024.1.Mm.symbols.gmt</td>\n",
              "      <td>GOBP_ACTIVATION_OF_IMMUNE_RESPONSE</td>\n",
              "      <td>59/509</td>\n",
              "      <td>3.679923e-17</td>\n",
              "      <td>1.166103e-14</td>\n",
              "      <td>4.153316</td>\n",
              "      <td>157.165858</td>\n",
              "      <td>Igtp;Ifih1;Zbp1;Itgam;Ezr;Cfb;Oas1c;Acod1;Cd47...</td>\n",
              "    </tr>\n",
              "    <tr>\n",
              "      <th>21</th>\n",
              "      <td>m5.all.v2024.1.Mm.symbols.gmt</td>\n",
              "      <td>GOBP_ACTIVATION_OF_INNATE_IMMUNE_RESPONSE</td>\n",
              "      <td>45/287</td>\n",
              "      <td>2.515039e-18</td>\n",
              "      <td>8.467821e-16</td>\n",
              "      <td>5.827467</td>\n",
              "      <td>236.153704</td>\n",
              "      <td>Igtp;Ifih1;Zbp1;Oas1c;Acod1;Oas1a;Trim30c;Irf2...</td>\n",
              "    </tr>\n",
              "    <tr>\n",
              "      <th>33</th>\n",
              "      <td>m5.all.v2024.1.Mm.symbols.gmt</td>\n",
              "      <td>GOBP_ADAPTIVE_IMMUNE_RESPONSE</td>\n",
              "      <td>30/481</td>\n",
              "      <td>6.941599e-04</td>\n",
              "      <td>1.618805e-02</td>\n",
              "      <td>2.023770</td>\n",
              "      <td>14.718493</td>\n",
              "      <td>H2-T22;Slfn2;Clec4a2;Serpina3g;H2-T24;Hmgb1;Ns...</td>\n",
              "    </tr>\n",
              "    <tr>\n",
              "      <th>54</th>\n",
              "      <td>m5.all.v2024.1.Mm.symbols.gmt</td>\n",
              "      <td>GOBP_ALLANTOIN_METABOLIC_PROCESS</td>\n",
              "      <td>3/8</td>\n",
              "      <td>1.772299e-03</td>\n",
              "      <td>3.292198e-02</td>\n",
              "      <td>18.703924</td>\n",
              "      <td>118.498296</td>\n",
              "      <td>Gda;Nt5c;Pnp</td>\n",
              "    </tr>\n",
              "    <tr>\n",
              "      <th>104</th>\n",
              "      <td>m5.all.v2024.1.Mm.symbols.gmt</td>\n",
              "      <td>GOBP_ANTIGEN_PROCESSING_AND_PRESENTATION</td>\n",
              "      <td>13/107</td>\n",
              "      <td>5.158837e-05</td>\n",
              "      <td>2.280547e-03</td>\n",
              "      <td>4.245270</td>\n",
              "      <td>41.910217</td>\n",
              "      <td>H2-Q7;H2-T22;Fcgr1;H2-Q4;Psmb8;Tap1;H2-T24;Psm...</td>\n",
              "    </tr>\n",
              "    <tr>\n",
              "      <th>...</th>\n",
              "      <td>...</td>\n",
              "      <td>...</td>\n",
              "      <td>...</td>\n",
              "      <td>...</td>\n",
              "      <td>...</td>\n",
              "      <td>...</td>\n",
              "      <td>...</td>\n",
              "      <td>...</td>\n",
              "    </tr>\n",
              "    <tr>\n",
              "      <th>5303</th>\n",
              "      <td>m5.all.v2024.1.Mm.symbols.gmt</td>\n",
              "      <td>GOMF_T_CELL_RECEPTOR_BINDING</td>\n",
              "      <td>5/22</td>\n",
              "      <td>6.378588e-04</td>\n",
              "      <td>1.520418e-02</td>\n",
              "      <td>9.260477</td>\n",
              "      <td>68.132971</td>\n",
              "      <td>H2-T22;H2-Q4;H2-T23;H2-Q6;H2-Q7</td>\n",
              "    </tr>\n",
              "    <tr>\n",
              "      <th>5316</th>\n",
              "      <td>m5.all.v2024.1.Mm.symbols.gmt</td>\n",
              "      <td>GOMF_UBIQUITIN_LIKE_PROTEIN_LIGASE_BINDING</td>\n",
              "      <td>23/321</td>\n",
              "      <td>4.469591e-04</td>\n",
              "      <td>1.152042e-02</td>\n",
              "      <td>2.351342</td>\n",
              "      <td>18.136001</td>\n",
              "      <td>Rbx1;Isg15;Cul3;Tpi1;Usp25;Ube2l6;Triobp;Daxx;...</td>\n",
              "    </tr>\n",
              "    <tr>\n",
              "      <th>5336</th>\n",
              "      <td>m5.all.v2024.1.Mm.symbols.gmt</td>\n",
              "      <td>MP_DECREASED_CIRCULATING_TUMOR_NECROSIS_FACTOR...</td>\n",
              "      <td>8/49</td>\n",
              "      <td>1.844149e-04</td>\n",
              "      <td>5.612671e-03</td>\n",
              "      <td>6.055786</td>\n",
              "      <td>52.069600</td>\n",
              "      <td>Ifit2;Nmi;Sra1;Myd88;Siglec1;Irf5;Ifi204;Ifi35</td>\n",
              "    </tr>\n",
              "    <tr>\n",
              "      <th>5337</th>\n",
              "      <td>m5.all.v2024.1.Mm.symbols.gmt</td>\n",
              "      <td>MP_DECREASED_INCIDENCE_OF_TUMORS_BY_CHEMICAL_I...</td>\n",
              "      <td>9/82</td>\n",
              "      <td>1.510844e-03</td>\n",
              "      <td>2.917174e-02</td>\n",
              "      <td>3.821022</td>\n",
              "      <td>24.817873</td>\n",
              "      <td>Ccl2;Mmp19;Dek;Pla2g4a;Myd88;Trem1;Hcst;Ier3;Mtdh</td>\n",
              "    </tr>\n",
              "    <tr>\n",
              "      <th>5344</th>\n",
              "      <td>m5.all.v2024.1.Mm.symbols.gmt</td>\n",
              "      <td>MP_DECREASED_TUMOR_NECROSIS_FACTOR_SECRETION</td>\n",
              "      <td>12/121</td>\n",
              "      <td>6.682356e-04</td>\n",
              "      <td>1.565124e-02</td>\n",
              "      <td>3.384256</td>\n",
              "      <td>24.741853</td>\n",
              "      <td>Ifit2;Azi2;Pla2g4a;Tarm1;Dhx58;Siglec1;Tlr7;My...</td>\n",
              "    </tr>\n",
              "  </tbody>\n",
              "</table>\n",
              "<p>321 rows × 8 columns</p>\n",
              "</div>"
            ],
            "text/plain": [
              "                           Gene_set  \\\n",
              "20    m5.all.v2024.1.Mm.symbols.gmt   \n",
              "21    m5.all.v2024.1.Mm.symbols.gmt   \n",
              "33    m5.all.v2024.1.Mm.symbols.gmt   \n",
              "54    m5.all.v2024.1.Mm.symbols.gmt   \n",
              "104   m5.all.v2024.1.Mm.symbols.gmt   \n",
              "...                             ...   \n",
              "5303  m5.all.v2024.1.Mm.symbols.gmt   \n",
              "5316  m5.all.v2024.1.Mm.symbols.gmt   \n",
              "5336  m5.all.v2024.1.Mm.symbols.gmt   \n",
              "5337  m5.all.v2024.1.Mm.symbols.gmt   \n",
              "5344  m5.all.v2024.1.Mm.symbols.gmt   \n",
              "\n",
              "                                                   Term Overlap       P-value  \\\n",
              "20                   GOBP_ACTIVATION_OF_IMMUNE_RESPONSE  59/509  3.679923e-17   \n",
              "21            GOBP_ACTIVATION_OF_INNATE_IMMUNE_RESPONSE  45/287  2.515039e-18   \n",
              "33                        GOBP_ADAPTIVE_IMMUNE_RESPONSE  30/481  6.941599e-04   \n",
              "54                     GOBP_ALLANTOIN_METABOLIC_PROCESS     3/8  1.772299e-03   \n",
              "104            GOBP_ANTIGEN_PROCESSING_AND_PRESENTATION  13/107  5.158837e-05   \n",
              "...                                                 ...     ...           ...   \n",
              "5303                       GOMF_T_CELL_RECEPTOR_BINDING    5/22  6.378588e-04   \n",
              "5316         GOMF_UBIQUITIN_LIKE_PROTEIN_LIGASE_BINDING  23/321  4.469591e-04   \n",
              "5336  MP_DECREASED_CIRCULATING_TUMOR_NECROSIS_FACTOR...    8/49  1.844149e-04   \n",
              "5337  MP_DECREASED_INCIDENCE_OF_TUMORS_BY_CHEMICAL_I...    9/82  1.510844e-03   \n",
              "5344       MP_DECREASED_TUMOR_NECROSIS_FACTOR_SECRETION  12/121  6.682356e-04   \n",
              "\n",
              "      Adjusted P-value  Odds Ratio  Combined Score  \\\n",
              "20        1.166103e-14    4.153316      157.165858   \n",
              "21        8.467821e-16    5.827467      236.153704   \n",
              "33        1.618805e-02    2.023770       14.718493   \n",
              "54        3.292198e-02   18.703924      118.498296   \n",
              "104       2.280547e-03    4.245270       41.910217   \n",
              "...                ...         ...             ...   \n",
              "5303      1.520418e-02    9.260477       68.132971   \n",
              "5316      1.152042e-02    2.351342       18.136001   \n",
              "5336      5.612671e-03    6.055786       52.069600   \n",
              "5337      2.917174e-02    3.821022       24.817873   \n",
              "5344      1.565124e-02    3.384256       24.741853   \n",
              "\n",
              "                                                  Genes  \n",
              "20    Igtp;Ifih1;Zbp1;Itgam;Ezr;Cfb;Oas1c;Acod1;Cd47...  \n",
              "21    Igtp;Ifih1;Zbp1;Oas1c;Acod1;Oas1a;Trim30c;Irf2...  \n",
              "33    H2-T22;Slfn2;Clec4a2;Serpina3g;H2-T24;Hmgb1;Ns...  \n",
              "54                                         Gda;Nt5c;Pnp  \n",
              "104   H2-Q7;H2-T22;Fcgr1;H2-Q4;Psmb8;Tap1;H2-T24;Psm...  \n",
              "...                                                 ...  \n",
              "5303                    H2-T22;H2-Q4;H2-T23;H2-Q6;H2-Q7  \n",
              "5316  Rbx1;Isg15;Cul3;Tpi1;Usp25;Ube2l6;Triobp;Daxx;...  \n",
              "5336     Ifit2;Nmi;Sra1;Myd88;Siglec1;Irf5;Ifi204;Ifi35  \n",
              "5337  Ccl2;Mmp19;Dek;Pla2g4a;Myd88;Trem1;Hcst;Ier3;Mtdh  \n",
              "5344  Ifit2;Azi2;Pla2g4a;Tarm1;Dhx58;Siglec1;Tlr7;My...  \n",
              "\n",
              "[321 rows x 8 columns]"
            ]
          },
          "execution_count": 90,
          "metadata": {},
          "output_type": "execute_result"
        }
      ],
      "source": [
        "b = enr.results[enr.results['Adjusted P-value'] < 0.05]\n",
        "b"
      ]
    },
    {
      "cell_type": "code",
      "execution_count": null,
      "id": "3c1e0b4c-3a9f-47dc-a396-0719e71c62b4",
      "metadata": {
        "id": "3c1e0b4c-3a9f-47dc-a396-0719e71c62b4",
        "outputId": "edc4681f-fa81-4519-e0a6-fe76bf17a5d9"
      },
      "outputs": [
        {
          "data": {
            "text/plain": [
              "15452"
            ]
          },
          "execution_count": 95,
          "metadata": {},
          "output_type": "execute_result"
        }
      ],
      "source": [
        "len(dds.var_names)"
      ]
    },
    {
      "cell_type": "code",
      "execution_count": null,
      "id": "d86cd254-9ebd-4451-b9e3-08f4ffa01695",
      "metadata": {
        "id": "d86cd254-9ebd-4451-b9e3-08f4ffa01695",
        "outputId": "4275ec51-122e-4302-b238-728cdafc93c1"
      },
      "outputs": [
        {
          "data": {
            "text/plain": [
              "19473"
            ]
          },
          "execution_count": 96,
          "metadata": {},
          "output_type": "execute_result"
        }
      ],
      "source": [
        "len(bad_background)"
      ]
    },
    {
      "cell_type": "code",
      "execution_count": null,
      "id": "f0beffe4-fe37-41bf-92cb-545d244b7ad4",
      "metadata": {
        "id": "f0beffe4-fe37-41bf-92cb-545d244b7ad4"
      },
      "outputs": [],
      "source": []
    },
    {
      "cell_type": "code",
      "execution_count": null,
      "id": "493fa784-75e6-4411-8c63-45b29305d0db",
      "metadata": {
        "id": "493fa784-75e6-4411-8c63-45b29305d0db"
      },
      "outputs": [],
      "source": []
    },
    {
      "cell_type": "code",
      "execution_count": null,
      "id": "2ce93fed-b518-40d0-8b0f-2f8ea15b93c7",
      "metadata": {
        "id": "2ce93fed-b518-40d0-8b0f-2f8ea15b93c7",
        "outputId": "62597d01-d3de-4783-9cce-a1a926092636"
      },
      "outputs": [
        {
          "data": {
            "image/png": "[encoded data removed]",
            "text/plain": [
              "<Figure size 300x300 with 1 Axes>"
            ]
          },
          "metadata": {},
          "output_type": "display_data"
        }
      ],
      "source": [
        "plt.figure(figsize=(3, 3))\n",
        "venn = venn2([set(a.Term),\n",
        "              set(b.Term)], set_labels=('right', 'wrong'))\n",
        "plt.show()"
      ]
    },
    {
      "cell_type": "markdown",
      "id": "87ed230a-67c3-4084-9989-482a12909d89",
      "metadata": {
        "id": "87ed230a-67c3-4084-9989-482a12909d89"
      },
      "source": [
        "Many extra pathways that aren't actually enriched if you use the default values"
      ]
    },
    {
      "cell_type": "code",
      "execution_count": null,
      "id": "e8791c92-1b09-49c1-8a10-9beaed2cc297",
      "metadata": {
        "id": "e8791c92-1b09-49c1-8a10-9beaed2cc297"
      },
      "outputs": [],
      "source": []
    },
    {
      "cell_type": "code",
      "execution_count": null,
      "id": "d91582b0-a70b-43e3-acdd-aa09f0e72a5c",
      "metadata": {
        "id": "d91582b0-a70b-43e3-acdd-aa09f0e72a5c"
      },
      "outputs": [],
      "source": []
    }
  ],
  "metadata": {
    "kernelspec": {
      "display_name": "Python 3 (ipykernel)",
      "language": "python",
      "name": "python3"
    },
    "language_info": {
      "codemirror_mode": {
        "name": "ipython",
        "version": 3
      },
      "file_extension": ".py",
      "mimetype": "text/x-python",
      "name": "python",
      "nbconvert_exporter": "python",
      "pygments_lexer": "ipython3",
      "version": "3.9.19"
    },
    "colab": {
      "provenance": [],
      "include_colab_link": true
    },
    "widgets": {
      "application/vnd.jupyter.widget-state+json": {
        "7dac16737ffb44ad813790a9ec4df146": {
          "model_module": "@jupyter-widgets/controls",
          "model_name": "HBoxModel",
          "model_module_version": "1.5.0",
          "state": {
            "_dom_classes": [],
            "_model_module": "@jupyter-widgets/controls",
            "_model_module_version": "1.5.0",
            "_model_name": "HBoxModel",
            "_view_count": null,
            "_view_module": "@jupyter-widgets/controls",
            "_view_module_version": "1.5.0",
            "_view_name": "HBoxView",
            "box_style": "",
            "children": [
              "IPY_MODEL_9729c2ea0677485bafe923d73a816f84",
              "IPY_MODEL_96aa0431ff90478a8f4251b5416c7f36",
              "IPY_MODEL_bc0fb22403a14bc0ba124f0ea7329974"
            ],
            "layout": "IPY_MODEL_621b5997815d4befa22fdf11d7241346"
          }
        },
        "9729c2ea0677485bafe923d73a816f84": {
          "model_module": "@jupyter-widgets/controls",
          "model_name": "HTMLModel",
          "model_module_version": "1.5.0",
          "state": {
            "_dom_classes": [],
            "_model_module": "@jupyter-widgets/controls",
            "_model_module_version": "1.5.0",
            "_model_name": "HTMLModel",
            "_view_count": null,
            "_view_module": "@jupyter-widgets/controls",
            "_view_module_version": "1.5.0",
            "_view_name": "HTMLView",
            "description": "",
            "description_tooltip": null,
            "layout": "IPY_MODEL_ec193929078b43bd8b42b86ff35c33b5",
            "placeholder": "​",
            "style": "IPY_MODEL_c2625fbf0a0e4956b17cdf86353599d1",
            "value": "100%"
          }
        },
        "96aa0431ff90478a8f4251b5416c7f36": {
          "model_module": "@jupyter-widgets/controls",
          "model_name": "FloatProgressModel",
          "model_module_version": "1.5.0",
          "state": {
            "_dom_classes": [],
            "_model_module": "@jupyter-widgets/controls",
            "_model_module_version": "1.5.0",
            "_model_name": "FloatProgressModel",
            "_view_count": null,
            "_view_module": "@jupyter-widgets/controls",
            "_view_module_version": "1.5.0",
            "_view_name": "ProgressView",
            "bar_style": "success",
            "description": "",
            "description_tooltip": null,
            "layout": "IPY_MODEL_b1f8fb66e46c4806bd9542690ca134b5",
            "max": 10,
            "min": 0,
            "orientation": "horizontal",
            "style": "IPY_MODEL_ecce1374629f4c54b959784f35c39c1f",
            "value": 10
          }
        },
        "bc0fb22403a14bc0ba124f0ea7329974": {
          "model_module": "@jupyter-widgets/controls",
          "model_name": "HTMLModel",
          "model_module_version": "1.5.0",
          "state": {
            "_dom_classes": [],
            "_model_module": "@jupyter-widgets/controls",
            "_model_module_version": "1.5.0",
            "_model_name": "HTMLModel",
            "_view_count": null,
            "_view_module": "@jupyter-widgets/controls",
            "_view_module_version": "1.5.0",
            "_view_name": "HTMLView",
            "description": "",
            "description_tooltip": null,
            "layout": "IPY_MODEL_766572e315c7404f81f93f3ca52308b2",
            "placeholder": "​",
            "style": "IPY_MODEL_3add9355afe344af843c46badcf6f398",
            "value": " 10/10 [00:48&lt;00:00,  2.25s/it]"
          }
        },
        "621b5997815d4befa22fdf11d7241346": {
          "model_module": "@jupyter-widgets/base",
          "model_name": "LayoutModel",
          "model_module_version": "1.2.0",
          "state": {
            "_model_module": "@jupyter-widgets/base",
            "_model_module_version": "1.2.0",
            "_model_name": "LayoutModel",
            "_view_count": null,
            "_view_module": "@jupyter-widgets/base",
            "_view_module_version": "1.2.0",
            "_view_name": "LayoutView",
            "align_content": null,
            "align_items": null,
            "align_self": null,
            "border": null,
            "bottom": null,
            "display": null,
            "flex": null,
            "flex_flow": null,
            "grid_area": null,
            "grid_auto_columns": null,
            "grid_auto_flow": null,
            "grid_auto_rows": null,
            "grid_column": null,
            "grid_gap": null,
            "grid_row": null,
            "grid_template_areas": null,
            "grid_template_columns": null,
            "grid_template_rows": null,
            "height": null,
            "justify_content": null,
            "justify_items": null,
            "left": null,
            "margin": null,
            "max_height": null,
            "max_width": null,
            "min_height": null,
            "min_width": null,
            "object_fit": null,
            "object_position": null,
            "order": null,
            "overflow": null,
            "overflow_x": null,
            "overflow_y": null,
            "padding": null,
            "right": null,
            "top": null,
            "visibility": null,
            "width": null
          }
        },
        "ec193929078b43bd8b42b86ff35c33b5": {
          "model_module": "@jupyter-widgets/base",
          "model_name": "LayoutModel",
          "model_module_version": "1.2.0",
          "state": {
            "_model_module": "@jupyter-widgets/base",
            "_model_module_version": "1.2.0",
            "_model_name": "LayoutModel",
            "_view_count": null,
            "_view_module": "@jupyter-widgets/base",
            "_view_module_version": "1.2.0",
            "_view_name": "LayoutView",
            "align_content": null,
            "align_items": null,
            "align_self": null,
            "border": null,
            "bottom": null,
            "display": null,
            "flex": null,
            "flex_flow": null,
            "grid_area": null,
            "grid_auto_columns": null,
            "grid_auto_flow": null,
            "grid_auto_rows": null,
            "grid_column": null,
            "grid_gap": null,
            "grid_row": null,
            "grid_template_areas": null,
            "grid_template_columns": null,
            "grid_template_rows": null,
            "height": null,
            "justify_content": null,
            "justify_items": null,
            "left": null,
            "margin": null,
            "max_height": null,
            "max_width": null,
            "min_height": null,
            "min_width": null,
            "object_fit": null,
            "object_position": null,
            "order": null,
            "overflow": null,
            "overflow_x": null,
            "overflow_y": null,
            "padding": null,
            "right": null,
            "top": null,
            "visibility": null,
            "width": null
          }
        },
        "c2625fbf0a0e4956b17cdf86353599d1": {
          "model_module": "@jupyter-widgets/controls",
          "model_name": "DescriptionStyleModel",
          "model_module_version": "1.5.0",
          "state": {
            "_model_module": "@jupyter-widgets/controls",
            "_model_module_version": "1.5.0",
            "_model_name": "DescriptionStyleModel",
            "_view_count": null,
            "_view_module": "@jupyter-widgets/base",
            "_view_module_version": "1.2.0",
            "_view_name": "StyleView",
            "description_width": ""
          }
        },
        "b1f8fb66e46c4806bd9542690ca134b5": {
          "model_module": "@jupyter-widgets/base",
          "model_name": "LayoutModel",
          "model_module_version": "1.2.0",
          "state": {
            "_model_module": "@jupyter-widgets/base",
            "_model_module_version": "1.2.0",
            "_model_name": "LayoutModel",
            "_view_count": null,
            "_view_module": "@jupyter-widgets/base",
            "_view_module_version": "1.2.0",
            "_view_name": "LayoutView",
            "align_content": null,
            "align_items": null,
            "align_self": null,
            "border": null,
            "bottom": null,
            "display": null,
            "flex": null,
            "flex_flow": null,
            "grid_area": null,
            "grid_auto_columns": null,
            "grid_auto_flow": null,
            "grid_auto_rows": null,
            "grid_column": null,
            "grid_gap": null,
            "grid_row": null,
            "grid_template_areas": null,
            "grid_template_columns": null,
            "grid_template_rows": null,
            "height": null,
            "justify_content": null,
            "justify_items": null,
            "left": null,
            "margin": null,
            "max_height": null,
            "max_width": null,
            "min_height": null,
            "min_width": null,
            "object_fit": null,
            "object_position": null,
            "order": null,
            "overflow": null,
            "overflow_x": null,
            "overflow_y": null,
            "padding": null,
            "right": null,
            "top": null,
            "visibility": null,
            "width": null
          }
        },
        "ecce1374629f4c54b959784f35c39c1f": {
          "model_module": "@jupyter-widgets/controls",
          "model_name": "ProgressStyleModel",
          "model_module_version": "1.5.0",
          "state": {
            "_model_module": "@jupyter-widgets/controls",
            "_model_module_version": "1.5.0",
            "_model_name": "ProgressStyleModel",
            "_view_count": null,
            "_view_module": "@jupyter-widgets/base",
            "_view_module_version": "1.2.0",
            "_view_name": "StyleView",
            "bar_color": null,
            "description_width": ""
          }
        },
        "766572e315c7404f81f93f3ca52308b2": {
          "model_module": "@jupyter-widgets/base",
          "model_name": "LayoutModel",
          "model_module_version": "1.2.0",
          "state": {
            "_model_module": "@jupyter-widgets/base",
            "_model_module_version": "1.2.0",
            "_model_name": "LayoutModel",
            "_view_count": null,
            "_view_module": "@jupyter-widgets/base",
            "_view_module_version": "1.2.0",
            "_view_name": "LayoutView",
            "align_content": null,
            "align_items": null,
            "align_self": null,
            "border": null,
            "bottom": null,
            "display": null,
            "flex": null,
            "flex_flow": null,
            "grid_area": null,
            "grid_auto_columns": null,
            "grid_auto_flow": null,
            "grid_auto_rows": null,
            "grid_column": null,
            "grid_gap": null,
            "grid_row": null,
            "grid_template_areas": null,
            "grid_template_columns": null,
            "grid_template_rows": null,
            "height": null,
            "justify_content": null,
            "justify_items": null,
            "left": null,
            "margin": null,
            "max_height": null,
            "max_width": null,
            "min_height": null,
            "min_width": null,
            "object_fit": null,
            "object_position": null,
            "order": null,
            "overflow": null,
            "overflow_x": null,
            "overflow_y": null,
            "padding": null,
            "right": null,
            "top": null,
            "visibility": null,
            "width": null
          }
        },
        "3add9355afe344af843c46badcf6f398": {
          "model_module": "@jupyter-widgets/controls",
          "model_name": "DescriptionStyleModel",
          "model_module_version": "1.5.0",
          "state": {
            "_model_module": "@jupyter-widgets/controls",
            "_model_module_version": "1.5.0",
            "_model_name": "DescriptionStyleModel",
            "_view_count": null,
            "_view_module": "@jupyter-widgets/base",
            "_view_module_version": "1.2.0",
            "_view_name": "StyleView",
            "description_width": ""
          }
        },
        "237c0f3d976a48c9adf27245ff82e601": {
          "model_module": "@jupyter-widgets/controls",
          "model_name": "HBoxModel",
          "model_module_version": "1.5.0",
          "state": {
            "_dom_classes": [],
            "_model_module": "@jupyter-widgets/controls",
            "_model_module_version": "1.5.0",
            "_model_name": "HBoxModel",
            "_view_count": null,
            "_view_module": "@jupyter-widgets/controls",
            "_view_module_version": "1.5.0",
            "_view_name": "HBoxView",
            "box_style": "",
            "children": [
              "IPY_MODEL_4fd93085318449b7ba6e87a861220c99",
              "IPY_MODEL_e7caf12b18184ab7b1ef0d3027bcc9d7",
              "IPY_MODEL_6c7eda05f5c54131b51658400c212284"
            ],
            "layout": "IPY_MODEL_96634f842772411184cfa03a578bc900"
          }
        },
        "4fd93085318449b7ba6e87a861220c99": {
          "model_module": "@jupyter-widgets/controls",
          "model_name": "HTMLModel",
          "model_module_version": "1.5.0",
          "state": {
            "_dom_classes": [],
            "_model_module": "@jupyter-widgets/controls",
            "_model_module_version": "1.5.0",
            "_model_name": "HTMLModel",
            "_view_count": null,
            "_view_module": "@jupyter-widgets/controls",
            "_view_module_version": "1.5.0",
            "_view_name": "HTMLView",
            "description": "",
            "description_tooltip": null,
            "layout": "IPY_MODEL_f84fc9f4649a4044a0847cf88cf98e86",
            "placeholder": "​",
            "style": "IPY_MODEL_1111a563129349208af9fbf531ba3394",
            "value": "100%"
          }
        },
        "e7caf12b18184ab7b1ef0d3027bcc9d7": {
          "model_module": "@jupyter-widgets/controls",
          "model_name": "FloatProgressModel",
          "model_module_version": "1.5.0",
          "state": {
            "_dom_classes": [],
            "_model_module": "@jupyter-widgets/controls",
            "_model_module_version": "1.5.0",
            "_model_name": "FloatProgressModel",
            "_view_count": null,
            "_view_module": "@jupyter-widgets/controls",
            "_view_module_version": "1.5.0",
            "_view_name": "ProgressView",
            "bar_style": "success",
            "description": "",
            "description_tooltip": null,
            "layout": "IPY_MODEL_42d6f0ee34ce424d9e3a997f7831ae23",
            "max": 10,
            "min": 0,
            "orientation": "horizontal",
            "style": "IPY_MODEL_7f85d8b66ac14ddd8db5c0b9a172d549",
            "value": 10
          }
        },
        "6c7eda05f5c54131b51658400c212284": {
          "model_module": "@jupyter-widgets/controls",
          "model_name": "HTMLModel",
          "model_module_version": "1.5.0",
          "state": {
            "_dom_classes": [],
            "_model_module": "@jupyter-widgets/controls",
            "_model_module_version": "1.5.0",
            "_model_name": "HTMLModel",
            "_view_count": null,
            "_view_module": "@jupyter-widgets/controls",
            "_view_module_version": "1.5.0",
            "_view_name": "HTMLView",
            "description": "",
            "description_tooltip": null,
            "layout": "IPY_MODEL_4adee7fe88b141b68035e7ef8eaec8dc",
            "placeholder": "​",
            "style": "IPY_MODEL_18b361cbe841415c889df8cc204f6490",
            "value": " 10/10 [00:29&lt;00:00,  3.18s/it]"
          }
        },
        "96634f842772411184cfa03a578bc900": {
          "model_module": "@jupyter-widgets/base",
          "model_name": "LayoutModel",
          "model_module_version": "1.2.0",
          "state": {
            "_model_module": "@jupyter-widgets/base",
            "_model_module_version": "1.2.0",
            "_model_name": "LayoutModel",
            "_view_count": null,
            "_view_module": "@jupyter-widgets/base",
            "_view_module_version": "1.2.0",
            "_view_name": "LayoutView",
            "align_content": null,
            "align_items": null,
            "align_self": null,
            "border": null,
            "bottom": null,
            "display": null,
            "flex": null,
            "flex_flow": null,
            "grid_area": null,
            "grid_auto_columns": null,
            "grid_auto_flow": null,
            "grid_auto_rows": null,
            "grid_column": null,
            "grid_gap": null,
            "grid_row": null,
            "grid_template_areas": null,
            "grid_template_columns": null,
            "grid_template_rows": null,
            "height": null,
            "justify_content": null,
            "justify_items": null,
            "left": null,
            "margin": null,
            "max_height": null,
            "max_width": null,
            "min_height": null,
            "min_width": null,
            "object_fit": null,
            "object_position": null,
            "order": null,
            "overflow": null,
            "overflow_x": null,
            "overflow_y": null,
            "padding": null,
            "right": null,
            "top": null,
            "visibility": null,
            "width": null
          }
        },
        "f84fc9f4649a4044a0847cf88cf98e86": {
          "model_module": "@jupyter-widgets/base",
          "model_name": "LayoutModel",
          "model_module_version": "1.2.0",
          "state": {
            "_model_module": "@jupyter-widgets/base",
            "_model_module_version": "1.2.0",
            "_model_name": "LayoutModel",
            "_view_count": null,
            "_view_module": "@jupyter-widgets/base",
            "_view_module_version": "1.2.0",
            "_view_name": "LayoutView",
            "align_content": null,
            "align_items": null,
            "align_self": null,
            "border": null,
            "bottom": null,
            "display": null,
            "flex": null,
            "flex_flow": null,
            "grid_area": null,
            "grid_auto_columns": null,
            "grid_auto_flow": null,
            "grid_auto_rows": null,
            "grid_column": null,
            "grid_gap": null,
            "grid_row": null,
            "grid_template_areas": null,
            "grid_template_columns": null,
            "grid_template_rows": null,
            "height": null,
            "justify_content": null,
            "justify_items": null,
            "left": null,
            "margin": null,
            "max_height": null,
            "max_width": null,
            "min_height": null,
            "min_width": null,
            "object_fit": null,
            "object_position": null,
            "order": null,
            "overflow": null,
            "overflow_x": null,
            "overflow_y": null,
            "padding": null,
            "right": null,
            "top": null,
            "visibility": null,
            "width": null
          }
        },
        "1111a563129349208af9fbf531ba3394": {
          "model_module": "@jupyter-widgets/controls",
          "model_name": "DescriptionStyleModel",
          "model_module_version": "1.5.0",
          "state": {
            "_model_module": "@jupyter-widgets/controls",
            "_model_module_version": "1.5.0",
            "_model_name": "DescriptionStyleModel",
            "_view_count": null,
            "_view_module": "@jupyter-widgets/base",
            "_view_module_version": "1.2.0",
            "_view_name": "StyleView",
            "description_width": ""
          }
        },
        "42d6f0ee34ce424d9e3a997f7831ae23": {
          "model_module": "@jupyter-widgets/base",
          "model_name": "LayoutModel",
          "model_module_version": "1.2.0",
          "state": {
            "_model_module": "@jupyter-widgets/base",
            "_model_module_version": "1.2.0",
            "_model_name": "LayoutModel",
            "_view_count": null,
            "_view_module": "@jupyter-widgets/base",
            "_view_module_version": "1.2.0",
            "_view_name": "LayoutView",
            "align_content": null,
            "align_items": null,
            "align_self": null,
            "border": null,
            "bottom": null,
            "display": null,
            "flex": null,
            "flex_flow": null,
            "grid_area": null,
            "grid_auto_columns": null,
            "grid_auto_flow": null,
            "grid_auto_rows": null,
            "grid_column": null,
            "grid_gap": null,
            "grid_row": null,
            "grid_template_areas": null,
            "grid_template_columns": null,
            "grid_template_rows": null,
            "height": null,
            "justify_content": null,
            "justify_items": null,
            "left": null,
            "margin": null,
            "max_height": null,
            "max_width": null,
            "min_height": null,
            "min_width": null,
            "object_fit": null,
            "object_position": null,
            "order": null,
            "overflow": null,
            "overflow_x": null,
            "overflow_y": null,
            "padding": null,
            "right": null,
            "top": null,
            "visibility": null,
            "width": null
          }
        },
        "7f85d8b66ac14ddd8db5c0b9a172d549": {
          "model_module": "@jupyter-widgets/controls",
          "model_name": "ProgressStyleModel",
          "model_module_version": "1.5.0",
          "state": {
            "_model_module": "@jupyter-widgets/controls",
            "_model_module_version": "1.5.0",
            "_model_name": "ProgressStyleModel",
            "_view_count": null,
            "_view_module": "@jupyter-widgets/base",
            "_view_module_version": "1.2.0",
            "_view_name": "StyleView",
            "bar_color": null,
            "description_width": ""
          }
        },
        "4adee7fe88b141b68035e7ef8eaec8dc": {
          "model_module": "@jupyter-widgets/base",
          "model_name": "LayoutModel",
          "model_module_version": "1.2.0",
          "state": {
            "_model_module": "@jupyter-widgets/base",
            "_model_module_version": "1.2.0",
            "_model_name": "LayoutModel",
            "_view_count": null,
            "_view_module": "@jupyter-widgets/base",
            "_view_module_version": "1.2.0",
            "_view_name": "LayoutView",
            "align_content": null,
            "align_items": null,
            "align_self": null,
            "border": null,
            "bottom": null,
            "display": null,
            "flex": null,
            "flex_flow": null,
            "grid_area": null,
            "grid_auto_columns": null,
            "grid_auto_flow": null,
            "grid_auto_rows": null,
            "grid_column": null,
            "grid_gap": null,
            "grid_row": null,
            "grid_template_areas": null,
            "grid_template_columns": null,
            "grid_template_rows": null,
            "height": null,
            "justify_content": null,
            "justify_items": null,
            "left": null,
            "margin": null,
            "max_height": null,
            "max_width": null,
            "min_height": null,
            "min_width": null,
            "object_fit": null,
            "object_position": null,
            "order": null,
            "overflow": null,
            "overflow_x": null,
            "overflow_y": null,
            "padding": null,
            "right": null,
            "top": null,
            "visibility": null,
            "width": null
          }
        },
        "18b361cbe841415c889df8cc204f6490": {
          "model_module": "@jupyter-widgets/controls",
          "model_name": "DescriptionStyleModel",
          "model_module_version": "1.5.0",
          "state": {
            "_model_module": "@jupyter-widgets/controls",
            "_model_module_version": "1.5.0",
            "_model_name": "DescriptionStyleModel",
            "_view_count": null,
            "_view_module": "@jupyter-widgets/base",
            "_view_module_version": "1.2.0",
            "_view_name": "StyleView",
            "description_width": ""
          }
        },
        "f3926859378244219c50349bf1ad7133": {
          "model_module": "@jupyter-widgets/controls",
          "model_name": "HBoxModel",
          "model_module_version": "1.5.0",
          "state": {
            "_dom_classes": [],
            "_model_module": "@jupyter-widgets/controls",
            "_model_module_version": "1.5.0",
            "_model_name": "HBoxModel",
            "_view_count": null,
            "_view_module": "@jupyter-widgets/controls",
            "_view_module_version": "1.5.0",
            "_view_name": "HBoxView",
            "box_style": "",
            "children": [
              "IPY_MODEL_cacbc89ecc0848619d800a2149eb24ce",
              "IPY_MODEL_eeff25fd0cdc4f5b9beb7ea5f7d36365",
              "IPY_MODEL_ab9c4adb4c0442ee829a3e8a7b10bc40"
            ],
            "layout": "IPY_MODEL_8e1b25fcaec94196800dfc72328e4dbc"
          }
        },
        "cacbc89ecc0848619d800a2149eb24ce": {
          "model_module": "@jupyter-widgets/controls",
          "model_name": "HTMLModel",
          "model_module_version": "1.5.0",
          "state": {
            "_dom_classes": [],
            "_model_module": "@jupyter-widgets/controls",
            "_model_module_version": "1.5.0",
            "_model_name": "HTMLModel",
            "_view_count": null,
            "_view_module": "@jupyter-widgets/controls",
            "_view_module_version": "1.5.0",
            "_view_name": "HTMLView",
            "description": "",
            "description_tooltip": null,
            "layout": "IPY_MODEL_3dc36bf38ac54ffa9f3df3b39c4895fb",
            "placeholder": "​",
            "style": "IPY_MODEL_43911fa9ee7a4fcf920cb8f0467d37a7",
            "value": "100%"
          }
        },
        "eeff25fd0cdc4f5b9beb7ea5f7d36365": {
          "model_module": "@jupyter-widgets/controls",
          "model_name": "FloatProgressModel",
          "model_module_version": "1.5.0",
          "state": {
            "_dom_classes": [],
            "_model_module": "@jupyter-widgets/controls",
            "_model_module_version": "1.5.0",
            "_model_name": "FloatProgressModel",
            "_view_count": null,
            "_view_module": "@jupyter-widgets/controls",
            "_view_module_version": "1.5.0",
            "_view_name": "ProgressView",
            "bar_style": "success",
            "description": "",
            "description_tooltip": null,
            "layout": "IPY_MODEL_30ded58dee0c44d3ac8aae215a950d6a",
            "max": 10,
            "min": 0,
            "orientation": "horizontal",
            "style": "IPY_MODEL_776d82081d1541d88efa352ce1a87a3d",
            "value": 10
          }
        },
        "ab9c4adb4c0442ee829a3e8a7b10bc40": {
          "model_module": "@jupyter-widgets/controls",
          "model_name": "HTMLModel",
          "model_module_version": "1.5.0",
          "state": {
            "_dom_classes": [],
            "_model_module": "@jupyter-widgets/controls",
            "_model_module_version": "1.5.0",
            "_model_name": "HTMLModel",
            "_view_count": null,
            "_view_module": "@jupyter-widgets/controls",
            "_view_module_version": "1.5.0",
            "_view_name": "HTMLView",
            "description": "",
            "description_tooltip": null,
            "layout": "IPY_MODEL_4844a3415a5c4211bcbabb79d0544bc9",
            "placeholder": "​",
            "style": "IPY_MODEL_6d9b31b5909449e1adc086aaa055b2cd",
            "value": " 10/10 [00:27&lt;00:00,  2.43s/it]"
          }
        },
        "8e1b25fcaec94196800dfc72328e4dbc": {
          "model_module": "@jupyter-widgets/base",
          "model_name": "LayoutModel",
          "model_module_version": "1.2.0",
          "state": {
            "_model_module": "@jupyter-widgets/base",
            "_model_module_version": "1.2.0",
            "_model_name": "LayoutModel",
            "_view_count": null,
            "_view_module": "@jupyter-widgets/base",
            "_view_module_version": "1.2.0",
            "_view_name": "LayoutView",
            "align_content": null,
            "align_items": null,
            "align_self": null,
            "border": null,
            "bottom": null,
            "display": null,
            "flex": null,
            "flex_flow": null,
            "grid_area": null,
            "grid_auto_columns": null,
            "grid_auto_flow": null,
            "grid_auto_rows": null,
            "grid_column": null,
            "grid_gap": null,
            "grid_row": null,
            "grid_template_areas": null,
            "grid_template_columns": null,
            "grid_template_rows": null,
            "height": null,
            "justify_content": null,
            "justify_items": null,
            "left": null,
            "margin": null,
            "max_height": null,
            "max_width": null,
            "min_height": null,
            "min_width": null,
            "object_fit": null,
            "object_position": null,
            "order": null,
            "overflow": null,
            "overflow_x": null,
            "overflow_y": null,
            "padding": null,
            "right": null,
            "top": null,
            "visibility": null,
            "width": null
          }
        },
        "3dc36bf38ac54ffa9f3df3b39c4895fb": {
          "model_module": "@jupyter-widgets/base",
          "model_name": "LayoutModel",
          "model_module_version": "1.2.0",
          "state": {
            "_model_module": "@jupyter-widgets/base",
            "_model_module_version": "1.2.0",
            "_model_name": "LayoutModel",
            "_view_count": null,
            "_view_module": "@jupyter-widgets/base",
            "_view_module_version": "1.2.0",
            "_view_name": "LayoutView",
            "align_content": null,
            "align_items": null,
            "align_self": null,
            "border": null,
            "bottom": null,
            "display": null,
            "flex": null,
            "flex_flow": null,
            "grid_area": null,
            "grid_auto_columns": null,
            "grid_auto_flow": null,
            "grid_auto_rows": null,
            "grid_column": null,
            "grid_gap": null,
            "grid_row": null,
            "grid_template_areas": null,
            "grid_template_columns": null,
            "grid_template_rows": null,
            "height": null,
            "justify_content": null,
            "justify_items": null,
            "left": null,
            "margin": null,
            "max_height": null,
            "max_width": null,
            "min_height": null,
            "min_width": null,
            "object_fit": null,
            "object_position": null,
            "order": null,
            "overflow": null,
            "overflow_x": null,
            "overflow_y": null,
            "padding": null,
            "right": null,
            "top": null,
            "visibility": null,
            "width": null
          }
        },
        "43911fa9ee7a4fcf920cb8f0467d37a7": {
          "model_module": "@jupyter-widgets/controls",
          "model_name": "DescriptionStyleModel",
          "model_module_version": "1.5.0",
          "state": {
            "_model_module": "@jupyter-widgets/controls",
            "_model_module_version": "1.5.0",
            "_model_name": "DescriptionStyleModel",
            "_view_count": null,
            "_view_module": "@jupyter-widgets/base",
            "_view_module_version": "1.2.0",
            "_view_name": "StyleView",
            "description_width": ""
          }
        },
        "30ded58dee0c44d3ac8aae215a950d6a": {
          "model_module": "@jupyter-widgets/base",
          "model_name": "LayoutModel",
          "model_module_version": "1.2.0",
          "state": {
            "_model_module": "@jupyter-widgets/base",
            "_model_module_version": "1.2.0",
            "_model_name": "LayoutModel",
            "_view_count": null,
            "_view_module": "@jupyter-widgets/base",
            "_view_module_version": "1.2.0",
            "_view_name": "LayoutView",
            "align_content": null,
            "align_items": null,
            "align_self": null,
            "border": null,
            "bottom": null,
            "display": null,
            "flex": null,
            "flex_flow": null,
            "grid_area": null,
            "grid_auto_columns": null,
            "grid_auto_flow": null,
            "grid_auto_rows": null,
            "grid_column": null,
            "grid_gap": null,
            "grid_row": null,
            "grid_template_areas": null,
            "grid_template_columns": null,
            "grid_template_rows": null,
            "height": null,
            "justify_content": null,
            "justify_items": null,
            "left": null,
            "margin": null,
            "max_height": null,
            "max_width": null,
            "min_height": null,
            "min_width": null,
            "object_fit": null,
            "object_position": null,
            "order": null,
            "overflow": null,
            "overflow_x": null,
            "overflow_y": null,
            "padding": null,
            "right": null,
            "top": null,
            "visibility": null,
            "width": null
          }
        },
        "776d82081d1541d88efa352ce1a87a3d": {
          "model_module": "@jupyter-widgets/controls",
          "model_name": "ProgressStyleModel",
          "model_module_version": "1.5.0",
          "state": {
            "_model_module": "@jupyter-widgets/controls",
            "_model_module_version": "1.5.0",
            "_model_name": "ProgressStyleModel",
            "_view_count": null,
            "_view_module": "@jupyter-widgets/base",
            "_view_module_version": "1.2.0",
            "_view_name": "StyleView",
            "bar_color": null,
            "description_width": ""
          }
        },
        "4844a3415a5c4211bcbabb79d0544bc9": {
          "model_module": "@jupyter-widgets/base",
          "model_name": "LayoutModel",
          "model_module_version": "1.2.0",
          "state": {
            "_model_module": "@jupyter-widgets/base",
            "_model_module_version": "1.2.0",
            "_model_name": "LayoutModel",
            "_view_count": null,
            "_view_module": "@jupyter-widgets/base",
            "_view_module_version": "1.2.0",
            "_view_name": "LayoutView",
            "align_content": null,
            "align_items": null,
            "align_self": null,
            "border": null,
            "bottom": null,
            "display": null,
            "flex": null,
            "flex_flow": null,
            "grid_area": null,
            "grid_auto_columns": null,
            "grid_auto_flow": null,
            "grid_auto_rows": null,
            "grid_column": null,
            "grid_gap": null,
            "grid_row": null,
            "grid_template_areas": null,
            "grid_template_columns": null,
            "grid_template_rows": null,
            "height": null,
            "justify_content": null,
            "justify_items": null,
            "left": null,
            "margin": null,
            "max_height": null,
            "max_width": null,
            "min_height": null,
            "min_width": null,
            "object_fit": null,
            "object_position": null,
            "order": null,
            "overflow": null,
            "overflow_x": null,
            "overflow_y": null,
            "padding": null,
            "right": null,
            "top": null,
            "visibility": null,
            "width": null
          }
        },
        "6d9b31b5909449e1adc086aaa055b2cd": {
          "model_module": "@jupyter-widgets/controls",
          "model_name": "DescriptionStyleModel",
          "model_module_version": "1.5.0",
          "state": {
            "_model_module": "@jupyter-widgets/controls",
            "_model_module_version": "1.5.0",
            "_model_name": "DescriptionStyleModel",
            "_view_count": null,
            "_view_module": "@jupyter-widgets/base",
            "_view_module_version": "1.2.0",
            "_view_name": "StyleView",
            "description_width": ""
          }
        },
        "f088137586d14b4ebd829e8e7efc99ee": {
          "model_module": "@jupyter-widgets/controls",
          "model_name": "HBoxModel",
          "model_module_version": "1.5.0",
          "state": {
            "_dom_classes": [],
            "_model_module": "@jupyter-widgets/controls",
            "_model_module_version": "1.5.0",
            "_model_name": "HBoxModel",
            "_view_count": null,
            "_view_module": "@jupyter-widgets/controls",
            "_view_module_version": "1.5.0",
            "_view_name": "HBoxView",
            "box_style": "",
            "children": [
              "IPY_MODEL_c3082105888e4dcbae5033ece6a3fd10",
              "IPY_MODEL_3b32a70f7df14438b6890447ee27e17a",
              "IPY_MODEL_932fc110a2f843469221bc7ae4f30b30"
            ],
            "layout": "IPY_MODEL_1bdbebf11c064da0b5e5e58c962bad74"
          }
        },
        "c3082105888e4dcbae5033ece6a3fd10": {
          "model_module": "@jupyter-widgets/controls",
          "model_name": "HTMLModel",
          "model_module_version": "1.5.0",
          "state": {
            "_dom_classes": [],
            "_model_module": "@jupyter-widgets/controls",
            "_model_module_version": "1.5.0",
            "_model_name": "HTMLModel",
            "_view_count": null,
            "_view_module": "@jupyter-widgets/controls",
            "_view_module_version": "1.5.0",
            "_view_name": "HTMLView",
            "description": "",
            "description_tooltip": null,
            "layout": "IPY_MODEL_a1dc6f4136ac4896a8ff1222c5be6960",
            "placeholder": "​",
            "style": "IPY_MODEL_cf21966359b144f9ad3dd3b27764b634",
            "value": "100%"
          }
        },
        "3b32a70f7df14438b6890447ee27e17a": {
          "model_module": "@jupyter-widgets/controls",
          "model_name": "FloatProgressModel",
          "model_module_version": "1.5.0",
          "state": {
            "_dom_classes": [],
            "_model_module": "@jupyter-widgets/controls",
            "_model_module_version": "1.5.0",
            "_model_name": "FloatProgressModel",
            "_view_count": null,
            "_view_module": "@jupyter-widgets/controls",
            "_view_module_version": "1.5.0",
            "_view_name": "ProgressView",
            "bar_style": "success",
            "description": "",
            "description_tooltip": null,
            "layout": "IPY_MODEL_9a2fedc3b9fe450281467b65613db51b",
            "max": 10,
            "min": 0,
            "orientation": "horizontal",
            "style": "IPY_MODEL_e61bb255ae15466ba989f7f9d2d00292",
            "value": 10
          }
        },
        "932fc110a2f843469221bc7ae4f30b30": {
          "model_module": "@jupyter-widgets/controls",
          "model_name": "HTMLModel",
          "model_module_version": "1.5.0",
          "state": {
            "_dom_classes": [],
            "_model_module": "@jupyter-widgets/controls",
            "_model_module_version": "1.5.0",
            "_model_name": "HTMLModel",
            "_view_count": null,
            "_view_module": "@jupyter-widgets/controls",
            "_view_module_version": "1.5.0",
            "_view_name": "HTMLView",
            "description": "",
            "description_tooltip": null,
            "layout": "IPY_MODEL_b959a387b2b044e698ede2899c3b9f67",
            "placeholder": "​",
            "style": "IPY_MODEL_377c3e8907f94f2b8a255df928006794",
            "value": " 10/10 [00:20&lt;00:00,  2.00s/it]"
          }
        },
        "1bdbebf11c064da0b5e5e58c962bad74": {
          "model_module": "@jupyter-widgets/base",
          "model_name": "LayoutModel",
          "model_module_version": "1.2.0",
          "state": {
            "_model_module": "@jupyter-widgets/base",
            "_model_module_version": "1.2.0",
            "_model_name": "LayoutModel",
            "_view_count": null,
            "_view_module": "@jupyter-widgets/base",
            "_view_module_version": "1.2.0",
            "_view_name": "LayoutView",
            "align_content": null,
            "align_items": null,
            "align_self": null,
            "border": null,
            "bottom": null,
            "display": null,
            "flex": null,
            "flex_flow": null,
            "grid_area": null,
            "grid_auto_columns": null,
            "grid_auto_flow": null,
            "grid_auto_rows": null,
            "grid_column": null,
            "grid_gap": null,
            "grid_row": null,
            "grid_template_areas": null,
            "grid_template_columns": null,
            "grid_template_rows": null,
            "height": null,
            "justify_content": null,
            "justify_items": null,
            "left": null,
            "margin": null,
            "max_height": null,
            "max_width": null,
            "min_height": null,
            "min_width": null,
            "object_fit": null,
            "object_position": null,
            "order": null,
            "overflow": null,
            "overflow_x": null,
            "overflow_y": null,
            "padding": null,
            "right": null,
            "top": null,
            "visibility": null,
            "width": null
          }
        },
        "a1dc6f4136ac4896a8ff1222c5be6960": {
          "model_module": "@jupyter-widgets/base",
          "model_name": "LayoutModel",
          "model_module_version": "1.2.0",
          "state": {
            "_model_module": "@jupyter-widgets/base",
            "_model_module_version": "1.2.0",
            "_model_name": "LayoutModel",
            "_view_count": null,
            "_view_module": "@jupyter-widgets/base",
            "_view_module_version": "1.2.0",
            "_view_name": "LayoutView",
            "align_content": null,
            "align_items": null,
            "align_self": null,
            "border": null,
            "bottom": null,
            "display": null,
            "flex": null,
            "flex_flow": null,
            "grid_area": null,
            "grid_auto_columns": null,
            "grid_auto_flow": null,
            "grid_auto_rows": null,
            "grid_column": null,
            "grid_gap": null,
            "grid_row": null,
            "grid_template_areas": null,
            "grid_template_columns": null,
            "grid_template_rows": null,
            "height": null,
            "justify_content": null,
            "justify_items": null,
            "left": null,
            "margin": null,
            "max_height": null,
            "max_width": null,
            "min_height": null,
            "min_width": null,
            "object_fit": null,
            "object_position": null,
            "order": null,
            "overflow": null,
            "overflow_x": null,
            "overflow_y": null,
            "padding": null,
            "right": null,
            "top": null,
            "visibility": null,
            "width": null
          }
        },
        "cf21966359b144f9ad3dd3b27764b634": {
          "model_module": "@jupyter-widgets/controls",
          "model_name": "DescriptionStyleModel",
          "model_module_version": "1.5.0",
          "state": {
            "_model_module": "@jupyter-widgets/controls",
            "_model_module_version": "1.5.0",
            "_model_name": "DescriptionStyleModel",
            "_view_count": null,
            "_view_module": "@jupyter-widgets/base",
            "_view_module_version": "1.2.0",
            "_view_name": "StyleView",
            "description_width": ""
          }
        },
        "9a2fedc3b9fe450281467b65613db51b": {
          "model_module": "@jupyter-widgets/base",
          "model_name": "LayoutModel",
          "model_module_version": "1.2.0",
          "state": {
            "_model_module": "@jupyter-widgets/base",
            "_model_module_version": "1.2.0",
            "_model_name": "LayoutModel",
            "_view_count": null,
            "_view_module": "@jupyter-widgets/base",
            "_view_module_version": "1.2.0",
            "_view_name": "LayoutView",
            "align_content": null,
            "align_items": null,
            "align_self": null,
            "border": null,
            "bottom": null,
            "display": null,
            "flex": null,
            "flex_flow": null,
            "grid_area": null,
            "grid_auto_columns": null,
            "grid_auto_flow": null,
            "grid_auto_rows": null,
            "grid_column": null,
            "grid_gap": null,
            "grid_row": null,
            "grid_template_areas": null,
            "grid_template_columns": null,
            "grid_template_rows": null,
            "height": null,
            "justify_content": null,
            "justify_items": null,
            "left": null,
            "margin": null,
            "max_height": null,
            "max_width": null,
            "min_height": null,
            "min_width": null,
            "object_fit": null,
            "object_position": null,
            "order": null,
            "overflow": null,
            "overflow_x": null,
            "overflow_y": null,
            "padding": null,
            "right": null,
            "top": null,
            "visibility": null,
            "width": null
          }
        },
        "e61bb255ae15466ba989f7f9d2d00292": {
          "model_module": "@jupyter-widgets/controls",
          "model_name": "ProgressStyleModel",
          "model_module_version": "1.5.0",
          "state": {
            "_model_module": "@jupyter-widgets/controls",
            "_model_module_version": "1.5.0",
            "_model_name": "ProgressStyleModel",
            "_view_count": null,
            "_view_module": "@jupyter-widgets/base",
            "_view_module_version": "1.2.0",
            "_view_name": "StyleView",
            "bar_color": null,
            "description_width": ""
          }
        },
        "b959a387b2b044e698ede2899c3b9f67": {
          "model_module": "@jupyter-widgets/base",
          "model_name": "LayoutModel",
          "model_module_version": "1.2.0",
          "state": {
            "_model_module": "@jupyter-widgets/base",
            "_model_module_version": "1.2.0",
            "_model_name": "LayoutModel",
            "_view_count": null,
            "_view_module": "@jupyter-widgets/base",
            "_view_module_version": "1.2.0",
            "_view_name": "LayoutView",
            "align_content": null,
            "align_items": null,
            "align_self": null,
            "border": null,
            "bottom": null,
            "display": null,
            "flex": null,
            "flex_flow": null,
            "grid_area": null,
            "grid_auto_columns": null,
            "grid_auto_flow": null,
            "grid_auto_rows": null,
            "grid_column": null,
            "grid_gap": null,
            "grid_row": null,
            "grid_template_areas": null,
            "grid_template_columns": null,
            "grid_template_rows": null,
            "height": null,
            "justify_content": null,
            "justify_items": null,
            "left": null,
            "margin": null,
            "max_height": null,
            "max_width": null,
            "min_height": null,
            "min_width": null,
            "object_fit": null,
            "object_position": null,
            "order": null,
            "overflow": null,
            "overflow_x": null,
            "overflow_y": null,
            "padding": null,
            "right": null,
            "top": null,
            "visibility": null,
            "width": null
          }
        },
        "377c3e8907f94f2b8a255df928006794": {
          "model_module": "@jupyter-widgets/controls",
          "model_name": "DescriptionStyleModel",
          "model_module_version": "1.5.0",
          "state": {
            "_model_module": "@jupyter-widgets/controls",
            "_model_module_version": "1.5.0",
            "_model_name": "DescriptionStyleModel",
            "_view_count": null,
            "_view_module": "@jupyter-widgets/base",
            "_view_module_version": "1.2.0",
            "_view_name": "StyleView",
            "description_width": ""
          }
        },
        "36aec0cf88514a41b49b9d1569abbc00": {
          "model_module": "@jupyter-widgets/controls",
          "model_name": "HBoxModel",
          "model_module_version": "1.5.0",
          "state": {
            "_dom_classes": [],
            "_model_module": "@jupyter-widgets/controls",
            "_model_module_version": "1.5.0",
            "_model_name": "HBoxModel",
            "_view_count": null,
            "_view_module": "@jupyter-widgets/controls",
            "_view_module_version": "1.5.0",
            "_view_name": "HBoxView",
            "box_style": "",
            "children": [
              "IPY_MODEL_6c6e933be9fe40d4ae717417eb49c90e",
              "IPY_MODEL_879ff94b6a13486d83298c46618b1a86",
              "IPY_MODEL_f27e2d65e12f4ea9a058f323ed398b4b"
            ],
            "layout": "IPY_MODEL_527e053881444a1aa4cdf45a88a80496"
          }
        },
        "6c6e933be9fe40d4ae717417eb49c90e": {
          "model_module": "@jupyter-widgets/controls",
          "model_name": "HTMLModel",
          "model_module_version": "1.5.0",
          "state": {
            "_dom_classes": [],
            "_model_module": "@jupyter-widgets/controls",
            "_model_module_version": "1.5.0",
            "_model_name": "HTMLModel",
            "_view_count": null,
            "_view_module": "@jupyter-widgets/controls",
            "_view_module_version": "1.5.0",
            "_view_name": "HTMLView",
            "description": "",
            "description_tooltip": null,
            "layout": "IPY_MODEL_222af83792ed4230a113f262d84f154b",
            "placeholder": "​",
            "style": "IPY_MODEL_9a7248d3e1414117986d794fc7e6650e",
            "value": "100%"
          }
        },
        "879ff94b6a13486d83298c46618b1a86": {
          "model_module": "@jupyter-widgets/controls",
          "model_name": "FloatProgressModel",
          "model_module_version": "1.5.0",
          "state": {
            "_dom_classes": [],
            "_model_module": "@jupyter-widgets/controls",
            "_model_module_version": "1.5.0",
            "_model_name": "FloatProgressModel",
            "_view_count": null,
            "_view_module": "@jupyter-widgets/controls",
            "_view_module_version": "1.5.0",
            "_view_name": "ProgressView",
            "bar_style": "success",
            "description": "",
            "description_tooltip": null,
            "layout": "IPY_MODEL_8dfd9d2721e84522a0935eba618ad5a5",
            "max": 10,
            "min": 0,
            "orientation": "horizontal",
            "style": "IPY_MODEL_dbd6e16efe224ecfa1d3a7f062f3c164",
            "value": 10
          }
        },
        "f27e2d65e12f4ea9a058f323ed398b4b": {
          "model_module": "@jupyter-widgets/controls",
          "model_name": "HTMLModel",
          "model_module_version": "1.5.0",
          "state": {
            "_dom_classes": [],
            "_model_module": "@jupyter-widgets/controls",
            "_model_module_version": "1.5.0",
            "_model_name": "HTMLModel",
            "_view_count": null,
            "_view_module": "@jupyter-widgets/controls",
            "_view_module_version": "1.5.0",
            "_view_name": "HTMLView",
            "description": "",
            "description_tooltip": null,
            "layout": "IPY_MODEL_4b5e9de4114b4ce4b49204fb9fb11b02",
            "placeholder": "​",
            "style": "IPY_MODEL_65ac0b4c3d7a4aaca913a3a9d28e07f2",
            "value": " 10/10 [00:21&lt;00:00,  2.27s/it]"
          }
        },
        "527e053881444a1aa4cdf45a88a80496": {
          "model_module": "@jupyter-widgets/base",
          "model_name": "LayoutModel",
          "model_module_version": "1.2.0",
          "state": {
            "_model_module": "@jupyter-widgets/base",
            "_model_module_version": "1.2.0",
            "_model_name": "LayoutModel",
            "_view_count": null,
            "_view_module": "@jupyter-widgets/base",
            "_view_module_version": "1.2.0",
            "_view_name": "LayoutView",
            "align_content": null,
            "align_items": null,
            "align_self": null,
            "border": null,
            "bottom": null,
            "display": null,
            "flex": null,
            "flex_flow": null,
            "grid_area": null,
            "grid_auto_columns": null,
            "grid_auto_flow": null,
            "grid_auto_rows": null,
            "grid_column": null,
            "grid_gap": null,
            "grid_row": null,
            "grid_template_areas": null,
            "grid_template_columns": null,
            "grid_template_rows": null,
            "height": null,
            "justify_content": null,
            "justify_items": null,
            "left": null,
            "margin": null,
            "max_height": null,
            "max_width": null,
            "min_height": null,
            "min_width": null,
            "object_fit": null,
            "object_position": null,
            "order": null,
            "overflow": null,
            "overflow_x": null,
            "overflow_y": null,
            "padding": null,
            "right": null,
            "top": null,
            "visibility": null,
            "width": null
          }
        },
        "222af83792ed4230a113f262d84f154b": {
          "model_module": "@jupyter-widgets/base",
          "model_name": "LayoutModel",
          "model_module_version": "1.2.0",
          "state": {
            "_model_module": "@jupyter-widgets/base",
            "_model_module_version": "1.2.0",
            "_model_name": "LayoutModel",
            "_view_count": null,
            "_view_module": "@jupyter-widgets/base",
            "_view_module_version": "1.2.0",
            "_view_name": "LayoutView",
            "align_content": null,
            "align_items": null,
            "align_self": null,
            "border": null,
            "bottom": null,
            "display": null,
            "flex": null,
            "flex_flow": null,
            "grid_area": null,
            "grid_auto_columns": null,
            "grid_auto_flow": null,
            "grid_auto_rows": null,
            "grid_column": null,
            "grid_gap": null,
            "grid_row": null,
            "grid_template_areas": null,
            "grid_template_columns": null,
            "grid_template_rows": null,
            "height": null,
            "justify_content": null,
            "justify_items": null,
            "left": null,
            "margin": null,
            "max_height": null,
            "max_width": null,
            "min_height": null,
            "min_width": null,
            "object_fit": null,
            "object_position": null,
            "order": null,
            "overflow": null,
            "overflow_x": null,
            "overflow_y": null,
            "padding": null,
            "right": null,
            "top": null,
            "visibility": null,
            "width": null
          }
        },
        "9a7248d3e1414117986d794fc7e6650e": {
          "model_module": "@jupyter-widgets/controls",
          "model_name": "DescriptionStyleModel",
          "model_module_version": "1.5.0",
          "state": {
            "_model_module": "@jupyter-widgets/controls",
            "_model_module_version": "1.5.0",
            "_model_name": "DescriptionStyleModel",
            "_view_count": null,
            "_view_module": "@jupyter-widgets/base",
            "_view_module_version": "1.2.0",
            "_view_name": "StyleView",
            "description_width": ""
          }
        },
        "8dfd9d2721e84522a0935eba618ad5a5": {
          "model_module": "@jupyter-widgets/base",
          "model_name": "LayoutModel",
          "model_module_version": "1.2.0",
          "state": {
            "_model_module": "@jupyter-widgets/base",
            "_model_module_version": "1.2.0",
            "_model_name": "LayoutModel",
            "_view_count": null,
            "_view_module": "@jupyter-widgets/base",
            "_view_module_version": "1.2.0",
            "_view_name": "LayoutView",
            "align_content": null,
            "align_items": null,
            "align_self": null,
            "border": null,
            "bottom": null,
            "display": null,
            "flex": null,
            "flex_flow": null,
            "grid_area": null,
            "grid_auto_columns": null,
            "grid_auto_flow": null,
            "grid_auto_rows": null,
            "grid_column": null,
            "grid_gap": null,
            "grid_row": null,
            "grid_template_areas": null,
            "grid_template_columns": null,
            "grid_template_rows": null,
            "height": null,
            "justify_content": null,
            "justify_items": null,
            "left": null,
            "margin": null,
            "max_height": null,
            "max_width": null,
            "min_height": null,
            "min_width": null,
            "object_fit": null,
            "object_position": null,
            "order": null,
            "overflow": null,
            "overflow_x": null,
            "overflow_y": null,
            "padding": null,
            "right": null,
            "top": null,
            "visibility": null,
            "width": null
          }
        },
        "dbd6e16efe224ecfa1d3a7f062f3c164": {
          "model_module": "@jupyter-widgets/controls",
          "model_name": "ProgressStyleModel",
          "model_module_version": "1.5.0",
          "state": {
            "_model_module": "@jupyter-widgets/controls",
            "_model_module_version": "1.5.0",
            "_model_name": "ProgressStyleModel",
            "_view_count": null,
            "_view_module": "@jupyter-widgets/base",
            "_view_module_version": "1.2.0",
            "_view_name": "StyleView",
            "bar_color": null,
            "description_width": ""
          }
        },
        "4b5e9de4114b4ce4b49204fb9fb11b02": {
          "model_module": "@jupyter-widgets/base",
          "model_name": "LayoutModel",
          "model_module_version": "1.2.0",
          "state": {
            "_model_module": "@jupyter-widgets/base",
            "_model_module_version": "1.2.0",
            "_model_name": "LayoutModel",
            "_view_count": null,
            "_view_module": "@jupyter-widgets/base",
            "_view_module_version": "1.2.0",
            "_view_name": "LayoutView",
            "align_content": null,
            "align_items": null,
            "align_self": null,
            "border": null,
            "bottom": null,
            "display": null,
            "flex": null,
            "flex_flow": null,
            "grid_area": null,
            "grid_auto_columns": null,
            "grid_auto_flow": null,
            "grid_auto_rows": null,
            "grid_column": null,
            "grid_gap": null,
            "grid_row": null,
            "grid_template_areas": null,
            "grid_template_columns": null,
            "grid_template_rows": null,
            "height": null,
            "justify_content": null,
            "justify_items": null,
            "left": null,
            "margin": null,
            "max_height": null,
            "max_width": null,
            "min_height": null,
            "min_width": null,
            "object_fit": null,
            "object_position": null,
            "order": null,
            "overflow": null,
            "overflow_x": null,
            "overflow_y": null,
            "padding": null,
            "right": null,
            "top": null,
            "visibility": null,
            "width": null
          }
        },
        "65ac0b4c3d7a4aaca913a3a9d28e07f2": {
          "model_module": "@jupyter-widgets/controls",
          "model_name": "DescriptionStyleModel",
          "model_module_version": "1.5.0",
          "state": {
            "_model_module": "@jupyter-widgets/controls",
            "_model_module_version": "1.5.0",
            "_model_name": "DescriptionStyleModel",
            "_view_count": null,
            "_view_module": "@jupyter-widgets/base",
            "_view_module_version": "1.2.0",
            "_view_name": "StyleView",
            "description_width": ""
          }
        }
      }
    }
  },
  "nbformat": 4,
  "nbformat_minor": 5
}